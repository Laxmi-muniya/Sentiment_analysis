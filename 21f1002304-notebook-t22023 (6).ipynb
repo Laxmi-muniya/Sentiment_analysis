{
 "cells": [
  {
   "cell_type": "markdown",
   "id": "5ddb2e54",
   "metadata": {
    "papermill": {
     "duration": 0.022931,
     "end_time": "2023-08-08T03:11:19.810507",
     "exception": false,
     "start_time": "2023-08-08T03:11:19.787576",
     "status": "completed"
    },
    "tags": []
   },
   "source": [
    "#  SENTIMENT PREDICTION \n"
   ]
  },
  {
   "cell_type": "code",
   "execution_count": 1,
   "id": "226d0774",
   "metadata": {
    "_cell_guid": "b1076dfc-b9ad-4769-8c92-a6c4dae69d19",
    "_uuid": "8f2839f25d086af736a60e9eeb907d3b93b6e0e5",
    "execution": {
     "iopub.execute_input": "2023-08-08T03:11:19.857141Z",
     "iopub.status.busy": "2023-08-08T03:11:19.856686Z",
     "iopub.status.idle": "2023-08-08T03:11:19.872291Z",
     "shell.execute_reply": "2023-08-08T03:11:19.871189Z"
    },
    "papermill": {
     "duration": 0.041726,
     "end_time": "2023-08-08T03:11:19.874726",
     "exception": false,
     "start_time": "2023-08-08T03:11:19.833000",
     "status": "completed"
    },
    "tags": []
   },
   "outputs": [
    {
     "name": "stdout",
     "output_type": "stream",
     "text": [
      "/kaggle/input/sentiment-prediction-on-movie-reviews/movies.csv\n",
      "/kaggle/input/sentiment-prediction-on-movie-reviews/sample.csv\n",
      "/kaggle/input/sentiment-prediction-on-movie-reviews/train.csv\n",
      "/kaggle/input/sentiment-prediction-on-movie-reviews/test.csv\n"
     ]
    }
   ],
   "source": [
    "# This Python 3 environment comes with many helpful analytics libraries installed\n",
    "# It is defined by the kaggle/python Docker image: https://github.com/kaggle/docker-python\n",
    "# For example, here's several helpful packages to load\n",
    "\n",
    "import numpy as np # linear algebra\n",
    "import pandas as pd # data processing, CSV file I/O (e.g. pd.read_csv)\n",
    "\n",
    "# Input data files are available in the read-only \"../input/\" directory\n",
    "# For example, running this (by clicking run or pressing Shift+Enter) will list all files under the input directory\n",
    "\n",
    "import os\n",
    "for dirname, _, filenames in os.walk('/kaggle/input'):\n",
    "    for filename in filenames:\n",
    "        print(os.path.join(dirname, filename))\n",
    "\n",
    "# You can write up to 20GB to the current directory (/kaggle/working/) that gets preserved as output when you create a version using \"Save & Run All\" \n",
    "# You can also write temporary files to /kaggle/temp/, but they won't be saved outside of the current session"
   ]
  },
  {
   "cell_type": "markdown",
   "id": "9e048585",
   "metadata": {
    "papermill": {
     "duration": 0.022097,
     "end_time": "2023-08-08T03:11:19.919211",
     "exception": false,
     "start_time": "2023-08-08T03:11:19.897114",
     "status": "completed"
    },
    "tags": []
   },
   "source": [
    "# Loading the data."
   ]
  },
  {
   "cell_type": "code",
   "execution_count": 2,
   "id": "04a3a529",
   "metadata": {
    "execution": {
     "iopub.execute_input": "2023-08-08T03:11:19.966456Z",
     "iopub.status.busy": "2023-08-08T03:11:19.965352Z",
     "iopub.status.idle": "2023-08-08T03:11:22.209695Z",
     "shell.execute_reply": "2023-08-08T03:11:22.208839Z"
    },
    "papermill": {
     "duration": 2.270604,
     "end_time": "2023-08-08T03:11:22.212409",
     "exception": false,
     "start_time": "2023-08-08T03:11:19.941805",
     "status": "completed"
    },
    "tags": []
   },
   "outputs": [],
   "source": [
    "movie=pd.read_csv(\"/kaggle/input/sentiment-prediction-on-movie-reviews/movies.csv\")\n",
    "sample=pd.read_csv(\"/kaggle/input/sentiment-prediction-on-movie-reviews/sample.csv\")\n",
    "train=pd.read_csv(\"/kaggle/input/sentiment-prediction-on-movie-reviews/train.csv\")\n",
    "test=pd.read_csv(\"/kaggle/input/sentiment-prediction-on-movie-reviews/test.csv\")"
   ]
  },
  {
   "cell_type": "markdown",
   "id": "593eea5c",
   "metadata": {
    "papermill": {
     "duration": 0.024046,
     "end_time": "2023-08-08T03:11:22.259326",
     "exception": false,
     "start_time": "2023-08-08T03:11:22.235280",
     "status": "completed"
    },
    "tags": []
   },
   "source": [
    "# The shapes of Movie, train, test and sample data. "
   ]
  },
  {
   "cell_type": "code",
   "execution_count": 3,
   "id": "75fb1512",
   "metadata": {
    "execution": {
     "iopub.execute_input": "2023-08-08T03:11:22.307052Z",
     "iopub.status.busy": "2023-08-08T03:11:22.306592Z",
     "iopub.status.idle": "2023-08-08T03:11:22.313032Z",
     "shell.execute_reply": "2023-08-08T03:11:22.311889Z"
    },
    "papermill": {
     "duration": 0.033232,
     "end_time": "2023-08-08T03:11:22.315442",
     "exception": false,
     "start_time": "2023-08-08T03:11:22.282210",
     "status": "completed"
    },
    "tags": []
   },
   "outputs": [
    {
     "name": "stdout",
     "output_type": "stream",
     "text": [
      "Movie:  (143258, 14)\n",
      "Sample:  (55315, 2)\n",
      "train:  (162758, 5)\n",
      "test:  (55315, 4)\n"
     ]
    }
   ],
   "source": [
    "print('Movie: ',movie.shape)\n",
    "print('Sample: ',sample.shape)\n",
    "print('train: ',train.shape)\n",
    "print('test: ',test.shape)"
   ]
  },
  {
   "cell_type": "markdown",
   "id": "bc4f2cbb",
   "metadata": {
    "papermill": {
     "duration": 0.022417,
     "end_time": "2023-08-08T03:11:22.360394",
     "exception": false,
     "start_time": "2023-08-08T03:11:22.337977",
     "status": "completed"
    },
    "tags": []
   },
   "source": [
    "# Features in the datasets."
   ]
  },
  {
   "cell_type": "code",
   "execution_count": 4,
   "id": "bfca1ca7",
   "metadata": {
    "execution": {
     "iopub.execute_input": "2023-08-08T03:11:22.407208Z",
     "iopub.status.busy": "2023-08-08T03:11:22.406487Z",
     "iopub.status.idle": "2023-08-08T03:11:22.412845Z",
     "shell.execute_reply": "2023-08-08T03:11:22.411526Z"
    },
    "papermill": {
     "duration": 0.032618,
     "end_time": "2023-08-08T03:11:22.415263",
     "exception": false,
     "start_time": "2023-08-08T03:11:22.382645",
     "status": "completed"
    },
    "tags": []
   },
   "outputs": [
    {
     "name": "stdout",
     "output_type": "stream",
     "text": [
      "Index(['movieid', 'title', 'audienceScore', 'rating', 'ratingContents',\n",
      "       'releaseDateTheaters', 'releaseDateStreaming', 'runtimeMinutes',\n",
      "       'genre', 'originalLanguage', 'director', 'boxOffice', 'distributor',\n",
      "       'soundType'],\n",
      "      dtype='object')\n",
      "Index(['movieid', 'reviewerName', 'isFrequentReviewer', 'reviewText',\n",
      "       'sentiment'],\n",
      "      dtype='object')\n",
      "Index(['movieid', 'reviewerName', 'isTopCritic', 'reviewText'], dtype='object')\n"
     ]
    }
   ],
   "source": [
    "print(movie.columns)\n",
    "print(train.columns)\n",
    "print(test.columns)"
   ]
  },
  {
   "cell_type": "markdown",
   "id": "7ad9b6b4",
   "metadata": {
    "papermill": {
     "duration": 0.02215,
     "end_time": "2023-08-08T03:11:22.459994",
     "exception": false,
     "start_time": "2023-08-08T03:11:22.437844",
     "status": "completed"
    },
    "tags": []
   },
   "source": [
    "# Cheking sample columns."
   ]
  },
  {
   "cell_type": "code",
   "execution_count": 5,
   "id": "720bb384",
   "metadata": {
    "execution": {
     "iopub.execute_input": "2023-08-08T03:11:22.507902Z",
     "iopub.status.busy": "2023-08-08T03:11:22.507099Z",
     "iopub.status.idle": "2023-08-08T03:11:22.515110Z",
     "shell.execute_reply": "2023-08-08T03:11:22.514094Z"
    },
    "papermill": {
     "duration": 0.034518,
     "end_time": "2023-08-08T03:11:22.517699",
     "exception": false,
     "start_time": "2023-08-08T03:11:22.483181",
     "status": "completed"
    },
    "tags": []
   },
   "outputs": [
    {
     "data": {
      "text/plain": [
       "Index(['id', 'sentiment'], dtype='object')"
      ]
     },
     "execution_count": 5,
     "metadata": {},
     "output_type": "execute_result"
    }
   ],
   "source": [
    "sample.columns"
   ]
  },
  {
   "cell_type": "markdown",
   "id": "250ce05e",
   "metadata": {
    "papermill": {
     "duration": 0.022706,
     "end_time": "2023-08-08T03:11:22.564436",
     "exception": false,
     "start_time": "2023-08-08T03:11:22.541730",
     "status": "completed"
    },
    "tags": []
   },
   "source": [
    "#  Cheking movie data ."
   ]
  },
  {
   "cell_type": "code",
   "execution_count": 6,
   "id": "f5df2f92",
   "metadata": {
    "execution": {
     "iopub.execute_input": "2023-08-08T03:11:22.611543Z",
     "iopub.status.busy": "2023-08-08T03:11:22.611157Z",
     "iopub.status.idle": "2023-08-08T03:11:23.135368Z",
     "shell.execute_reply": "2023-08-08T03:11:23.134554Z"
    },
    "papermill": {
     "duration": 0.550624,
     "end_time": "2023-08-08T03:11:23.137789",
     "exception": false,
     "start_time": "2023-08-08T03:11:22.587165",
     "status": "completed"
    },
    "tags": []
   },
   "outputs": [
    {
     "data": {
      "text/plain": [
       "movieid                      0\n",
       "title                        0\n",
       "audienceScore            70010\n",
       "rating                  129267\n",
       "ratingContents          129267\n",
       "releaseDateTheaters     112485\n",
       "releaseDateStreaming     63838\n",
       "runtimeMinutes           13827\n",
       "genre                    11083\n",
       "originalLanguage         13858\n",
       "director                     0\n",
       "boxOffice               128515\n",
       "distributor             120253\n",
       "soundType               127341\n",
       "dtype: int64"
      ]
     },
     "execution_count": 6,
     "metadata": {},
     "output_type": "execute_result"
    }
   ],
   "source": [
    "movie.isna().sum()"
   ]
  },
  {
   "cell_type": "code",
   "execution_count": 7,
   "id": "c9a5825f",
   "metadata": {
    "execution": {
     "iopub.execute_input": "2023-08-08T03:11:23.185409Z",
     "iopub.status.busy": "2023-08-08T03:11:23.184968Z",
     "iopub.status.idle": "2023-08-08T03:11:23.331302Z",
     "shell.execute_reply": "2023-08-08T03:11:23.330143Z"
    },
    "papermill": {
     "duration": 0.173304,
     "end_time": "2023-08-08T03:11:23.333966",
     "exception": false,
     "start_time": "2023-08-08T03:11:23.160662",
     "status": "completed"
    },
    "tags": []
   },
   "outputs": [
    {
     "data": {
      "text/plain": [
       "escape_the_terminator_tyler_durden_astonish         367\n",
       "silent_mystery_the_terminator                        17\n",
       "crimson_james_t._kirk_marty_mcfly_hulk               17\n",
       "darth_vader_dazzling_courageous_holly_golightly      16\n",
       "rocky_balboa_wonder_woman_majestic_emerald           16\n",
       "                                                   ... \n",
       "anakin_skywalker_frodo_baggins_t-800_black_widow      1\n",
       "phantom_hannibal_lecter_don_vito_corleone_pirate      1\n",
       "v_bruce_wayne_stardust                                1\n",
       "mystery_lara_croft_tony_montana                       1\n",
       "wonder_hermione_granger_hulk_v                        1\n",
       "Name: movieid, Length: 126404, dtype: int64"
      ]
     },
     "execution_count": 7,
     "metadata": {},
     "output_type": "execute_result"
    }
   ],
   "source": [
    "movie['movieid'].value_counts()"
   ]
  },
  {
   "cell_type": "markdown",
   "id": "fc0eb6fb",
   "metadata": {
    "papermill": {
     "duration": 0.022426,
     "end_time": "2023-08-08T03:11:23.379312",
     "exception": false,
     "start_time": "2023-08-08T03:11:23.356886",
     "status": "completed"
    },
    "tags": []
   },
   "source": [
    "#  ****Findings from train data****"
   ]
  },
  {
   "cell_type": "markdown",
   "id": "f9d3a578",
   "metadata": {
    "papermill": {
     "duration": 0.022518,
     "end_time": "2023-08-08T03:11:23.425031",
     "exception": false,
     "start_time": "2023-08-08T03:11:23.402513",
     "status": "completed"
    },
    "tags": []
   },
   "source": [
    "# Checking for missing values."
   ]
  },
  {
   "cell_type": "code",
   "execution_count": 8,
   "id": "35e4e439",
   "metadata": {
    "execution": {
     "iopub.execute_input": "2023-08-08T03:11:23.472472Z",
     "iopub.status.busy": "2023-08-08T03:11:23.472069Z",
     "iopub.status.idle": "2023-08-08T03:11:23.690515Z",
     "shell.execute_reply": "2023-08-08T03:11:23.689312Z"
    },
    "papermill": {
     "duration": 0.245404,
     "end_time": "2023-08-08T03:11:23.693223",
     "exception": false,
     "start_time": "2023-08-08T03:11:23.447819",
     "status": "completed"
    },
    "tags": []
   },
   "outputs": [
    {
     "data": {
      "text/plain": [
       "movieid                  0\n",
       "reviewerName             0\n",
       "isFrequentReviewer       0\n",
       "reviewText            6447\n",
       "sentiment                0\n",
       "dtype: int64"
      ]
     },
     "execution_count": 8,
     "metadata": {},
     "output_type": "execute_result"
    }
   ],
   "source": [
    "train.isna().sum()"
   ]
  },
  {
   "cell_type": "markdown",
   "id": "f84409e8",
   "metadata": {
    "papermill": {
     "duration": 0.022657,
     "end_time": "2023-08-08T03:11:23.738810",
     "exception": false,
     "start_time": "2023-08-08T03:11:23.716153",
     "status": "completed"
    },
    "tags": []
   },
   "source": [
    "# Count of different movieid's in train data."
   ]
  },
  {
   "cell_type": "code",
   "execution_count": 9,
   "id": "531ca248",
   "metadata": {
    "execution": {
     "iopub.execute_input": "2023-08-08T03:11:23.787698Z",
     "iopub.status.busy": "2023-08-08T03:11:23.787282Z",
     "iopub.status.idle": "2023-08-08T03:11:23.835030Z",
     "shell.execute_reply": "2023-08-08T03:11:23.833973Z"
    },
    "papermill": {
     "duration": 0.074856,
     "end_time": "2023-08-08T03:11:23.837511",
     "exception": false,
     "start_time": "2023-08-08T03:11:23.762655",
     "status": "completed"
    },
    "tags": []
   },
   "outputs": [
    {
     "data": {
      "text/plain": [
       "escape_the_terminator_tyler_durden_astonish    708\n",
       "fantasy_forrest_gump_intrigue                  245\n",
       "james_t._kirk_marty_mcfly_astonish             186\n",
       "marvelous_lara_croft_luke_skywalker            140\n",
       "michael_corleone_v_marty_mcfly_tony_stark      138\n",
       "                                              ... \n",
       "james_bond_legend_marty_mcfly_elegant            1\n",
       "myriad_aurora_edward_scissorhands                1\n",
       "mystic_ferris_bueller_spectacular                1\n",
       "crimson_velvet                                   1\n",
       "forrest_gump_fantasy_epic                        1\n",
       "Name: movieid, Length: 16812, dtype: int64"
      ]
     },
     "execution_count": 9,
     "metadata": {},
     "output_type": "execute_result"
    }
   ],
   "source": [
    "train['movieid'].value_counts()"
   ]
  },
  {
   "cell_type": "markdown",
   "id": "5d0d0dde",
   "metadata": {
    "papermill": {
     "duration": 0.023048,
     "end_time": "2023-08-08T03:11:23.883968",
     "exception": false,
     "start_time": "2023-08-08T03:11:23.860920",
     "status": "completed"
    },
    "tags": []
   },
   "source": [
    "# overview of train dataset."
   ]
  },
  {
   "cell_type": "code",
   "execution_count": 10,
   "id": "738df583",
   "metadata": {
    "execution": {
     "iopub.execute_input": "2023-08-08T03:11:23.941932Z",
     "iopub.status.busy": "2023-08-08T03:11:23.941343Z",
     "iopub.status.idle": "2023-08-08T03:11:23.966075Z",
     "shell.execute_reply": "2023-08-08T03:11:23.964914Z"
    },
    "papermill": {
     "duration": 0.059442,
     "end_time": "2023-08-08T03:11:23.968514",
     "exception": false,
     "start_time": "2023-08-08T03:11:23.909072",
     "status": "completed"
    },
    "tags": []
   },
   "outputs": [
    {
     "data": {
      "text/html": [
       "<div>\n",
       "<style scoped>\n",
       "    .dataframe tbody tr th:only-of-type {\n",
       "        vertical-align: middle;\n",
       "    }\n",
       "\n",
       "    .dataframe tbody tr th {\n",
       "        vertical-align: top;\n",
       "    }\n",
       "\n",
       "    .dataframe thead th {\n",
       "        text-align: right;\n",
       "    }\n",
       "</style>\n",
       "<table border=\"1\" class=\"dataframe\">\n",
       "  <thead>\n",
       "    <tr style=\"text-align: right;\">\n",
       "      <th></th>\n",
       "      <th>movieid</th>\n",
       "      <th>reviewerName</th>\n",
       "      <th>isFrequentReviewer</th>\n",
       "      <th>reviewText</th>\n",
       "      <th>sentiment</th>\n",
       "    </tr>\n",
       "  </thead>\n",
       "  <tbody>\n",
       "    <tr>\n",
       "      <th>0</th>\n",
       "      <td>marvelous_pirate</td>\n",
       "      <td>Benjamin Henry</td>\n",
       "      <td>False</td>\n",
       "      <td>Henry Selick’s first movie since 2009’s Corali...</td>\n",
       "      <td>POSITIVE</td>\n",
       "    </tr>\n",
       "    <tr>\n",
       "      <th>1</th>\n",
       "      <td>tony_montana_frodo_baggins_v_rocky_balboa</td>\n",
       "      <td>Felicia Lopez</td>\n",
       "      <td>False</td>\n",
       "      <td>With a cast that reads like the Vogue Oscar pa...</td>\n",
       "      <td>NEGATIVE</td>\n",
       "    </tr>\n",
       "    <tr>\n",
       "      <th>2</th>\n",
       "      <td>darth_vader_katniss_everdeen_sorcerer_donnie_d...</td>\n",
       "      <td>Mr. Charles Burgess</td>\n",
       "      <td>True</td>\n",
       "      <td>Creed II does not give us anything but another...</td>\n",
       "      <td>POSITIVE</td>\n",
       "    </tr>\n",
       "    <tr>\n",
       "      <th>3</th>\n",
       "      <td>lara_croft_glimmer</td>\n",
       "      <td>Ryan Barrett</td>\n",
       "      <td>False</td>\n",
       "      <td>I know what you're thinking, but this is no Li...</td>\n",
       "      <td>POSITIVE</td>\n",
       "    </tr>\n",
       "    <tr>\n",
       "      <th>4</th>\n",
       "      <td>jason_bourne_surreal_the_terminator_indiana_jones</td>\n",
       "      <td>Alexander Glover</td>\n",
       "      <td>False</td>\n",
       "      <td>Director Fernando Meirelles tells the story wi...</td>\n",
       "      <td>POSITIVE</td>\n",
       "    </tr>\n",
       "  </tbody>\n",
       "</table>\n",
       "</div>"
      ],
      "text/plain": [
       "                                             movieid         reviewerName  \\\n",
       "0                                   marvelous_pirate       Benjamin Henry   \n",
       "1          tony_montana_frodo_baggins_v_rocky_balboa        Felicia Lopez   \n",
       "2  darth_vader_katniss_everdeen_sorcerer_donnie_d...  Mr. Charles Burgess   \n",
       "3                                 lara_croft_glimmer         Ryan Barrett   \n",
       "4  jason_bourne_surreal_the_terminator_indiana_jones     Alexander Glover   \n",
       "\n",
       "   isFrequentReviewer                                         reviewText  \\\n",
       "0               False  Henry Selick’s first movie since 2009’s Corali...   \n",
       "1               False  With a cast that reads like the Vogue Oscar pa...   \n",
       "2                True  Creed II does not give us anything but another...   \n",
       "3               False  I know what you're thinking, but this is no Li...   \n",
       "4               False  Director Fernando Meirelles tells the story wi...   \n",
       "\n",
       "  sentiment  \n",
       "0  POSITIVE  \n",
       "1  NEGATIVE  \n",
       "2  POSITIVE  \n",
       "3  POSITIVE  \n",
       "4  POSITIVE  "
      ]
     },
     "execution_count": 10,
     "metadata": {},
     "output_type": "execute_result"
    }
   ],
   "source": [
    "train.head()"
   ]
  },
  {
   "cell_type": "markdown",
   "id": "ee9067ee",
   "metadata": {
    "papermill": {
     "duration": 0.02349,
     "end_time": "2023-08-08T03:11:24.015911",
     "exception": false,
     "start_time": "2023-08-08T03:11:23.992421",
     "status": "completed"
    },
    "tags": []
   },
   "source": [
    "# Comparing between counts of positive and negative sentiments in train dataset."
   ]
  },
  {
   "cell_type": "code",
   "execution_count": 11,
   "id": "98fabf64",
   "metadata": {
    "execution": {
     "iopub.execute_input": "2023-08-08T03:11:24.065664Z",
     "iopub.status.busy": "2023-08-08T03:11:24.065285Z",
     "iopub.status.idle": "2023-08-08T03:11:24.429372Z",
     "shell.execute_reply": "2023-08-08T03:11:24.428461Z"
    },
    "papermill": {
     "duration": 0.391908,
     "end_time": "2023-08-08T03:11:24.431752",
     "exception": false,
     "start_time": "2023-08-08T03:11:24.039844",
     "status": "completed"
    },
    "tags": []
   },
   "outputs": [
    {
     "data": {
      "text/plain": [
       "<Axes: ylabel='Count'>"
      ]
     },
     "execution_count": 11,
     "metadata": {},
     "output_type": "execute_result"
    },
    {
     "data": {
      "image/png": "[encoded data removed]",
      "text/plain": [
       "<Figure size 640x480 with 1 Axes>"
      ]
     },
     "metadata": {},
     "output_type": "display_data"
    }
   ],
   "source": [
    "train['sentiment'].value_counts().plot(kind='bar', ylabel='Count', rot=0)"
   ]
  },
  {
   "cell_type": "markdown",
   "id": "4bb99cb5",
   "metadata": {
    "papermill": {
     "duration": 0.024001,
     "end_time": "2023-08-08T03:11:24.480174",
     "exception": false,
     "start_time": "2023-08-08T03:11:24.456173",
     "status": "completed"
    },
    "tags": []
   },
   "source": [
    "# Comparing betwwen frequent and not frequent reviewer in train data."
   ]
  },
  {
   "cell_type": "code",
   "execution_count": 12,
   "id": "1b26cdaa",
   "metadata": {
    "execution": {
     "iopub.execute_input": "2023-08-08T03:11:24.532795Z",
     "iopub.status.busy": "2023-08-08T03:11:24.532173Z",
     "iopub.status.idle": "2023-08-08T03:11:24.689038Z",
     "shell.execute_reply": "2023-08-08T03:11:24.687943Z"
    },
    "papermill": {
     "duration": 0.188207,
     "end_time": "2023-08-08T03:11:24.693519",
     "exception": false,
     "start_time": "2023-08-08T03:11:24.505312",
     "status": "completed"
    },
    "tags": []
   },
   "outputs": [
    {
     "data": {
      "text/plain": [
       "<Axes: ylabel='isFrequentReviewer'>"
      ]
     },
     "execution_count": 12,
     "metadata": {},
     "output_type": "execute_result"
    },
    {
     "data": {
      "image/png": "[encoded data removed]",
      "text/plain": [
       "<Figure size 640x480 with 1 Axes>"
      ]
     },
     "metadata": {},
     "output_type": "display_data"
    }
   ],
   "source": [
    "train['isFrequentReviewer'].value_counts().plot(kind='pie',autopct=\"%1.1f%%\")"
   ]
  },
  {
   "cell_type": "markdown",
   "id": "780acdbd",
   "metadata": {
    "papermill": {
     "duration": 0.027056,
     "end_time": "2023-08-08T03:11:24.773187",
     "exception": false,
     "start_time": "2023-08-08T03:11:24.746131",
     "status": "completed"
    },
    "tags": []
   },
   "source": [
    "# Cheking outliers in review column."
   ]
  },
  {
   "cell_type": "code",
   "execution_count": 13,
   "id": "9cc7f775",
   "metadata": {
    "execution": {
     "iopub.execute_input": "2023-08-08T03:11:24.827260Z",
     "iopub.status.busy": "2023-08-08T03:11:24.826839Z",
     "iopub.status.idle": "2023-08-08T03:11:25.106515Z",
     "shell.execute_reply": "2023-08-08T03:11:25.105258Z"
    },
    "papermill": {
     "duration": 0.310612,
     "end_time": "2023-08-08T03:11:25.108960",
     "exception": false,
     "start_time": "2023-08-08T03:11:24.798348",
     "status": "completed"
    },
    "tags": []
   },
   "outputs": [
    {
     "data": {
      "text/plain": [
       "<Axes: ylabel='Count'>"
      ]
     },
     "execution_count": 13,
     "metadata": {},
     "output_type": "execute_result"
    },
    {
     "data": {
      "image/png": "[encoded data removed]",
      "text/plain": [
       "<Figure size 640x480 with 1 Axes>"
      ]
     },
     "metadata": {},
     "output_type": "display_data"
    }
   ],
   "source": [
    "\n",
    "train['reviewerName'].value_counts().plot(kind='box', ylabel='Count', rot=0)"
   ]
  },
  {
   "cell_type": "markdown",
   "id": "7c2cec2e",
   "metadata": {
    "papermill": {
     "duration": 0.029119,
     "end_time": "2023-08-08T03:11:25.163999",
     "exception": false,
     "start_time": "2023-08-08T03:11:25.134880",
     "status": "completed"
    },
    "tags": []
   },
   "source": [
    "# Count of different reviewerName."
   ]
  },
  {
   "cell_type": "code",
   "execution_count": 14,
   "id": "dbf36d1d",
   "metadata": {
    "execution": {
     "iopub.execute_input": "2023-08-08T03:11:25.218713Z",
     "iopub.status.busy": "2023-08-08T03:11:25.218142Z",
     "iopub.status.idle": "2023-08-08T03:11:25.253503Z",
     "shell.execute_reply": "2023-08-08T03:11:25.252399Z"
    },
    "papermill": {
     "duration": 0.066111,
     "end_time": "2023-08-08T03:11:25.255713",
     "exception": false,
     "start_time": "2023-08-08T03:11:25.189602",
     "status": "completed"
    },
    "tags": []
   },
   "outputs": [
    {
     "data": {
      "text/plain": [
       "Sherri Morrison      962\n",
       "Veronica Serrano     952\n",
       "Mrs. Vickie Young    827\n",
       "Kristy Ferguson      822\n",
       "Heather Pena         797\n",
       "                    ... \n",
       "Ashley Munoz           1\n",
       "Ryan Dean              1\n",
       "Joanna Li              1\n",
       "Jason Carroll          1\n",
       "Chad Mueller           1\n",
       "Name: reviewerName, Length: 4482, dtype: int64"
      ]
     },
     "execution_count": 14,
     "metadata": {},
     "output_type": "execute_result"
    }
   ],
   "source": [
    "\n",
    "train['reviewerName'].value_counts()"
   ]
  },
  {
   "cell_type": "markdown",
   "id": "48c42b4d",
   "metadata": {
    "papermill": {
     "duration": 0.028772,
     "end_time": "2023-08-08T03:11:25.311869",
     "exception": false,
     "start_time": "2023-08-08T03:11:25.283097",
     "status": "completed"
    },
    "tags": []
   },
   "source": [
    "# Insights of train data."
   ]
  },
  {
   "cell_type": "code",
   "execution_count": 15,
   "id": "b7462325",
   "metadata": {
    "execution": {
     "iopub.execute_input": "2023-08-08T03:11:25.365106Z",
     "iopub.status.busy": "2023-08-08T03:11:25.364659Z",
     "iopub.status.idle": "2023-08-08T03:11:25.686722Z",
     "shell.execute_reply": "2023-08-08T03:11:25.685244Z"
    },
    "papermill": {
     "duration": 0.351782,
     "end_time": "2023-08-08T03:11:25.689502",
     "exception": false,
     "start_time": "2023-08-08T03:11:25.337720",
     "status": "completed"
    },
    "tags": []
   },
   "outputs": [
    {
     "data": {
      "text/html": [
       "<div>\n",
       "<style scoped>\n",
       "    .dataframe tbody tr th:only-of-type {\n",
       "        vertical-align: middle;\n",
       "    }\n",
       "\n",
       "    .dataframe tbody tr th {\n",
       "        vertical-align: top;\n",
       "    }\n",
       "\n",
       "    .dataframe thead th {\n",
       "        text-align: right;\n",
       "    }\n",
       "</style>\n",
       "<table border=\"1\" class=\"dataframe\">\n",
       "  <thead>\n",
       "    <tr style=\"text-align: right;\">\n",
       "      <th></th>\n",
       "      <th>movieid</th>\n",
       "      <th>reviewerName</th>\n",
       "      <th>isFrequentReviewer</th>\n",
       "      <th>reviewText</th>\n",
       "      <th>sentiment</th>\n",
       "    </tr>\n",
       "  </thead>\n",
       "  <tbody>\n",
       "    <tr>\n",
       "      <th>count</th>\n",
       "      <td>162758</td>\n",
       "      <td>162758</td>\n",
       "      <td>162758</td>\n",
       "      <td>156311</td>\n",
       "      <td>162758</td>\n",
       "    </tr>\n",
       "    <tr>\n",
       "      <th>unique</th>\n",
       "      <td>16812</td>\n",
       "      <td>4482</td>\n",
       "      <td>2</td>\n",
       "      <td>155071</td>\n",
       "      <td>2</td>\n",
       "    </tr>\n",
       "    <tr>\n",
       "      <th>top</th>\n",
       "      <td>escape_the_terminator_tyler_durden_astonish</td>\n",
       "      <td>Sherri Morrison</td>\n",
       "      <td>False</td>\n",
       "      <td>Parental Content Review</td>\n",
       "      <td>POSITIVE</td>\n",
       "    </tr>\n",
       "    <tr>\n",
       "      <th>freq</th>\n",
       "      <td>708</td>\n",
       "      <td>962</td>\n",
       "      <td>113189</td>\n",
       "      <td>29</td>\n",
       "      <td>108761</td>\n",
       "    </tr>\n",
       "  </tbody>\n",
       "</table>\n",
       "</div>"
      ],
      "text/plain": [
       "                                            movieid     reviewerName  \\\n",
       "count                                        162758           162758   \n",
       "unique                                        16812             4482   \n",
       "top     escape_the_terminator_tyler_durden_astonish  Sherri Morrison   \n",
       "freq                                            708              962   \n",
       "\n",
       "       isFrequentReviewer               reviewText sentiment  \n",
       "count              162758                   156311    162758  \n",
       "unique                  2                   155071         2  \n",
       "top                 False  Parental Content Review  POSITIVE  \n",
       "freq               113189                       29    108761  "
      ]
     },
     "execution_count": 15,
     "metadata": {},
     "output_type": "execute_result"
    }
   ],
   "source": [
    "train.describe()"
   ]
  },
  {
   "cell_type": "markdown",
   "id": "aa7336fd",
   "metadata": {
    "papermill": {
     "duration": 0.025697,
     "end_time": "2023-08-08T03:11:25.741182",
     "exception": false,
     "start_time": "2023-08-08T03:11:25.715485",
     "status": "completed"
    },
    "tags": []
   },
   "source": [
    "# Filling missing values in train data."
   ]
  },
  {
   "cell_type": "code",
   "execution_count": 16,
   "id": "28a5b7e3",
   "metadata": {
    "execution": {
     "iopub.execute_input": "2023-08-08T03:11:25.795117Z",
     "iopub.status.busy": "2023-08-08T03:11:25.794681Z",
     "iopub.status.idle": "2023-08-08T03:11:26.057934Z",
     "shell.execute_reply": "2023-08-08T03:11:26.056558Z"
    },
    "papermill": {
     "duration": 0.293228,
     "end_time": "2023-08-08T03:11:26.060451",
     "exception": false,
     "start_time": "2023-08-08T03:11:25.767223",
     "status": "completed"
    },
    "tags": []
   },
   "outputs": [
    {
     "name": "stdout",
     "output_type": "stream",
     "text": [
      "(162758, 5)\n"
     ]
    },
    {
     "data": {
      "text/plain": [
       "(162758, 5)"
      ]
     },
     "execution_count": 16,
     "metadata": {},
     "output_type": "execute_result"
    }
   ],
   "source": [
    "print(train.shape)\n",
    "train.fillna('',inplace=True)\n",
    "train.shape"
   ]
  },
  {
   "cell_type": "markdown",
   "id": "f35ac614",
   "metadata": {
    "papermill": {
     "duration": 0.025934,
     "end_time": "2023-08-08T03:11:26.113850",
     "exception": false,
     "start_time": "2023-08-08T03:11:26.087916",
     "status": "completed"
    },
    "tags": []
   },
   "source": [
    "# ****Working on test data.****"
   ]
  },
  {
   "cell_type": "markdown",
   "id": "4ea9df96",
   "metadata": {
    "papermill": {
     "duration": 0.026368,
     "end_time": "2023-08-08T03:11:26.165968",
     "exception": false,
     "start_time": "2023-08-08T03:11:26.139600",
     "status": "completed"
    },
    "tags": []
   },
   "source": [
    "# Checking for null values in test data."
   ]
  },
  {
   "cell_type": "code",
   "execution_count": 17,
   "id": "16c80403",
   "metadata": {
    "execution": {
     "iopub.execute_input": "2023-08-08T03:11:26.219619Z",
     "iopub.status.busy": "2023-08-08T03:11:26.219232Z",
     "iopub.status.idle": "2023-08-08T03:11:26.285269Z",
     "shell.execute_reply": "2023-08-08T03:11:26.284153Z"
    },
    "papermill": {
     "duration": 0.095987,
     "end_time": "2023-08-08T03:11:26.287869",
     "exception": false,
     "start_time": "2023-08-08T03:11:26.191882",
     "status": "completed"
    },
    "tags": []
   },
   "outputs": [
    {
     "data": {
      "text/plain": [
       "movieid            0\n",
       "reviewerName       0\n",
       "isTopCritic        0\n",
       "reviewText      2510\n",
       "dtype: int64"
      ]
     },
     "execution_count": 17,
     "metadata": {},
     "output_type": "execute_result"
    }
   ],
   "source": [
    "test.isna().sum()"
   ]
  },
  {
   "cell_type": "markdown",
   "id": "7385714a",
   "metadata": {
    "papermill": {
     "duration": 0.026672,
     "end_time": "2023-08-08T03:11:26.341004",
     "exception": false,
     "start_time": "2023-08-08T03:11:26.314332",
     "status": "completed"
    },
    "tags": []
   },
   "source": [
    "# The column names are different in train and test data. Renaming the column name in test data."
   ]
  },
  {
   "cell_type": "code",
   "execution_count": 18,
   "id": "ade7cbcd",
   "metadata": {
    "execution": {
     "iopub.execute_input": "2023-08-08T03:11:26.397046Z",
     "iopub.status.busy": "2023-08-08T03:11:26.396597Z",
     "iopub.status.idle": "2023-08-08T03:11:26.406151Z",
     "shell.execute_reply": "2023-08-08T03:11:26.405126Z"
    },
    "papermill": {
     "duration": 0.040288,
     "end_time": "2023-08-08T03:11:26.408526",
     "exception": false,
     "start_time": "2023-08-08T03:11:26.368238",
     "status": "completed"
    },
    "tags": []
   },
   "outputs": [
    {
     "data": {
      "text/plain": [
       "Index(['movieid', 'reviewerName', 'isFrequentReviewer', 'reviewText'], dtype='object')"
      ]
     },
     "execution_count": 18,
     "metadata": {},
     "output_type": "execute_result"
    }
   ],
   "source": [
    "test.rename(columns={'isTopCritic':'isFrequentReviewer'}, inplace=True)\n",
    "test.columns"
   ]
  },
  {
   "cell_type": "markdown",
   "id": "546d70a4",
   "metadata": {
    "papermill": {
     "duration": 0.025857,
     "end_time": "2023-08-08T03:11:26.460608",
     "exception": false,
     "start_time": "2023-08-08T03:11:26.434751",
     "status": "completed"
    },
    "tags": []
   },
   "source": [
    "# Filling missing values in test data. filling empty string as done in train data."
   ]
  },
  {
   "cell_type": "code",
   "execution_count": 19,
   "id": "81dd9010",
   "metadata": {
    "execution": {
     "iopub.execute_input": "2023-08-08T03:11:26.515669Z",
     "iopub.status.busy": "2023-08-08T03:11:26.514875Z",
     "iopub.status.idle": "2023-08-08T03:11:26.528668Z",
     "shell.execute_reply": "2023-08-08T03:11:26.527830Z"
    },
    "papermill": {
     "duration": 0.044176,
     "end_time": "2023-08-08T03:11:26.531249",
     "exception": false,
     "start_time": "2023-08-08T03:11:26.487073",
     "status": "completed"
    },
    "tags": []
   },
   "outputs": [],
   "source": [
    "test['reviewText'].fillna('', inplace=True)"
   ]
  },
  {
   "cell_type": "code",
   "execution_count": 20,
   "id": "81496d99",
   "metadata": {
    "execution": {
     "iopub.execute_input": "2023-08-08T03:11:26.586601Z",
     "iopub.status.busy": "2023-08-08T03:11:26.585874Z",
     "iopub.status.idle": "2023-08-08T03:11:26.590772Z",
     "shell.execute_reply": "2023-08-08T03:11:26.589963Z"
    },
    "papermill": {
     "duration": 0.035077,
     "end_time": "2023-08-08T03:11:26.592780",
     "exception": false,
     "start_time": "2023-08-08T03:11:26.557703",
     "status": "completed"
    },
    "tags": []
   },
   "outputs": [
    {
     "name": "stdout",
     "output_type": "stream",
     "text": [
      "(55315, 4)\n"
     ]
    }
   ],
   "source": [
    "print(test.shape)"
   ]
  },
  {
   "cell_type": "markdown",
   "id": "f7455065",
   "metadata": {
    "papermill": {
     "duration": 0.026348,
     "end_time": "2023-08-08T03:11:26.646330",
     "exception": false,
     "start_time": "2023-08-08T03:11:26.619982",
     "status": "completed"
    },
    "tags": []
   },
   "source": [
    "# Splitting the train data into independent and dependent features."
   ]
  },
  {
   "cell_type": "code",
   "execution_count": 21,
   "id": "a39ff611",
   "metadata": {
    "execution": {
     "iopub.execute_input": "2023-08-08T03:11:26.701960Z",
     "iopub.status.busy": "2023-08-08T03:11:26.701200Z",
     "iopub.status.idle": "2023-08-08T03:11:26.721515Z",
     "shell.execute_reply": "2023-08-08T03:11:26.720269Z"
    },
    "papermill": {
     "duration": 0.051482,
     "end_time": "2023-08-08T03:11:26.724586",
     "exception": false,
     "start_time": "2023-08-08T03:11:26.673104",
     "status": "completed"
    },
    "tags": []
   },
   "outputs": [],
   "source": [
    "y = train['sentiment']\n",
    "X = train.drop(['sentiment'], axis=1)"
   ]
  },
  {
   "cell_type": "markdown",
   "id": "f3473990",
   "metadata": {
    "papermill": {
     "duration": 0.026566,
     "end_time": "2023-08-08T03:11:26.777849",
     "exception": false,
     "start_time": "2023-08-08T03:11:26.751283",
     "status": "completed"
    },
    "tags": []
   },
   "source": [
    "# Splitting train data into independent and dependent features."
   ]
  },
  {
   "cell_type": "code",
   "execution_count": 22,
   "id": "5bcc243c",
   "metadata": {
    "execution": {
     "iopub.execute_input": "2023-08-08T03:11:26.832812Z",
     "iopub.status.busy": "2023-08-08T03:11:26.832392Z",
     "iopub.status.idle": "2023-08-08T03:11:28.474511Z",
     "shell.execute_reply": "2023-08-08T03:11:28.473199Z"
    },
    "papermill": {
     "duration": 1.672907,
     "end_time": "2023-08-08T03:11:28.477150",
     "exception": false,
     "start_time": "2023-08-08T03:11:26.804243",
     "status": "completed"
    },
    "tags": []
   },
   "outputs": [
    {
     "name": "stdout",
     "output_type": "stream",
     "text": [
      "(130206, 4) (130206,)\n",
      "(32552, 4) (32552,)\n"
     ]
    }
   ],
   "source": [
    "from sklearn.model_selection import train_test_split\n",
    "\n",
    "X_train, X_test, y_train, y_test = train_test_split(X, y, test_size=0.2, random_state=22, stratify=y)\n",
    "print(X_train.shape, y_train.shape)\n",
    "print(X_test.shape, y_test.shape)"
   ]
  },
  {
   "cell_type": "markdown",
   "id": "97573d48",
   "metadata": {
    "papermill": {
     "duration": 0.026549,
     "end_time": "2023-08-08T03:11:28.531347",
     "exception": false,
     "start_time": "2023-08-08T03:11:28.504798",
     "status": "completed"
    },
    "tags": []
   },
   "source": [
    "# Converting categorical columns into numerical values."
   ]
  },
  {
   "cell_type": "code",
   "execution_count": 23,
   "id": "e55f9ce4",
   "metadata": {
    "execution": {
     "iopub.execute_input": "2023-08-08T03:11:28.588135Z",
     "iopub.status.busy": "2023-08-08T03:11:28.587390Z",
     "iopub.status.idle": "2023-08-08T03:11:30.949688Z",
     "shell.execute_reply": "2023-08-08T03:11:30.948463Z"
    },
    "papermill": {
     "duration": 2.392763,
     "end_time": "2023-08-08T03:11:30.951963",
     "exception": false,
     "start_time": "2023-08-08T03:11:28.559200",
     "status": "completed"
    },
    "tags": []
   },
   "outputs": [
    {
     "name": "stdout",
     "output_type": "stream",
     "text": [
      "(130206, 1516) (130206,)\n",
      "(32552, 1516) (32552,)\n",
      "(55315, 1516)\n"
     ]
    }
   ],
   "source": [
    "from sklearn.feature_extraction.text import TfidfVectorizer\n",
    "from sklearn.feature_extraction.text import CountVectorizer\n",
    "\n",
    "vec_reviewer = CountVectorizer()\n",
    "vec_reviewer.fit(X_train['reviewerName'].values)\n",
    "\n",
    "\n",
    "X_train_reviewer = vec_reviewer.transform(X_train['reviewerName'].values)\n",
    "X_test_reviewer = vec_reviewer.transform(X_test['reviewerName'].values)\n",
    "test_reviewer = vec_reviewer.transform(test['reviewerName'].values)\n",
    "\n",
    "print(X_train_reviewer.shape, y_train.shape)\n",
    "print(X_test_reviewer.shape, y_test.shape)\n",
    "print(test_reviewer.shape)"
   ]
  },
  {
   "cell_type": "code",
   "execution_count": 24,
   "id": "421eb096",
   "metadata": {
    "execution": {
     "iopub.execute_input": "2023-08-08T03:11:31.007546Z",
     "iopub.status.busy": "2023-08-08T03:11:31.006849Z",
     "iopub.status.idle": "2023-08-08T03:11:33.210912Z",
     "shell.execute_reply": "2023-08-08T03:11:33.209694Z"
    },
    "papermill": {
     "duration": 2.235004,
     "end_time": "2023-08-08T03:11:33.213647",
     "exception": false,
     "start_time": "2023-08-08T03:11:30.978643",
     "status": "completed"
    },
    "tags": []
   },
   "outputs": [
    {
     "name": "stdout",
     "output_type": "stream",
     "text": [
      "(130206, 16576) (130206,)\n",
      "(32552, 16576) (32552,)\n",
      "(55315, 16576)\n"
     ]
    }
   ],
   "source": [
    "vec_movieid = CountVectorizer()\n",
    "vec_movieid.fit(X_train['movieid'].values)\n",
    "\n",
    "X_train_movieid = vec_movieid.transform(X_train['movieid'].values)\n",
    "X_test_movieid = vec_movieid.transform(X_test['movieid'].values)\n",
    "test_movieid = vec_movieid.transform(test['movieid'].values)\n",
    "\n",
    "print(X_train_movieid.shape, y_train.shape)\n",
    "print(X_test_movieid.shape, y_test.shape)\n",
    "print(test_movieid.shape)"
   ]
  },
  {
   "cell_type": "code",
   "execution_count": 25,
   "id": "0328c762",
   "metadata": {
    "execution": {
     "iopub.execute_input": "2023-08-08T03:11:33.269957Z",
     "iopub.status.busy": "2023-08-08T03:11:33.269510Z",
     "iopub.status.idle": "2023-08-08T03:12:44.487928Z",
     "shell.execute_reply": "2023-08-08T03:12:44.486564Z"
    },
    "papermill": {
     "duration": 71.276033,
     "end_time": "2023-08-08T03:12:44.516708",
     "exception": false,
     "start_time": "2023-08-08T03:11:33.240675",
     "status": "completed"
    },
    "tags": []
   },
   "outputs": [
    {
     "name": "stdout",
     "output_type": "stream",
     "text": [
      "(130206, 10000) (130206,)\n",
      "(32552, 10000) (32552,)\n",
      "(55315, 10000)\n"
     ]
    }
   ],
   "source": [
    "vec_text = TfidfVectorizer(min_df=5,ngram_range=(1,4), max_features=10000)\n",
    "vec_text.fit(X_train['reviewText'].values)\n",
    "\n",
    "X_train_text = vec_text.transform(X_train['reviewText'].values)\n",
    "X_test_text = vec_text.transform(X_test['reviewText'].values)\n",
    "test_text = vec_text.transform(test['reviewText'].values)\n",
    "\n",
    "print(X_train_text.shape, y_train.shape)\n",
    "print(X_test_text.shape, y_test.shape)\n",
    "print(test_text.shape)"
   ]
  },
  {
   "cell_type": "code",
   "execution_count": 26,
   "id": "d2868e19",
   "metadata": {
    "execution": {
     "iopub.execute_input": "2023-08-08T03:12:44.572790Z",
     "iopub.status.busy": "2023-08-08T03:12:44.572337Z",
     "iopub.status.idle": "2023-08-08T03:12:44.595307Z",
     "shell.execute_reply": "2023-08-08T03:12:44.593839Z"
    },
    "papermill": {
     "duration": 0.053876,
     "end_time": "2023-08-08T03:12:44.597658",
     "exception": false,
     "start_time": "2023-08-08T03:12:44.543782",
     "status": "completed"
    },
    "tags": []
   },
   "outputs": [
    {
     "name": "stdout",
     "output_type": "stream",
     "text": [
      "(130206, 2) (130206,)\n",
      "(32552, 2) (32552,)\n",
      "(55315, 2)\n"
     ]
    }
   ],
   "source": [
    "from sklearn.preprocessing import OneHotEncoder\n",
    "\n",
    "ohe_freq = OneHotEncoder()\n",
    "ohe_freq.fit(X_train['isFrequentReviewer'].values.reshape(-1,1))\n",
    "\n",
    "X_train_freq = ohe_freq.transform(X_train['isFrequentReviewer'].values.reshape(-1,1))\n",
    "X_test_freq = ohe_freq.transform(X_test['isFrequentReviewer'].values.reshape(-1,1))\n",
    "test_freq = ohe_freq.transform(test['isFrequentReviewer'].values.reshape(-1,1))\n",
    "\n",
    "print(X_train_freq.shape, y_train.shape)\n",
    "print(X_test_freq.shape, y_test.shape)\n",
    "print(test_freq.shape)"
   ]
  },
  {
   "cell_type": "code",
   "execution_count": 27,
   "id": "7145b414",
   "metadata": {
    "execution": {
     "iopub.execute_input": "2023-08-08T03:12:44.656243Z",
     "iopub.status.busy": "2023-08-08T03:12:44.655308Z",
     "iopub.status.idle": "2023-08-08T03:12:44.716737Z",
     "shell.execute_reply": "2023-08-08T03:12:44.715592Z"
    },
    "papermill": {
     "duration": 0.094111,
     "end_time": "2023-08-08T03:12:44.719272",
     "exception": false,
     "start_time": "2023-08-08T03:12:44.625161",
     "status": "completed"
    },
    "tags": []
   },
   "outputs": [
    {
     "name": "stdout",
     "output_type": "stream",
     "text": [
      "(130206,) (32552,)\n"
     ]
    }
   ],
   "source": [
    "from sklearn.preprocessing import LabelEncoder\n",
    "\n",
    "le = LabelEncoder()\n",
    "le.fit(y_train)\n",
    "\n",
    "y_tr = le.transform(y_train)\n",
    "y_te = le.transform(y_test)\n",
    "\n",
    "print(y_tr.shape, y_te.shape)"
   ]
  },
  {
   "cell_type": "markdown",
   "id": "84cbecbe",
   "metadata": {
    "papermill": {
     "duration": 0.026505,
     "end_time": "2023-08-08T03:12:44.772676",
     "exception": false,
     "start_time": "2023-08-08T03:12:44.746171",
     "status": "completed"
    },
    "tags": []
   },
   "source": [
    "# Merging the transformed columns."
   ]
  },
  {
   "cell_type": "code",
   "execution_count": 28,
   "id": "ae11d00b",
   "metadata": {
    "execution": {
     "iopub.execute_input": "2023-08-08T03:12:44.828960Z",
     "iopub.status.busy": "2023-08-08T03:12:44.828531Z",
     "iopub.status.idle": "2023-08-08T03:12:44.926167Z",
     "shell.execute_reply": "2023-08-08T03:12:44.924549Z"
    },
    "papermill": {
     "duration": 0.129027,
     "end_time": "2023-08-08T03:12:44.928675",
     "exception": false,
     "start_time": "2023-08-08T03:12:44.799648",
     "status": "completed"
    },
    "tags": []
   },
   "outputs": [
    {
     "name": "stdout",
     "output_type": "stream",
     "text": [
      "(130206, 28094) (130206,)\n",
      "(32552, 28094) (32552,)\n",
      "(55315, 28094)\n"
     ]
    }
   ],
   "source": [
    "from scipy.sparse import hstack\n",
    "\n",
    "X_tr = hstack((X_train_movieid, X_train_reviewer, X_train_freq, X_train_text))\n",
    "X_te = hstack((X_test_movieid, X_test_reviewer, X_test_freq, X_test_text))\n",
    "te = hstack((test_movieid, test_reviewer, test_freq, test_text))\n",
    "\n",
    "print(X_tr.shape, y_tr.shape)\n",
    "print(X_te.shape, y_te.shape)\n",
    "print(te.shape)"
   ]
  },
  {
   "cell_type": "markdown",
   "id": "7b4376a1",
   "metadata": {
    "papermill": {
     "duration": 0.026685,
     "end_time": "2023-08-08T03:12:44.982831",
     "exception": false,
     "start_time": "2023-08-08T03:12:44.956146",
     "status": "completed"
    },
    "tags": []
   },
   "source": [
    "# Base models comparisons.( Logistic regression, Random Forest and Xgboot Classifier)"
   ]
  },
  {
   "cell_type": "code",
   "execution_count": 29,
   "id": "c579539a",
   "metadata": {
    "execution": {
     "iopub.execute_input": "2023-08-08T03:12:45.039628Z",
     "iopub.status.busy": "2023-08-08T03:12:45.038565Z",
     "iopub.status.idle": "2023-08-08T03:12:53.326006Z",
     "shell.execute_reply": "2023-08-08T03:12:53.324539Z"
    },
    "papermill": {
     "duration": 8.322012,
     "end_time": "2023-08-08T03:12:53.332139",
     "exception": false,
     "start_time": "2023-08-08T03:12:45.010127",
     "status": "completed"
    },
    "tags": []
   },
   "outputs": [
    {
     "name": "stderr",
     "output_type": "stream",
     "text": [
      "/opt/conda/lib/python3.10/site-packages/sklearn/linear_model/_logistic.py:458: ConvergenceWarning: lbfgs failed to converge (status=1):\n",
      "STOP: TOTAL NO. of ITERATIONS REACHED LIMIT.\n",
      "\n",
      "Increase the number of iterations (max_iter) or scale the data as shown in:\n",
      "    https://scikit-learn.org/stable/modules/preprocessing.html\n",
      "Please also refer to the documentation for alternative solver options:\n",
      "    https://scikit-learn.org/stable/modules/linear_model.html#logistic-regression\n",
      "  n_iter_i = _check_optimize_result(\n"
     ]
    },
    {
     "data": {
      "text/html": [
       "<style>#sk-container-id-1 {color: black;background-color: white;}#sk-container-id-1 pre{padding: 0;}#sk-container-id-1 div.sk-toggleable {background-color: white;}#sk-container-id-1 label.sk-toggleable__label {cursor: pointer;display: block;width: 100%;margin-bottom: 0;padding: 0.3em;box-sizing: border-box;text-align: center;}#sk-container-id-1 label.sk-toggleable__label-arrow:before {content: \"▸\";float: left;margin-right: 0.25em;color: #696969;}#sk-container-id-1 label.sk-toggleable__label-arrow:hover:before {color: black;}#sk-container-id-1 div.sk-estimator:hover label.sk-toggleable__label-arrow:before {color: black;}#sk-container-id-1 div.sk-toggleable__content {max-height: 0;max-width: 0;overflow: hidden;text-align: left;background-color: #f0f8ff;}#sk-container-id-1 div.sk-toggleable__content pre {margin: 0.2em;color: black;border-radius: 0.25em;background-color: #f0f8ff;}#sk-container-id-1 input.sk-toggleable__control:checked~div.sk-toggleable__content {max-height: 200px;max-width: 100%;overflow: auto;}#sk-container-id-1 input.sk-toggleable__control:checked~label.sk-toggleable__label-arrow:before {content: \"▾\";}#sk-container-id-1 div.sk-estimator input.sk-toggleable__control:checked~label.sk-toggleable__label {background-color: #d4ebff;}#sk-container-id-1 div.sk-label input.sk-toggleable__control:checked~label.sk-toggleable__label {background-color: #d4ebff;}#sk-container-id-1 input.sk-hidden--visually {border: 0;clip: rect(1px 1px 1px 1px);clip: rect(1px, 1px, 1px, 1px);height: 1px;margin: -1px;overflow: hidden;padding: 0;position: absolute;width: 1px;}#sk-container-id-1 div.sk-estimator {font-family: monospace;background-color: #f0f8ff;border: 1px dotted black;border-radius: 0.25em;box-sizing: border-box;margin-bottom: 0.5em;}#sk-container-id-1 div.sk-estimator:hover {background-color: #d4ebff;}#sk-container-id-1 div.sk-parallel-item::after {content: \"\";width: 100%;border-bottom: 1px solid gray;flex-grow: 1;}#sk-container-id-1 div.sk-label:hover label.sk-toggleable__label {background-color: #d4ebff;}#sk-container-id-1 div.sk-serial::before {content: \"\";position: absolute;border-left: 1px solid gray;box-sizing: border-box;top: 0;bottom: 0;left: 50%;z-index: 0;}#sk-container-id-1 div.sk-serial {display: flex;flex-direction: column;align-items: center;background-color: white;padding-right: 0.2em;padding-left: 0.2em;position: relative;}#sk-container-id-1 div.sk-item {position: relative;z-index: 1;}#sk-container-id-1 div.sk-parallel {display: flex;align-items: stretch;justify-content: center;background-color: white;position: relative;}#sk-container-id-1 div.sk-item::before, #sk-container-id-1 div.sk-parallel-item::before {content: \"\";position: absolute;border-left: 1px solid gray;box-sizing: border-box;top: 0;bottom: 0;left: 50%;z-index: -1;}#sk-container-id-1 div.sk-parallel-item {display: flex;flex-direction: column;z-index: 1;position: relative;background-color: white;}#sk-container-id-1 div.sk-parallel-item:first-child::after {align-self: flex-end;width: 50%;}#sk-container-id-1 div.sk-parallel-item:last-child::after {align-self: flex-start;width: 50%;}#sk-container-id-1 div.sk-parallel-item:only-child::after {width: 0;}#sk-container-id-1 div.sk-dashed-wrapped {border: 1px dashed gray;margin: 0 0.4em 0.5em 0.4em;box-sizing: border-box;padding-bottom: 0.4em;background-color: white;}#sk-container-id-1 div.sk-label label {font-family: monospace;font-weight: bold;display: inline-block;line-height: 1.2em;}#sk-container-id-1 div.sk-label-container {text-align: center;}#sk-container-id-1 div.sk-container {/* jupyter's `normalize.less` sets `[hidden] { display: none; }` but bootstrap.min.css set `[hidden] { display: none !important; }` so we also need the `!important` here to be able to override the default hidden behavior on the sphinx rendered scikit-learn.org. See: https://github.com/scikit-learn/scikit-learn/issues/21755 */display: inline-block !important;position: relative;}#sk-container-id-1 div.sk-text-repr-fallback {display: none;}</style><div id=\"sk-container-id-1\" class=\"sk-top-container\"><div class=\"sk-text-repr-fallback\"><pre>LogisticRegression()</pre><b>In a Jupyter environment, please rerun this cell to show the HTML representation or trust the notebook. <br />On GitHub, the HTML representation is unable to render, please try loading this page with nbviewer.org.</b></div><div class=\"sk-container\" hidden><div class=\"sk-item\"><div class=\"sk-estimator sk-toggleable\"><input class=\"sk-toggleable__control sk-hidden--visually\" id=\"sk-estimator-id-1\" type=\"checkbox\" checked><label for=\"sk-estimator-id-1\" class=\"sk-toggleable__label sk-toggleable__label-arrow\">LogisticRegression</label><div class=\"sk-toggleable__content\"><pre>LogisticRegression()</pre></div></div></div></div></div>"
      ],
      "text/plain": [
       "LogisticRegression()"
      ]
     },
     "execution_count": 29,
     "metadata": {},
     "output_type": "execute_result"
    }
   ],
   "source": [
    "from sklearn.linear_model import LogisticRegression\n",
    "\n",
    "lr = LogisticRegression()\n",
    "\n",
    "lr.fit(X_tr, y_tr)"
   ]
  },
  {
   "cell_type": "code",
   "execution_count": 30,
   "id": "07e30480",
   "metadata": {
    "execution": {
     "iopub.execute_input": "2023-08-08T03:12:53.444885Z",
     "iopub.status.busy": "2023-08-08T03:12:53.444448Z",
     "iopub.status.idle": "2023-08-08T03:12:53.459235Z",
     "shell.execute_reply": "2023-08-08T03:12:53.458221Z"
    },
    "papermill": {
     "duration": 0.046139,
     "end_time": "2023-08-08T03:12:53.461521",
     "exception": false,
     "start_time": "2023-08-08T03:12:53.415382",
     "status": "completed"
    },
    "tags": []
   },
   "outputs": [
    {
     "data": {
      "text/plain": [
       "0.8283976406979602"
      ]
     },
     "execution_count": 30,
     "metadata": {},
     "output_type": "execute_result"
    }
   ],
   "source": [
    "from sklearn.metrics import accuracy_score\n",
    "\n",
    "y_pr = lr.predict(X_te)\n",
    "\n",
    "accuracy_score(y_te, y_pr)"
   ]
  },
  {
   "cell_type": "code",
   "execution_count": 31,
   "id": "e3ab1081",
   "metadata": {
    "execution": {
     "iopub.execute_input": "2023-08-08T03:12:53.518877Z",
     "iopub.status.busy": "2023-08-08T03:12:53.518064Z",
     "iopub.status.idle": "2023-08-08T03:15:11.399867Z",
     "shell.execute_reply": "2023-08-08T03:15:11.398550Z"
    },
    "papermill": {
     "duration": 137.939322,
     "end_time": "2023-08-08T03:15:11.428280",
     "exception": false,
     "start_time": "2023-08-08T03:12:53.488958",
     "status": "completed"
    },
    "tags": []
   },
   "outputs": [
    {
     "data": {
      "text/html": [
       "<style>#sk-container-id-2 {color: black;background-color: white;}#sk-container-id-2 pre{padding: 0;}#sk-container-id-2 div.sk-toggleable {background-color: white;}#sk-container-id-2 label.sk-toggleable__label {cursor: pointer;display: block;width: 100%;margin-bottom: 0;padding: 0.3em;box-sizing: border-box;text-align: center;}#sk-container-id-2 label.sk-toggleable__label-arrow:before {content: \"▸\";float: left;margin-right: 0.25em;color: #696969;}#sk-container-id-2 label.sk-toggleable__label-arrow:hover:before {color: black;}#sk-container-id-2 div.sk-estimator:hover label.sk-toggleable__label-arrow:before {color: black;}#sk-container-id-2 div.sk-toggleable__content {max-height: 0;max-width: 0;overflow: hidden;text-align: left;background-color: #f0f8ff;}#sk-container-id-2 div.sk-toggleable__content pre {margin: 0.2em;color: black;border-radius: 0.25em;background-color: #f0f8ff;}#sk-container-id-2 input.sk-toggleable__control:checked~div.sk-toggleable__content {max-height: 200px;max-width: 100%;overflow: auto;}#sk-container-id-2 input.sk-toggleable__control:checked~label.sk-toggleable__label-arrow:before {content: \"▾\";}#sk-container-id-2 div.sk-estimator input.sk-toggleable__control:checked~label.sk-toggleable__label {background-color: #d4ebff;}#sk-container-id-2 div.sk-label input.sk-toggleable__control:checked~label.sk-toggleable__label {background-color: #d4ebff;}#sk-container-id-2 input.sk-hidden--visually {border: 0;clip: rect(1px 1px 1px 1px);clip: rect(1px, 1px, 1px, 1px);height: 1px;margin: -1px;overflow: hidden;padding: 0;position: absolute;width: 1px;}#sk-container-id-2 div.sk-estimator {font-family: monospace;background-color: #f0f8ff;border: 1px dotted black;border-radius: 0.25em;box-sizing: border-box;margin-bottom: 0.5em;}#sk-container-id-2 div.sk-estimator:hover {background-color: #d4ebff;}#sk-container-id-2 div.sk-parallel-item::after {content: \"\";width: 100%;border-bottom: 1px solid gray;flex-grow: 1;}#sk-container-id-2 div.sk-label:hover label.sk-toggleable__label {background-color: #d4ebff;}#sk-container-id-2 div.sk-serial::before {content: \"\";position: absolute;border-left: 1px solid gray;box-sizing: border-box;top: 0;bottom: 0;left: 50%;z-index: 0;}#sk-container-id-2 div.sk-serial {display: flex;flex-direction: column;align-items: center;background-color: white;padding-right: 0.2em;padding-left: 0.2em;position: relative;}#sk-container-id-2 div.sk-item {position: relative;z-index: 1;}#sk-container-id-2 div.sk-parallel {display: flex;align-items: stretch;justify-content: center;background-color: white;position: relative;}#sk-container-id-2 div.sk-item::before, #sk-container-id-2 div.sk-parallel-item::before {content: \"\";position: absolute;border-left: 1px solid gray;box-sizing: border-box;top: 0;bottom: 0;left: 50%;z-index: -1;}#sk-container-id-2 div.sk-parallel-item {display: flex;flex-direction: column;z-index: 1;position: relative;background-color: white;}#sk-container-id-2 div.sk-parallel-item:first-child::after {align-self: flex-end;width: 50%;}#sk-container-id-2 div.sk-parallel-item:last-child::after {align-self: flex-start;width: 50%;}#sk-container-id-2 div.sk-parallel-item:only-child::after {width: 0;}#sk-container-id-2 div.sk-dashed-wrapped {border: 1px dashed gray;margin: 0 0.4em 0.5em 0.4em;box-sizing: border-box;padding-bottom: 0.4em;background-color: white;}#sk-container-id-2 div.sk-label label {font-family: monospace;font-weight: bold;display: inline-block;line-height: 1.2em;}#sk-container-id-2 div.sk-label-container {text-align: center;}#sk-container-id-2 div.sk-container {/* jupyter's `normalize.less` sets `[hidden] { display: none; }` but bootstrap.min.css set `[hidden] { display: none !important; }` so we also need the `!important` here to be able to override the default hidden behavior on the sphinx rendered scikit-learn.org. See: https://github.com/scikit-learn/scikit-learn/issues/21755 */display: inline-block !important;position: relative;}#sk-container-id-2 div.sk-text-repr-fallback {display: none;}</style><div id=\"sk-container-id-2\" class=\"sk-top-container\"><div class=\"sk-text-repr-fallback\"><pre>RandomForestClassifier(n_estimators=20)</pre><b>In a Jupyter environment, please rerun this cell to show the HTML representation or trust the notebook. <br />On GitHub, the HTML representation is unable to render, please try loading this page with nbviewer.org.</b></div><div class=\"sk-container\" hidden><div class=\"sk-item\"><div class=\"sk-estimator sk-toggleable\"><input class=\"sk-toggleable__control sk-hidden--visually\" id=\"sk-estimator-id-2\" type=\"checkbox\" checked><label for=\"sk-estimator-id-2\" class=\"sk-toggleable__label sk-toggleable__label-arrow\">RandomForestClassifier</label><div class=\"sk-toggleable__content\"><pre>RandomForestClassifier(n_estimators=20)</pre></div></div></div></div></div>"
      ],
      "text/plain": [
       "RandomForestClassifier(n_estimators=20)"
      ]
     },
     "execution_count": 31,
     "metadata": {},
     "output_type": "execute_result"
    }
   ],
   "source": [
    "from sklearn.ensemble import RandomForestClassifier\n",
    "\n",
    "rf = RandomForestClassifier(n_estimators=20)\n",
    "rf.fit(X_tr, y_tr)"
   ]
  },
  {
   "cell_type": "code",
   "execution_count": 32,
   "id": "a058ae10",
   "metadata": {
    "execution": {
     "iopub.execute_input": "2023-08-08T03:15:11.485200Z",
     "iopub.status.busy": "2023-08-08T03:15:11.484742Z",
     "iopub.status.idle": "2023-08-08T03:15:12.372512Z",
     "shell.execute_reply": "2023-08-08T03:15:12.371440Z"
    },
    "papermill": {
     "duration": 0.919361,
     "end_time": "2023-08-08T03:15:12.375019",
     "exception": false,
     "start_time": "2023-08-08T03:15:11.455658",
     "status": "completed"
    },
    "tags": []
   },
   "outputs": [
    {
     "data": {
      "text/plain": [
       "0.7468972720570165"
      ]
     },
     "execution_count": 32,
     "metadata": {},
     "output_type": "execute_result"
    }
   ],
   "source": [
    "from sklearn.metrics import accuracy_score\n",
    "\n",
    "y_pr2 = rf.predict(X_te)\n",
    "\n",
    "accuracy_score(y_te, y_pr2)"
   ]
  },
  {
   "cell_type": "code",
   "execution_count": 33,
   "id": "6bf0d157",
   "metadata": {
    "execution": {
     "iopub.execute_input": "2023-08-08T03:15:12.432554Z",
     "iopub.status.busy": "2023-08-08T03:15:12.431798Z",
     "iopub.status.idle": "2023-08-08T03:16:15.880623Z",
     "shell.execute_reply": "2023-08-08T03:16:15.879429Z"
    },
    "papermill": {
     "duration": 63.500333,
     "end_time": "2023-08-08T03:16:15.903003",
     "exception": false,
     "start_time": "2023-08-08T03:15:12.402670",
     "status": "completed"
    },
    "tags": []
   },
   "outputs": [
    {
     "data": {
      "text/html": [
       "<style>#sk-container-id-3 {color: black;background-color: white;}#sk-container-id-3 pre{padding: 0;}#sk-container-id-3 div.sk-toggleable {background-color: white;}#sk-container-id-3 label.sk-toggleable__label {cursor: pointer;display: block;width: 100%;margin-bottom: 0;padding: 0.3em;box-sizing: border-box;text-align: center;}#sk-container-id-3 label.sk-toggleable__label-arrow:before {content: \"▸\";float: left;margin-right: 0.25em;color: #696969;}#sk-container-id-3 label.sk-toggleable__label-arrow:hover:before {color: black;}#sk-container-id-3 div.sk-estimator:hover label.sk-toggleable__label-arrow:before {color: black;}#sk-container-id-3 div.sk-toggleable__content {max-height: 0;max-width: 0;overflow: hidden;text-align: left;background-color: #f0f8ff;}#sk-container-id-3 div.sk-toggleable__content pre {margin: 0.2em;color: black;border-radius: 0.25em;background-color: #f0f8ff;}#sk-container-id-3 input.sk-toggleable__control:checked~div.sk-toggleable__content {max-height: 200px;max-width: 100%;overflow: auto;}#sk-container-id-3 input.sk-toggleable__control:checked~label.sk-toggleable__label-arrow:before {content: \"▾\";}#sk-container-id-3 div.sk-estimator input.sk-toggleable__control:checked~label.sk-toggleable__label {background-color: #d4ebff;}#sk-container-id-3 div.sk-label input.sk-toggleable__control:checked~label.sk-toggleable__label {background-color: #d4ebff;}#sk-container-id-3 input.sk-hidden--visually {border: 0;clip: rect(1px 1px 1px 1px);clip: rect(1px, 1px, 1px, 1px);height: 1px;margin: -1px;overflow: hidden;padding: 0;position: absolute;width: 1px;}#sk-container-id-3 div.sk-estimator {font-family: monospace;background-color: #f0f8ff;border: 1px dotted black;border-radius: 0.25em;box-sizing: border-box;margin-bottom: 0.5em;}#sk-container-id-3 div.sk-estimator:hover {background-color: #d4ebff;}#sk-container-id-3 div.sk-parallel-item::after {content: \"\";width: 100%;border-bottom: 1px solid gray;flex-grow: 1;}#sk-container-id-3 div.sk-label:hover label.sk-toggleable__label {background-color: #d4ebff;}#sk-container-id-3 div.sk-serial::before {content: \"\";position: absolute;border-left: 1px solid gray;box-sizing: border-box;top: 0;bottom: 0;left: 50%;z-index: 0;}#sk-container-id-3 div.sk-serial {display: flex;flex-direction: column;align-items: center;background-color: white;padding-right: 0.2em;padding-left: 0.2em;position: relative;}#sk-container-id-3 div.sk-item {position: relative;z-index: 1;}#sk-container-id-3 div.sk-parallel {display: flex;align-items: stretch;justify-content: center;background-color: white;position: relative;}#sk-container-id-3 div.sk-item::before, #sk-container-id-3 div.sk-parallel-item::before {content: \"\";position: absolute;border-left: 1px solid gray;box-sizing: border-box;top: 0;bottom: 0;left: 50%;z-index: -1;}#sk-container-id-3 div.sk-parallel-item {display: flex;flex-direction: column;z-index: 1;position: relative;background-color: white;}#sk-container-id-3 div.sk-parallel-item:first-child::after {align-self: flex-end;width: 50%;}#sk-container-id-3 div.sk-parallel-item:last-child::after {align-self: flex-start;width: 50%;}#sk-container-id-3 div.sk-parallel-item:only-child::after {width: 0;}#sk-container-id-3 div.sk-dashed-wrapped {border: 1px dashed gray;margin: 0 0.4em 0.5em 0.4em;box-sizing: border-box;padding-bottom: 0.4em;background-color: white;}#sk-container-id-3 div.sk-label label {font-family: monospace;font-weight: bold;display: inline-block;line-height: 1.2em;}#sk-container-id-3 div.sk-label-container {text-align: center;}#sk-container-id-3 div.sk-container {/* jupyter's `normalize.less` sets `[hidden] { display: none; }` but bootstrap.min.css set `[hidden] { display: none !important; }` so we also need the `!important` here to be able to override the default hidden behavior on the sphinx rendered scikit-learn.org. See: https://github.com/scikit-learn/scikit-learn/issues/21755 */display: inline-block !important;position: relative;}#sk-container-id-3 div.sk-text-repr-fallback {display: none;}</style><div id=\"sk-container-id-3\" class=\"sk-top-container\"><div class=\"sk-text-repr-fallback\"><pre>XGBClassifier(base_score=None, booster=None, callbacks=None,\n",
       "              colsample_bylevel=None, colsample_bynode=None,\n",
       "              colsample_bytree=None, early_stopping_rounds=None,\n",
       "              enable_categorical=False, eval_metric=None, feature_types=None,\n",
       "              gamma=None, gpu_id=None, grow_policy=None, importance_type=None,\n",
       "              interaction_constraints=None, learning_rate=None, max_bin=None,\n",
       "              max_cat_threshold=None, max_cat_to_onehot=None,\n",
       "              max_delta_step=None, max_depth=None, max_leaves=None,\n",
       "              min_child_weight=None, missing=nan, monotone_constraints=None,\n",
       "              n_estimators=100, n_jobs=None, num_parallel_tree=None,\n",
       "              predictor=None, random_state=None, ...)</pre><b>In a Jupyter environment, please rerun this cell to show the HTML representation or trust the notebook. <br />On GitHub, the HTML representation is unable to render, please try loading this page with nbviewer.org.</b></div><div class=\"sk-container\" hidden><div class=\"sk-item\"><div class=\"sk-estimator sk-toggleable\"><input class=\"sk-toggleable__control sk-hidden--visually\" id=\"sk-estimator-id-3\" type=\"checkbox\" checked><label for=\"sk-estimator-id-3\" class=\"sk-toggleable__label sk-toggleable__label-arrow\">XGBClassifier</label><div class=\"sk-toggleable__content\"><pre>XGBClassifier(base_score=None, booster=None, callbacks=None,\n",
       "              colsample_bylevel=None, colsample_bynode=None,\n",
       "              colsample_bytree=None, early_stopping_rounds=None,\n",
       "              enable_categorical=False, eval_metric=None, feature_types=None,\n",
       "              gamma=None, gpu_id=None, grow_policy=None, importance_type=None,\n",
       "              interaction_constraints=None, learning_rate=None, max_bin=None,\n",
       "              max_cat_threshold=None, max_cat_to_onehot=None,\n",
       "              max_delta_step=None, max_depth=None, max_leaves=None,\n",
       "              min_child_weight=None, missing=nan, monotone_constraints=None,\n",
       "              n_estimators=100, n_jobs=None, num_parallel_tree=None,\n",
       "              predictor=None, random_state=None, ...)</pre></div></div></div></div></div>"
      ],
      "text/plain": [
       "XGBClassifier(base_score=None, booster=None, callbacks=None,\n",
       "              colsample_bylevel=None, colsample_bynode=None,\n",
       "              colsample_bytree=None, early_stopping_rounds=None,\n",
       "              enable_categorical=False, eval_metric=None, feature_types=None,\n",
       "              gamma=None, gpu_id=None, grow_policy=None, importance_type=None,\n",
       "              interaction_constraints=None, learning_rate=None, max_bin=None,\n",
       "              max_cat_threshold=None, max_cat_to_onehot=None,\n",
       "              max_delta_step=None, max_depth=None, max_leaves=None,\n",
       "              min_child_weight=None, missing=nan, monotone_constraints=None,\n",
       "              n_estimators=100, n_jobs=None, num_parallel_tree=None,\n",
       "              predictor=None, random_state=None, ...)"
      ]
     },
     "execution_count": 33,
     "metadata": {},
     "output_type": "execute_result"
    }
   ],
   "source": [
    "from xgboost import XGBClassifier\n",
    "\n",
    "xgb = XGBClassifier()\n",
    "\n",
    "xgb.fit(X_tr, y_tr)"
   ]
  },
  {
   "cell_type": "code",
   "execution_count": 34,
   "id": "7d957997",
   "metadata": {
    "execution": {
     "iopub.execute_input": "2023-08-08T03:16:15.961549Z",
     "iopub.status.busy": "2023-08-08T03:16:15.961171Z",
     "iopub.status.idle": "2023-08-08T03:16:16.027987Z",
     "shell.execute_reply": "2023-08-08T03:16:16.026979Z"
    },
    "papermill": {
     "duration": 0.099622,
     "end_time": "2023-08-08T03:16:16.030718",
     "exception": false,
     "start_time": "2023-08-08T03:16:15.931096",
     "status": "completed"
    },
    "tags": []
   },
   "outputs": [
    {
     "data": {
      "text/plain": [
       "0.7487097566969771"
      ]
     },
     "execution_count": 34,
     "metadata": {},
     "output_type": "execute_result"
    }
   ],
   "source": [
    "from sklearn.metrics import accuracy_score\n",
    "\n",
    "y_pr3 = xgb.predict(X_te)\n",
    "\n",
    "accuracy_score(y_te, y_pr3)"
   ]
  },
  {
   "cell_type": "markdown",
   "id": "a53ef44f",
   "metadata": {
    "papermill": {
     "duration": 0.027465,
     "end_time": "2023-08-08T03:16:16.086860",
     "exception": false,
     "start_time": "2023-08-08T03:16:16.059395",
     "status": "completed"
    },
    "tags": []
   },
   "source": [
    "# Pipeline, feature selection and logistic regression."
   ]
  },
  {
   "cell_type": "code",
   "execution_count": 35,
   "id": "6bd4e4b9",
   "metadata": {
    "execution": {
     "iopub.execute_input": "2023-08-08T03:16:16.145195Z",
     "iopub.status.busy": "2023-08-08T03:16:16.144803Z",
     "iopub.status.idle": "2023-08-08T03:16:16.191170Z",
     "shell.execute_reply": "2023-08-08T03:16:16.189968Z"
    },
    "papermill": {
     "duration": 0.078809,
     "end_time": "2023-08-08T03:16:16.193937",
     "exception": false,
     "start_time": "2023-08-08T03:16:16.115128",
     "status": "completed"
    },
    "tags": []
   },
   "outputs": [],
   "source": [
    "from sklearn.pipeline import Pipeline\n",
    "from sklearn.feature_selection import SelectKBest,chi2"
   ]
  },
  {
   "cell_type": "code",
   "execution_count": 36,
   "id": "f689cde2",
   "metadata": {
    "execution": {
     "iopub.execute_input": "2023-08-08T03:16:16.253529Z",
     "iopub.status.busy": "2023-08-08T03:16:16.253125Z",
     "iopub.status.idle": "2023-08-08T03:16:16.257924Z",
     "shell.execute_reply": "2023-08-08T03:16:16.256807Z"
    },
    "papermill": {
     "duration": 0.037295,
     "end_time": "2023-08-08T03:16:16.260140",
     "exception": false,
     "start_time": "2023-08-08T03:16:16.222845",
     "status": "completed"
    },
    "tags": []
   },
   "outputs": [],
   "source": [
    "trf2 = SelectKBest(chi2, k=20000)\n",
    "trf3 = LogisticRegression()"
   ]
  },
  {
   "cell_type": "code",
   "execution_count": 37,
   "id": "7d349c47",
   "metadata": {
    "execution": {
     "iopub.execute_input": "2023-08-08T03:16:16.319248Z",
     "iopub.status.busy": "2023-08-08T03:16:16.318456Z",
     "iopub.status.idle": "2023-08-08T03:16:16.323593Z",
     "shell.execute_reply": "2023-08-08T03:16:16.322508Z"
    },
    "papermill": {
     "duration": 0.037007,
     "end_time": "2023-08-08T03:16:16.325700",
     "exception": false,
     "start_time": "2023-08-08T03:16:16.288693",
     "status": "completed"
    },
    "tags": []
   },
   "outputs": [],
   "source": [
    "pipe1 = Pipeline([\n",
    "    ('trf2', trf2),\n",
    "    ('trf3',trf3)\n",
    "    ])"
   ]
  },
  {
   "cell_type": "code",
   "execution_count": 38,
   "id": "c37dad95",
   "metadata": {
    "execution": {
     "iopub.execute_input": "2023-08-08T03:16:16.384166Z",
     "iopub.status.busy": "2023-08-08T03:16:16.383727Z",
     "iopub.status.idle": "2023-08-08T03:16:23.679211Z",
     "shell.execute_reply": "2023-08-08T03:16:23.677695Z"
    },
    "papermill": {
     "duration": 7.329696,
     "end_time": "2023-08-08T03:16:23.683991",
     "exception": false,
     "start_time": "2023-08-08T03:16:16.354295",
     "status": "completed"
    },
    "tags": []
   },
   "outputs": [
    {
     "name": "stderr",
     "output_type": "stream",
     "text": [
      "/opt/conda/lib/python3.10/site-packages/sklearn/linear_model/_logistic.py:458: ConvergenceWarning: lbfgs failed to converge (status=1):\n",
      "STOP: TOTAL NO. of ITERATIONS REACHED LIMIT.\n",
      "\n",
      "Increase the number of iterations (max_iter) or scale the data as shown in:\n",
      "    https://scikit-learn.org/stable/modules/preprocessing.html\n",
      "Please also refer to the documentation for alternative solver options:\n",
      "    https://scikit-learn.org/stable/modules/linear_model.html#logistic-regression\n",
      "  n_iter_i = _check_optimize_result(\n"
     ]
    },
    {
     "data": {
      "text/html": [
       "<style>#sk-container-id-4 {color: black;background-color: white;}#sk-container-id-4 pre{padding: 0;}#sk-container-id-4 div.sk-toggleable {background-color: white;}#sk-container-id-4 label.sk-toggleable__label {cursor: pointer;display: block;width: 100%;margin-bottom: 0;padding: 0.3em;box-sizing: border-box;text-align: center;}#sk-container-id-4 label.sk-toggleable__label-arrow:before {content: \"▸\";float: left;margin-right: 0.25em;color: #696969;}#sk-container-id-4 label.sk-toggleable__label-arrow:hover:before {color: black;}#sk-container-id-4 div.sk-estimator:hover label.sk-toggleable__label-arrow:before {color: black;}#sk-container-id-4 div.sk-toggleable__content {max-height: 0;max-width: 0;overflow: hidden;text-align: left;background-color: #f0f8ff;}#sk-container-id-4 div.sk-toggleable__content pre {margin: 0.2em;color: black;border-radius: 0.25em;background-color: #f0f8ff;}#sk-container-id-4 input.sk-toggleable__control:checked~div.sk-toggleable__content {max-height: 200px;max-width: 100%;overflow: auto;}#sk-container-id-4 input.sk-toggleable__control:checked~label.sk-toggleable__label-arrow:before {content: \"▾\";}#sk-container-id-4 div.sk-estimator input.sk-toggleable__control:checked~label.sk-toggleable__label {background-color: #d4ebff;}#sk-container-id-4 div.sk-label input.sk-toggleable__control:checked~label.sk-toggleable__label {background-color: #d4ebff;}#sk-container-id-4 input.sk-hidden--visually {border: 0;clip: rect(1px 1px 1px 1px);clip: rect(1px, 1px, 1px, 1px);height: 1px;margin: -1px;overflow: hidden;padding: 0;position: absolute;width: 1px;}#sk-container-id-4 div.sk-estimator {font-family: monospace;background-color: #f0f8ff;border: 1px dotted black;border-radius: 0.25em;box-sizing: border-box;margin-bottom: 0.5em;}#sk-container-id-4 div.sk-estimator:hover {background-color: #d4ebff;}#sk-container-id-4 div.sk-parallel-item::after {content: \"\";width: 100%;border-bottom: 1px solid gray;flex-grow: 1;}#sk-container-id-4 div.sk-label:hover label.sk-toggleable__label {background-color: #d4ebff;}#sk-container-id-4 div.sk-serial::before {content: \"\";position: absolute;border-left: 1px solid gray;box-sizing: border-box;top: 0;bottom: 0;left: 50%;z-index: 0;}#sk-container-id-4 div.sk-serial {display: flex;flex-direction: column;align-items: center;background-color: white;padding-right: 0.2em;padding-left: 0.2em;position: relative;}#sk-container-id-4 div.sk-item {position: relative;z-index: 1;}#sk-container-id-4 div.sk-parallel {display: flex;align-items: stretch;justify-content: center;background-color: white;position: relative;}#sk-container-id-4 div.sk-item::before, #sk-container-id-4 div.sk-parallel-item::before {content: \"\";position: absolute;border-left: 1px solid gray;box-sizing: border-box;top: 0;bottom: 0;left: 50%;z-index: -1;}#sk-container-id-4 div.sk-parallel-item {display: flex;flex-direction: column;z-index: 1;position: relative;background-color: white;}#sk-container-id-4 div.sk-parallel-item:first-child::after {align-self: flex-end;width: 50%;}#sk-container-id-4 div.sk-parallel-item:last-child::after {align-self: flex-start;width: 50%;}#sk-container-id-4 div.sk-parallel-item:only-child::after {width: 0;}#sk-container-id-4 div.sk-dashed-wrapped {border: 1px dashed gray;margin: 0 0.4em 0.5em 0.4em;box-sizing: border-box;padding-bottom: 0.4em;background-color: white;}#sk-container-id-4 div.sk-label label {font-family: monospace;font-weight: bold;display: inline-block;line-height: 1.2em;}#sk-container-id-4 div.sk-label-container {text-align: center;}#sk-container-id-4 div.sk-container {/* jupyter's `normalize.less` sets `[hidden] { display: none; }` but bootstrap.min.css set `[hidden] { display: none !important; }` so we also need the `!important` here to be able to override the default hidden behavior on the sphinx rendered scikit-learn.org. See: https://github.com/scikit-learn/scikit-learn/issues/21755 */display: inline-block !important;position: relative;}#sk-container-id-4 div.sk-text-repr-fallback {display: none;}</style><div id=\"sk-container-id-4\" class=\"sk-top-container\"><div class=\"sk-text-repr-fallback\"><pre>Pipeline(steps=[(&#x27;trf2&#x27;,\n",
       "                 SelectKBest(k=20000,\n",
       "                             score_func=&lt;function chi2 at 0x7dba7505a830&gt;)),\n",
       "                (&#x27;trf3&#x27;, LogisticRegression())])</pre><b>In a Jupyter environment, please rerun this cell to show the HTML representation or trust the notebook. <br />On GitHub, the HTML representation is unable to render, please try loading this page with nbviewer.org.</b></div><div class=\"sk-container\" hidden><div class=\"sk-item sk-dashed-wrapped\"><div class=\"sk-label-container\"><div class=\"sk-label sk-toggleable\"><input class=\"sk-toggleable__control sk-hidden--visually\" id=\"sk-estimator-id-4\" type=\"checkbox\" ><label for=\"sk-estimator-id-4\" class=\"sk-toggleable__label sk-toggleable__label-arrow\">Pipeline</label><div class=\"sk-toggleable__content\"><pre>Pipeline(steps=[(&#x27;trf2&#x27;,\n",
       "                 SelectKBest(k=20000,\n",
       "                             score_func=&lt;function chi2 at 0x7dba7505a830&gt;)),\n",
       "                (&#x27;trf3&#x27;, LogisticRegression())])</pre></div></div></div><div class=\"sk-serial\"><div class=\"sk-item\"><div class=\"sk-estimator sk-toggleable\"><input class=\"sk-toggleable__control sk-hidden--visually\" id=\"sk-estimator-id-5\" type=\"checkbox\" ><label for=\"sk-estimator-id-5\" class=\"sk-toggleable__label sk-toggleable__label-arrow\">SelectKBest</label><div class=\"sk-toggleable__content\"><pre>SelectKBest(k=20000, score_func=&lt;function chi2 at 0x7dba7505a830&gt;)</pre></div></div></div><div class=\"sk-item\"><div class=\"sk-estimator sk-toggleable\"><input class=\"sk-toggleable__control sk-hidden--visually\" id=\"sk-estimator-id-6\" type=\"checkbox\" ><label for=\"sk-estimator-id-6\" class=\"sk-toggleable__label sk-toggleable__label-arrow\">LogisticRegression</label><div class=\"sk-toggleable__content\"><pre>LogisticRegression()</pre></div></div></div></div></div></div></div>"
      ],
      "text/plain": [
       "Pipeline(steps=[('trf2',\n",
       "                 SelectKBest(k=20000,\n",
       "                             score_func=<function chi2 at 0x7dba7505a830>)),\n",
       "                ('trf3', LogisticRegression())])"
      ]
     },
     "execution_count": 38,
     "metadata": {},
     "output_type": "execute_result"
    }
   ],
   "source": [
    "pipe1.fit(X_tr, y_tr)"
   ]
  },
  {
   "cell_type": "code",
   "execution_count": 39,
   "id": "2a8a5651",
   "metadata": {
    "execution": {
     "iopub.execute_input": "2023-08-08T03:16:23.806657Z",
     "iopub.status.busy": "2023-08-08T03:16:23.806264Z",
     "iopub.status.idle": "2023-08-08T03:16:23.819389Z",
     "shell.execute_reply": "2023-08-08T03:16:23.818304Z"
    },
    "papermill": {
     "duration": 0.045667,
     "end_time": "2023-08-08T03:16:23.821687",
     "exception": false,
     "start_time": "2023-08-08T03:16:23.776020",
     "status": "completed"
    },
    "tags": []
   },
   "outputs": [
    {
     "data": {
      "text/html": [
       "<style>#sk-container-id-5 {color: black;background-color: white;}#sk-container-id-5 pre{padding: 0;}#sk-container-id-5 div.sk-toggleable {background-color: white;}#sk-container-id-5 label.sk-toggleable__label {cursor: pointer;display: block;width: 100%;margin-bottom: 0;padding: 0.3em;box-sizing: border-box;text-align: center;}#sk-container-id-5 label.sk-toggleable__label-arrow:before {content: \"▸\";float: left;margin-right: 0.25em;color: #696969;}#sk-container-id-5 label.sk-toggleable__label-arrow:hover:before {color: black;}#sk-container-id-5 div.sk-estimator:hover label.sk-toggleable__label-arrow:before {color: black;}#sk-container-id-5 div.sk-toggleable__content {max-height: 0;max-width: 0;overflow: hidden;text-align: left;background-color: #f0f8ff;}#sk-container-id-5 div.sk-toggleable__content pre {margin: 0.2em;color: black;border-radius: 0.25em;background-color: #f0f8ff;}#sk-container-id-5 input.sk-toggleable__control:checked~div.sk-toggleable__content {max-height: 200px;max-width: 100%;overflow: auto;}#sk-container-id-5 input.sk-toggleable__control:checked~label.sk-toggleable__label-arrow:before {content: \"▾\";}#sk-container-id-5 div.sk-estimator input.sk-toggleable__control:checked~label.sk-toggleable__label {background-color: #d4ebff;}#sk-container-id-5 div.sk-label input.sk-toggleable__control:checked~label.sk-toggleable__label {background-color: #d4ebff;}#sk-container-id-5 input.sk-hidden--visually {border: 0;clip: rect(1px 1px 1px 1px);clip: rect(1px, 1px, 1px, 1px);height: 1px;margin: -1px;overflow: hidden;padding: 0;position: absolute;width: 1px;}#sk-container-id-5 div.sk-estimator {font-family: monospace;background-color: #f0f8ff;border: 1px dotted black;border-radius: 0.25em;box-sizing: border-box;margin-bottom: 0.5em;}#sk-container-id-5 div.sk-estimator:hover {background-color: #d4ebff;}#sk-container-id-5 div.sk-parallel-item::after {content: \"\";width: 100%;border-bottom: 1px solid gray;flex-grow: 1;}#sk-container-id-5 div.sk-label:hover label.sk-toggleable__label {background-color: #d4ebff;}#sk-container-id-5 div.sk-serial::before {content: \"\";position: absolute;border-left: 1px solid gray;box-sizing: border-box;top: 0;bottom: 0;left: 50%;z-index: 0;}#sk-container-id-5 div.sk-serial {display: flex;flex-direction: column;align-items: center;background-color: white;padding-right: 0.2em;padding-left: 0.2em;position: relative;}#sk-container-id-5 div.sk-item {position: relative;z-index: 1;}#sk-container-id-5 div.sk-parallel {display: flex;align-items: stretch;justify-content: center;background-color: white;position: relative;}#sk-container-id-5 div.sk-item::before, #sk-container-id-5 div.sk-parallel-item::before {content: \"\";position: absolute;border-left: 1px solid gray;box-sizing: border-box;top: 0;bottom: 0;left: 50%;z-index: -1;}#sk-container-id-5 div.sk-parallel-item {display: flex;flex-direction: column;z-index: 1;position: relative;background-color: white;}#sk-container-id-5 div.sk-parallel-item:first-child::after {align-self: flex-end;width: 50%;}#sk-container-id-5 div.sk-parallel-item:last-child::after {align-self: flex-start;width: 50%;}#sk-container-id-5 div.sk-parallel-item:only-child::after {width: 0;}#sk-container-id-5 div.sk-dashed-wrapped {border: 1px dashed gray;margin: 0 0.4em 0.5em 0.4em;box-sizing: border-box;padding-bottom: 0.4em;background-color: white;}#sk-container-id-5 div.sk-label label {font-family: monospace;font-weight: bold;display: inline-block;line-height: 1.2em;}#sk-container-id-5 div.sk-label-container {text-align: center;}#sk-container-id-5 div.sk-container {/* jupyter's `normalize.less` sets `[hidden] { display: none; }` but bootstrap.min.css set `[hidden] { display: none !important; }` so we also need the `!important` here to be able to override the default hidden behavior on the sphinx rendered scikit-learn.org. See: https://github.com/scikit-learn/scikit-learn/issues/21755 */display: inline-block !important;position: relative;}#sk-container-id-5 div.sk-text-repr-fallback {display: none;}</style><div id=\"sk-container-id-5\" class=\"sk-top-container\"><div class=\"sk-text-repr-fallback\"><pre>Pipeline(steps=[(&#x27;trf2&#x27;,\n",
       "                 SelectKBest(k=20000,\n",
       "                             score_func=&lt;function chi2 at 0x7dba7505a830&gt;)),\n",
       "                (&#x27;trf3&#x27;, LogisticRegression())])</pre><b>In a Jupyter environment, please rerun this cell to show the HTML representation or trust the notebook. <br />On GitHub, the HTML representation is unable to render, please try loading this page with nbviewer.org.</b></div><div class=\"sk-container\" hidden><div class=\"sk-item sk-dashed-wrapped\"><div class=\"sk-label-container\"><div class=\"sk-label sk-toggleable\"><input class=\"sk-toggleable__control sk-hidden--visually\" id=\"sk-estimator-id-7\" type=\"checkbox\" ><label for=\"sk-estimator-id-7\" class=\"sk-toggleable__label sk-toggleable__label-arrow\">Pipeline</label><div class=\"sk-toggleable__content\"><pre>Pipeline(steps=[(&#x27;trf2&#x27;,\n",
       "                 SelectKBest(k=20000,\n",
       "                             score_func=&lt;function chi2 at 0x7dba7505a830&gt;)),\n",
       "                (&#x27;trf3&#x27;, LogisticRegression())])</pre></div></div></div><div class=\"sk-serial\"><div class=\"sk-item\"><div class=\"sk-estimator sk-toggleable\"><input class=\"sk-toggleable__control sk-hidden--visually\" id=\"sk-estimator-id-8\" type=\"checkbox\" ><label for=\"sk-estimator-id-8\" class=\"sk-toggleable__label sk-toggleable__label-arrow\">SelectKBest</label><div class=\"sk-toggleable__content\"><pre>SelectKBest(k=20000, score_func=&lt;function chi2 at 0x7dba7505a830&gt;)</pre></div></div></div><div class=\"sk-item\"><div class=\"sk-estimator sk-toggleable\"><input class=\"sk-toggleable__control sk-hidden--visually\" id=\"sk-estimator-id-9\" type=\"checkbox\" ><label for=\"sk-estimator-id-9\" class=\"sk-toggleable__label sk-toggleable__label-arrow\">LogisticRegression</label><div class=\"sk-toggleable__content\"><pre>LogisticRegression()</pre></div></div></div></div></div></div></div>"
      ],
      "text/plain": [
       "Pipeline(steps=[('trf2',\n",
       "                 SelectKBest(k=20000,\n",
       "                             score_func=<function chi2 at 0x7dba7505a830>)),\n",
       "                ('trf3', LogisticRegression())])"
      ]
     },
     "execution_count": 39,
     "metadata": {},
     "output_type": "execute_result"
    }
   ],
   "source": [
    "from sklearn import set_config\n",
    "set_config(display='diagram')\n",
    "pipe1"
   ]
  },
  {
   "cell_type": "markdown",
   "id": "32e302c3",
   "metadata": {
    "papermill": {
     "duration": 0.02961,
     "end_time": "2023-08-08T03:16:23.881952",
     "exception": false,
     "start_time": "2023-08-08T03:16:23.852342",
     "status": "completed"
    },
    "tags": []
   },
   "source": [
    "# Predicting sentiment of test data i.e. 20% of train data."
   ]
  },
  {
   "cell_type": "code",
   "execution_count": 40,
   "id": "af521e86",
   "metadata": {
    "execution": {
     "iopub.execute_input": "2023-08-08T03:16:23.941981Z",
     "iopub.status.busy": "2023-08-08T03:16:23.941499Z",
     "iopub.status.idle": "2023-08-08T03:16:23.961239Z",
     "shell.execute_reply": "2023-08-08T03:16:23.960063Z"
    },
    "papermill": {
     "duration": 0.052753,
     "end_time": "2023-08-08T03:16:23.963936",
     "exception": false,
     "start_time": "2023-08-08T03:16:23.911183",
     "status": "completed"
    },
    "tags": []
   },
   "outputs": [],
   "source": [
    "y_pred = pipe1.predict(X_te)"
   ]
  },
  {
   "cell_type": "markdown",
   "id": "18d4e866",
   "metadata": {
    "papermill": {
     "duration": 0.028511,
     "end_time": "2023-08-08T03:16:24.021679",
     "exception": false,
     "start_time": "2023-08-08T03:16:23.993168",
     "status": "completed"
    },
    "tags": []
   },
   "source": [
    "# Printing classification report."
   ]
  },
  {
   "cell_type": "code",
   "execution_count": 41,
   "id": "29da30b2",
   "metadata": {
    "execution": {
     "iopub.execute_input": "2023-08-08T03:16:24.081391Z",
     "iopub.status.busy": "2023-08-08T03:16:24.080604Z",
     "iopub.status.idle": "2023-08-08T03:16:24.148533Z",
     "shell.execute_reply": "2023-08-08T03:16:24.147459Z"
    },
    "papermill": {
     "duration": 0.100436,
     "end_time": "2023-08-08T03:16:24.151005",
     "exception": false,
     "start_time": "2023-08-08T03:16:24.050569",
     "status": "completed"
    },
    "tags": []
   },
   "outputs": [
    {
     "name": "stdout",
     "output_type": "stream",
     "text": [
      "              precision    recall  f1-score   support\n",
      "\n",
      "           0       0.79      0.66      0.72     10800\n",
      "           1       0.84      0.91      0.88     21752\n",
      "\n",
      "    accuracy                           0.83     32552\n",
      "   macro avg       0.82      0.79      0.80     32552\n",
      "weighted avg       0.83      0.83      0.82     32552\n",
      "\n"
     ]
    }
   ],
   "source": [
    "from sklearn.metrics import classification_report\n",
    "print(classification_report(y_te, y_pred))"
   ]
  },
  {
   "cell_type": "markdown",
   "id": "a4c1cfa9",
   "metadata": {
    "papermill": {
     "duration": 0.028763,
     "end_time": "2023-08-08T03:16:24.209823",
     "exception": false,
     "start_time": "2023-08-08T03:16:24.181060",
     "status": "completed"
    },
    "tags": []
   },
   "source": [
    "# Applying Hyperparameter tunning."
   ]
  },
  {
   "cell_type": "code",
   "execution_count": 42,
   "id": "d6c18c42",
   "metadata": {
    "execution": {
     "iopub.execute_input": "2023-08-08T03:16:24.270395Z",
     "iopub.status.busy": "2023-08-08T03:16:24.269953Z",
     "iopub.status.idle": "2023-08-08T03:16:24.275033Z",
     "shell.execute_reply": "2023-08-08T03:16:24.273896Z"
    },
    "papermill": {
     "duration": 0.038863,
     "end_time": "2023-08-08T03:16:24.277494",
     "exception": false,
     "start_time": "2023-08-08T03:16:24.238631",
     "status": "completed"
    },
    "tags": []
   },
   "outputs": [],
   "source": [
    "from sklearn.model_selection import GridSearchCV"
   ]
  },
  {
   "cell_type": "code",
   "execution_count": 43,
   "id": "893800b8",
   "metadata": {
    "execution": {
     "iopub.execute_input": "2023-08-08T03:16:24.351829Z",
     "iopub.status.busy": "2023-08-08T03:16:24.351053Z",
     "iopub.status.idle": "2023-08-08T03:16:24.357150Z",
     "shell.execute_reply": "2023-08-08T03:16:24.356072Z"
    },
    "papermill": {
     "duration": 0.048874,
     "end_time": "2023-08-08T03:16:24.359487",
     "exception": false,
     "start_time": "2023-08-08T03:16:24.310613",
     "status": "completed"
    },
    "tags": []
   },
   "outputs": [],
   "source": [
    "param_grid = [    \n",
    "    {'penalty' : ['l2', 'elasticnet','l1'],\n",
    "    'C' : [0.1,0.01,0.001],\n",
    "    'solver' : ['lbfgs','newton-cg','liblinear','sag','saga'],\n",
    "    'max_iter' : [200,500, 1000,2000],\n",
    "    }\n",
    "]"
   ]
  },
  {
   "cell_type": "code",
   "execution_count": 44,
   "id": "c91e90f1",
   "metadata": {
    "execution": {
     "iopub.execute_input": "2023-08-08T03:16:24.424106Z",
     "iopub.status.busy": "2023-08-08T03:16:24.423288Z",
     "iopub.status.idle": "2023-08-08T03:27:06.287660Z",
     "shell.execute_reply": "2023-08-08T03:27:06.285799Z"
    },
    "papermill": {
     "duration": 641.898812,
     "end_time": "2023-08-08T03:27:06.291896",
     "exception": false,
     "start_time": "2023-08-08T03:16:24.393084",
     "status": "completed"
    },
    "tags": []
   },
   "outputs": [
    {
     "name": "stdout",
     "output_type": "stream",
     "text": [
      "Fitting 5 folds for each of 180 candidates, totalling 900 fits\n"
     ]
    },
    {
     "name": "stderr",
     "output_type": "stream",
     "text": [
      "/opt/conda/lib/python3.10/site-packages/sklearn/linear_model/_sag.py:350: ConvergenceWarning: The max_iter was reached which means the coef_ did not converge\n",
      "  warnings.warn(\n",
      "/opt/conda/lib/python3.10/site-packages/sklearn/linear_model/_sag.py:350: ConvergenceWarning: The max_iter was reached which means the coef_ did not converge\n",
      "  warnings.warn(\n",
      "/opt/conda/lib/python3.10/site-packages/sklearn/linear_model/_sag.py:350: ConvergenceWarning: The max_iter was reached which means the coef_ did not converge\n",
      "  warnings.warn(\n"
     ]
    },
    {
     "name": "stdout",
     "output_type": "stream",
     "text": [
      "[CV] END ......C=0.1, max_iter=200, penalty=l2, solver=lbfgs; total time=   4.2s\n",
      "[CV] END ..C=0.1, max_iter=200, penalty=l2, solver=newton-cg; total time=   5.5s\n",
      "[CV] END ..C=0.1, max_iter=200, penalty=l2, solver=liblinear; total time=   2.6s\n",
      "[CV] END ..C=0.1, max_iter=200, penalty=l2, solver=liblinear; total time=   3.1s\n",
      "[CV] END ........C=0.1, max_iter=200, penalty=l2, solver=sag; total time=  10.2s\n",
      "[CV] END .......C=0.1, max_iter=200, penalty=l2, solver=saga; total time=  31.2s\n",
      "[CV] END .......C=0.1, max_iter=200, penalty=l2, solver=saga; total time=  34.3s\n",
      "[CV] END ......C=0.1, max_iter=500, penalty=l2, solver=lbfgs; total time=   4.0s\n",
      "[CV] END ......C=0.1, max_iter=500, penalty=l2, solver=lbfgs; total time=   3.9s\n",
      "[CV] END ......C=0.1, max_iter=500, penalty=l2, solver=lbfgs; total time=   3.9s\n",
      "[CV] END ......C=0.1, max_iter=500, penalty=l2, solver=lbfgs; total time=   3.8s\n",
      "[CV] END ..C=0.1, max_iter=500, penalty=l2, solver=newton-cg; total time=   4.7s\n",
      "[CV] END ..C=0.1, max_iter=500, penalty=l2, solver=newton-cg; total time=   4.7s\n",
      "[CV] END ..C=0.1, max_iter=500, penalty=l2, solver=liblinear; total time=   2.6s\n",
      "[CV] END ..C=0.1, max_iter=500, penalty=l2, solver=liblinear; total time=   2.9s\n",
      "[CV] END ........C=0.1, max_iter=500, penalty=l2, solver=sag; total time=   9.8s\n",
      "[CV] END ........C=0.1, max_iter=500, penalty=l2, solver=sag; total time=  10.2s\n",
      "[CV] END .......C=0.1, max_iter=500, penalty=l2, solver=saga; total time=  32.3s\n",
      "[CV] END ..C=0.1, max_iter=500, penalty=l1, solver=liblinear; total time=  12.7s\n",
      "[CV] END ........C=0.1, max_iter=500, penalty=l1, solver=sag; total time=   0.0s\n",
      "[CV] END ........C=0.1, max_iter=500, penalty=l1, solver=sag; total time=   0.0s\n",
      "[CV] END ........C=0.1, max_iter=500, penalty=l1, solver=sag; total time=   0.0s\n",
      "[CV] END ........C=0.1, max_iter=500, penalty=l1, solver=sag; total time=   0.0s\n",
      "[CV] END ........C=0.1, max_iter=500, penalty=l1, solver=sag; total time=   0.0s\n",
      "[CV] END .......C=0.1, max_iter=500, penalty=l1, solver=saga; total time=  20.1s\n",
      "[CV] END .....C=0.1, max_iter=1000, penalty=l2, solver=lbfgs; total time=   4.0s\n",
      "[CV] END .....C=0.1, max_iter=1000, penalty=l2, solver=lbfgs; total time=   4.1s\n",
      "[CV] END .C=0.1, max_iter=1000, penalty=l2, solver=newton-cg; total time=   5.2s\n",
      "[CV] END .C=0.1, max_iter=1000, penalty=l2, solver=newton-cg; total time=   4.7s\n",
      "[CV] END .C=0.1, max_iter=1000, penalty=l2, solver=liblinear; total time=   2.6s\n",
      "[CV] END .C=0.1, max_iter=1000, penalty=l2, solver=liblinear; total time=   2.9s\n",
      "[CV] END .C=0.1, max_iter=1000, penalty=l2, solver=liblinear; total time=   2.9s\n",
      "[CV] END .......C=0.1, max_iter=1000, penalty=l2, solver=sag; total time=   9.9s\n",
      "[CV] END ......C=0.1, max_iter=1000, penalty=l2, solver=saga; total time=  30.3s\n",
      "[CV] END ......C=0.1, max_iter=1000, penalty=l2, solver=saga; total time=  36.8s\n",
      "[CV] END ......C=0.1, max_iter=1000, penalty=l1, solver=saga; total time=  18.1s\n",
      "[CV] END .C=0.1, max_iter=2000, penalty=l2, solver=newton-cg; total time=   5.3s\n",
      "[CV] END .C=0.1, max_iter=2000, penalty=l2, solver=newton-cg; total time=   4.5s\n",
      "[CV] END .C=0.1, max_iter=2000, penalty=l2, solver=liblinear; total time=   2.4s\n",
      "[CV] END .C=0.1, max_iter=2000, penalty=l2, solver=liblinear; total time=   2.6s\n",
      "[CV] END .......C=0.1, max_iter=2000, penalty=l2, solver=sag; total time=   9.8s\n",
      "[CV] END ......C=0.1, max_iter=2000, penalty=l2, solver=saga; total time=  34.0s\n",
      "[CV] END C=0.1, max_iter=2000, penalty=elasticnet, solver=lbfgs; total time=   0.0s\n",
      "[CV] END C=0.1, max_iter=2000, penalty=elasticnet, solver=lbfgs; total time=   0.0s\n",
      "[CV] END C=0.1, max_iter=2000, penalty=elasticnet, solver=lbfgs; total time=   0.0s\n",
      "[CV] END C=0.1, max_iter=2000, penalty=elasticnet, solver=lbfgs; total time=   0.0s\n",
      "[CV] END C=0.1, max_iter=2000, penalty=elasticnet, solver=lbfgs; total time=   0.0s\n",
      "[CV] END C=0.1, max_iter=2000, penalty=elasticnet, solver=newton-cg; total time=   0.0s\n",
      "[CV] END C=0.1, max_iter=2000, penalty=elasticnet, solver=newton-cg; total time=   0.0s\n",
      "[CV] END C=0.1, max_iter=2000, penalty=elasticnet, solver=newton-cg; total time=   0.0s\n",
      "[CV] END C=0.1, max_iter=2000, penalty=elasticnet, solver=newton-cg; total time=   0.0s\n",
      "[CV] END C=0.1, max_iter=2000, penalty=elasticnet, solver=newton-cg; total time=   0.0s\n",
      "[CV] END C=0.1, max_iter=2000, penalty=elasticnet, solver=liblinear; total time=   0.0s\n",
      "[CV] END C=0.1, max_iter=2000, penalty=elasticnet, solver=liblinear; total time=   0.0s\n",
      "[CV] END C=0.1, max_iter=2000, penalty=elasticnet, solver=liblinear; total time=   0.0s\n",
      "[CV] END C=0.1, max_iter=2000, penalty=elasticnet, solver=liblinear; total time=   0.0s\n",
      "[CV] END C=0.1, max_iter=2000, penalty=elasticnet, solver=liblinear; total time=   0.0s\n",
      "[CV] END C=0.1, max_iter=2000, penalty=elasticnet, solver=sag; total time=   0.0s\n",
      "[CV] END C=0.1, max_iter=2000, penalty=elasticnet, solver=sag; total time=   0.0s\n",
      "[CV] END C=0.1, max_iter=2000, penalty=elasticnet, solver=sag; total time=   0.0s\n",
      "[CV] END C=0.1, max_iter=2000, penalty=elasticnet, solver=saga; total time=   0.0s\n",
      "[CV] END C=0.1, max_iter=2000, penalty=elasticnet, solver=saga; total time=   0.0s\n",
      "[CV] END C=0.1, max_iter=2000, penalty=elasticnet, solver=saga; total time=   0.0s\n",
      "[CV] END .....C=0.1, max_iter=2000, penalty=l1, solver=lbfgs; total time=   0.0s\n",
      "[CV] END .....C=0.1, max_iter=2000, penalty=l1, solver=lbfgs; total time=   0.0s\n",
      "[CV] END .C=0.1, max_iter=2000, penalty=l1, solver=newton-cg; total time=   0.0s\n",
      "[CV] END .C=0.1, max_iter=2000, penalty=l1, solver=newton-cg; total time=   0.0s\n",
      "[CV] END .C=0.1, max_iter=2000, penalty=l1, solver=newton-cg; total time=   0.0s\n",
      "[CV] END .C=0.1, max_iter=2000, penalty=l1, solver=liblinear; total time=   5.5s\n",
      "[CV] END .C=0.1, max_iter=2000, penalty=l1, solver=liblinear; total time=   9.9s\n",
      "[CV] END ......C=0.1, max_iter=2000, penalty=l1, solver=saga; total time=  27.0s\n",
      "[CV] END .C=0.01, max_iter=200, penalty=l2, solver=newton-cg; total time=   3.1s\n",
      "[CV] END .C=0.01, max_iter=200, penalty=l2, solver=newton-cg; total time=   3.1s\n",
      "[CV] END .C=0.01, max_iter=200, penalty=l2, solver=newton-cg; total time=   3.3s\n",
      "[CV] END .C=0.01, max_iter=200, penalty=l2, solver=liblinear; total time=   1.4s\n",
      "[CV] END .......C=0.01, max_iter=200, penalty=l2, solver=sag; total time=   2.2s\n",
      "[CV] END .......C=0.01, max_iter=200, penalty=l2, solver=sag; total time=   2.4s\n",
      "[CV] END ......C=0.01, max_iter=200, penalty=l2, solver=saga; total time=   8.3s\n",
      "[CV] END C=0.01, max_iter=200, penalty=elasticnet, solver=lbfgs; total time=   0.0s\n",
      "[CV] END C=0.01, max_iter=200, penalty=elasticnet, solver=lbfgs; total time=   0.0s\n",
      "[CV] END C=0.01, max_iter=200, penalty=elasticnet, solver=lbfgs; total time=   0.0s\n",
      "[CV] END C=0.01, max_iter=200, penalty=elasticnet, solver=lbfgs; total time=   0.0s\n",
      "[CV] END C=0.01, max_iter=200, penalty=elasticnet, solver=lbfgs; total time=   0.0s\n",
      "[CV] END C=0.01, max_iter=200, penalty=elasticnet, solver=newton-cg; total time=   0.0s\n",
      "[CV] END C=0.01, max_iter=200, penalty=elasticnet, solver=newton-cg; total time=   0.0s\n",
      "[CV] END C=0.01, max_iter=200, penalty=elasticnet, solver=newton-cg; total time=   0.0s\n",
      "[CV] END C=0.01, max_iter=200, penalty=elasticnet, solver=newton-cg; total time=   0.0s\n",
      "[CV] END C=0.01, max_iter=200, penalty=elasticnet, solver=newton-cg; total time=   0.0s\n",
      "[CV] END C=0.01, max_iter=200, penalty=elasticnet, solver=liblinear; total time=   0.0s\n",
      "[CV] END C=0.01, max_iter=200, penalty=elasticnet, solver=liblinear; total time=   0.0s\n",
      "[CV] END C=0.01, max_iter=200, penalty=elasticnet, solver=liblinear; total time=   0.0s\n",
      "[CV] END C=0.01, max_iter=200, penalty=elasticnet, solver=liblinear; total time=   0.0s\n",
      "[CV] END C=0.01, max_iter=200, penalty=elasticnet, solver=liblinear; total time=   0.0s\n",
      "[CV] END C=0.01, max_iter=200, penalty=elasticnet, solver=sag; total time=   0.0s\n",
      "[CV] END C=0.01, max_iter=200, penalty=elasticnet, solver=sag; total time=   0.0s\n",
      "[CV] END C=0.01, max_iter=200, penalty=elasticnet, solver=sag; total time=   0.0s\n",
      "[CV] END C=0.01, max_iter=200, penalty=elasticnet, solver=sag; total time=   0.0s\n",
      "[CV] END C=0.01, max_iter=200, penalty=elasticnet, solver=sag; total time=   0.0s\n",
      "[CV] END ......C=0.1, max_iter=200, penalty=l2, solver=lbfgs; total time=   4.3s\n",
      "[CV] END ..C=0.1, max_iter=200, penalty=l2, solver=newton-cg; total time=   5.2s\n",
      "[CV] END ..C=0.1, max_iter=200, penalty=l2, solver=newton-cg; total time=   5.7s\n",
      "[CV] END ........C=0.1, max_iter=200, penalty=l2, solver=sag; total time=  10.2s\n",
      "[CV] END .......C=0.1, max_iter=200, penalty=l2, solver=saga; total time=  31.7s\n",
      "[CV] END C=0.1, max_iter=200, penalty=elasticnet, solver=lbfgs; total time=   0.0s\n",
      "[CV] END C=0.1, max_iter=200, penalty=elasticnet, solver=lbfgs; total time=   0.0s\n",
      "[CV] END C=0.1, max_iter=200, penalty=elasticnet, solver=lbfgs; total time=   0.0s\n",
      "[CV] END C=0.1, max_iter=200, penalty=elasticnet, solver=lbfgs; total time=   0.0s\n",
      "[CV] END C=0.1, max_iter=200, penalty=elasticnet, solver=lbfgs; total time=   0.0s\n",
      "[CV] END C=0.1, max_iter=200, penalty=elasticnet, solver=newton-cg; total time=   0.0s\n",
      "[CV] END C=0.1, max_iter=200, penalty=elasticnet, solver=newton-cg; total time=   0.0s\n",
      "[CV] END C=0.1, max_iter=200, penalty=elasticnet, solver=newton-cg; total time=   0.0s\n",
      "[CV] END C=0.1, max_iter=200, penalty=elasticnet, solver=newton-cg; total time=   0.0s\n",
      "[CV] END C=0.1, max_iter=200, penalty=elasticnet, solver=newton-cg; total time=   0.0s\n",
      "[CV] END C=0.1, max_iter=200, penalty=elasticnet, solver=liblinear; total time=   0.0s\n",
      "[CV] END C=0.1, max_iter=200, penalty=elasticnet, solver=liblinear; total time=   0.0s\n",
      "[CV] END C=0.1, max_iter=200, penalty=elasticnet, solver=liblinear; total time=   0.0s\n",
      "[CV] END C=0.1, max_iter=200, penalty=elasticnet, solver=liblinear; total time=   0.0s\n",
      "[CV] END C=0.1, max_iter=200, penalty=elasticnet, solver=liblinear; total time=   0.0s\n",
      "[CV] END C=0.1, max_iter=200, penalty=elasticnet, solver=sag; total time=   0.0s\n",
      "[CV] END C=0.1, max_iter=200, penalty=elasticnet, solver=sag; total time=   0.0s\n",
      "[CV] END C=0.1, max_iter=200, penalty=elasticnet, solver=sag; total time=   0.0s\n",
      "[CV] END C=0.1, max_iter=200, penalty=elasticnet, solver=sag; total time=   0.0s\n",
      "[CV] END C=0.1, max_iter=200, penalty=elasticnet, solver=sag; total time=   0.0s\n",
      "[CV] END C=0.1, max_iter=200, penalty=elasticnet, solver=saga; total time=   0.0s\n",
      "[CV] END C=0.1, max_iter=200, penalty=elasticnet, solver=saga; total time=   0.0s\n",
      "[CV] END C=0.1, max_iter=200, penalty=elasticnet, solver=saga; total time=   0.0s\n",
      "[CV] END C=0.1, max_iter=200, penalty=elasticnet, solver=saga; total time=   0.0s\n",
      "[CV] END C=0.1, max_iter=200, penalty=elasticnet, solver=saga; total time=   0.0s\n",
      "[CV] END ......C=0.1, max_iter=200, penalty=l1, solver=lbfgs; total time=   0.0s\n",
      "[CV] END ......C=0.1, max_iter=200, penalty=l1, solver=lbfgs; total time=   0.0s\n",
      "[CV] END ......C=0.1, max_iter=200, penalty=l1, solver=lbfgs; total time=   0.0s\n",
      "[CV] END ......C=0.1, max_iter=200, penalty=l1, solver=lbfgs; total time=   0.0s\n",
      "[CV] END ......C=0.1, max_iter=200, penalty=l1, solver=lbfgs; total time=   0.0s\n",
      "[CV] END ..C=0.1, max_iter=200, penalty=l1, solver=newton-cg; total time=   0.0s\n",
      "[CV] END ..C=0.1, max_iter=200, penalty=l1, solver=newton-cg; total time=   0.0s\n",
      "[CV] END ..C=0.1, max_iter=200, penalty=l1, solver=newton-cg; total time=   0.0s\n",
      "[CV] END ..C=0.1, max_iter=200, penalty=l1, solver=newton-cg; total time=   0.0s\n",
      "[CV] END ..C=0.1, max_iter=200, penalty=l1, solver=newton-cg; total time=   0.0s\n",
      "[CV] END ..C=0.1, max_iter=200, penalty=l1, solver=liblinear; total time=   6.9s\n",
      "[CV] END ..C=0.1, max_iter=200, penalty=l1, solver=liblinear; total time=   8.3s\n",
      "[CV] END ........C=0.1, max_iter=200, penalty=l1, solver=sag; total time=   0.0s\n",
      "[CV] END ........C=0.1, max_iter=200, penalty=l1, solver=sag; total time=   0.0s\n",
      "[CV] END ........C=0.1, max_iter=200, penalty=l1, solver=sag; total time=   0.0s\n",
      "[CV] END ........C=0.1, max_iter=200, penalty=l1, solver=sag; total time=   0.0s\n",
      "[CV] END .......C=0.1, max_iter=200, penalty=l1, solver=saga; total time=  20.3s\n",
      "[CV] END .......C=0.1, max_iter=200, penalty=l1, solver=saga; total time=  20.8s\n",
      "[CV] END ..C=0.1, max_iter=500, penalty=l2, solver=newton-cg; total time=   5.0s\n",
      "[CV] END ..C=0.1, max_iter=500, penalty=l2, solver=liblinear; total time=   2.8s\n",
      "[CV] END ........C=0.1, max_iter=500, penalty=l2, solver=sag; total time=  10.1s\n",
      "[CV] END .......C=0.1, max_iter=500, penalty=l2, solver=saga; total time=  28.9s\n",
      "[CV] END .......C=0.1, max_iter=500, penalty=l2, solver=saga; total time=  38.7s\n",
      "[CV] END .....C=0.1, max_iter=1000, penalty=l2, solver=lbfgs; total time=   4.3s\n",
      "[CV] END .....C=0.1, max_iter=1000, penalty=l2, solver=lbfgs; total time=   4.5s\n",
      "[CV] END .....C=0.1, max_iter=1000, penalty=l2, solver=lbfgs; total time=   4.0s\n",
      "[CV] END .C=0.1, max_iter=1000, penalty=l2, solver=newton-cg; total time=   4.8s\n",
      "[CV] END .C=0.1, max_iter=1000, penalty=l2, solver=newton-cg; total time=   5.0s\n",
      "[CV] END .C=0.1, max_iter=1000, penalty=l2, solver=newton-cg; total time=   4.9s\n",
      "[CV] END .C=0.1, max_iter=1000, penalty=l2, solver=liblinear; total time=   2.7s\n",
      "[CV] END .C=0.1, max_iter=1000, penalty=l2, solver=liblinear; total time=   2.8s\n",
      "[CV] END .......C=0.1, max_iter=1000, penalty=l2, solver=sag; total time=  10.3s\n",
      "[CV] END .......C=0.1, max_iter=1000, penalty=l2, solver=sag; total time=  10.0s\n",
      "[CV] END ......C=0.1, max_iter=1000, penalty=l2, solver=saga; total time=  34.9s\n",
      "[CV] END .C=0.1, max_iter=1000, penalty=l1, solver=liblinear; total time=   4.1s\n",
      "[CV] END .......C=0.1, max_iter=1000, penalty=l1, solver=sag; total time=   0.0s\n",
      "[CV] END .......C=0.1, max_iter=1000, penalty=l1, solver=sag; total time=   0.0s\n",
      "[CV] END .......C=0.1, max_iter=1000, penalty=l1, solver=sag; total time=   0.0s\n",
      "[CV] END .......C=0.1, max_iter=1000, penalty=l1, solver=sag; total time=   0.0s\n",
      "[CV] END .......C=0.1, max_iter=1000, penalty=l1, solver=sag; total time=   0.0s\n",
      "[CV] END ......C=0.1, max_iter=1000, penalty=l1, solver=saga; total time=  19.8s\n",
      "[CV] END ......C=0.1, max_iter=1000, penalty=l1, solver=saga; total time=  30.4s\n",
      "[CV] END .......C=0.1, max_iter=2000, penalty=l2, solver=sag; total time=  10.0s\n",
      "[CV] END ......C=0.1, max_iter=2000, penalty=l2, solver=saga; total time=  34.5s\n",
      "[CV] END ......C=0.1, max_iter=2000, penalty=l2, solver=saga; total time=  35.3s\n",
      "[CV] END .....C=0.01, max_iter=200, penalty=l2, solver=lbfgs; total time=   1.6s\n",
      "[CV] END .....C=0.01, max_iter=200, penalty=l2, solver=lbfgs; total time=   1.6s\n",
      "[CV] END .....C=0.01, max_iter=200, penalty=l2, solver=lbfgs; total time=   1.7s\n",
      "[CV] END .....C=0.01, max_iter=200, penalty=l2, solver=lbfgs; total time=   2.0s\n",
      "[CV] END .....C=0.01, max_iter=200, penalty=l2, solver=lbfgs; total time=   1.5s\n",
      "[CV] END .C=0.01, max_iter=200, penalty=l2, solver=newton-cg; total time=   3.0s\n",
      "[CV] END .C=0.01, max_iter=200, penalty=l2, solver=newton-cg; total time=   3.3s\n",
      "[CV] END .C=0.01, max_iter=200, penalty=l2, solver=liblinear; total time=   1.4s\n",
      "[CV] END .C=0.01, max_iter=200, penalty=l2, solver=liblinear; total time=   1.4s\n",
      "[CV] END .C=0.01, max_iter=200, penalty=l2, solver=liblinear; total time=   1.4s\n",
      "[CV] END .......C=0.01, max_iter=200, penalty=l2, solver=sag; total time=   2.2s\n",
      "[CV] END .......C=0.01, max_iter=200, penalty=l2, solver=sag; total time=   2.6s\n",
      "[CV] END ......C=0.01, max_iter=200, penalty=l2, solver=saga; total time=  10.4s\n",
      "[CV] END .C=0.01, max_iter=200, penalty=l1, solver=liblinear; total time=   0.9s\n",
      "[CV] END .......C=0.01, max_iter=200, penalty=l1, solver=sag; total time=   0.0s\n",
      "[CV] END ......C=0.01, max_iter=200, penalty=l1, solver=saga; total time=   3.3s\n",
      "[CV] END ......C=0.01, max_iter=200, penalty=l1, solver=saga; total time=   2.6s\n",
      "[CV] END .....C=0.01, max_iter=500, penalty=l2, solver=lbfgs; total time=   1.8s\n",
      "[CV] END .C=0.01, max_iter=500, penalty=l2, solver=newton-cg; total time=   3.4s\n",
      "[CV] END .C=0.01, max_iter=500, penalty=l2, solver=liblinear; total time=   1.5s\n",
      "[CV] END .C=0.01, max_iter=500, penalty=l2, solver=liblinear; total time=   1.5s\n",
      "[CV] END .......C=0.01, max_iter=500, penalty=l2, solver=sag; total time=   2.5s\n",
      "[CV] END ......C=0.01, max_iter=500, penalty=l2, solver=saga; total time=   9.2s\n",
      "[CV] END C=0.01, max_iter=500, penalty=elasticnet, solver=lbfgs; total time=   0.0s\n",
      "[CV] END C=0.01, max_iter=500, penalty=elasticnet, solver=lbfgs; total time=   0.0s\n",
      "[CV] END ......C=0.1, max_iter=200, penalty=l2, solver=lbfgs; total time=   4.5s\n",
      "[CV] END ..C=0.1, max_iter=200, penalty=l2, solver=newton-cg; total time=   5.3s\n",
      "[CV] END ..C=0.1, max_iter=200, penalty=l2, solver=liblinear; total time=   2.6s\n",
      "[CV] END ..C=0.1, max_iter=200, penalty=l2, solver=liblinear; total time=   2.9s\n",
      "[CV] END ........C=0.1, max_iter=200, penalty=l2, solver=sag; total time=  10.0s\n",
      "[CV] END ........C=0.1, max_iter=200, penalty=l2, solver=sag; total time=  10.0s\n",
      "[CV] END .......C=0.1, max_iter=200, penalty=l2, solver=saga; total time=  31.1s\n",
      "[CV] END ..C=0.1, max_iter=200, penalty=l1, solver=liblinear; total time=   8.9s\n",
      "[CV] END ........C=0.1, max_iter=200, penalty=l1, solver=sag; total time=   0.0s\n",
      "[CV] END .......C=0.1, max_iter=200, penalty=l1, solver=saga; total time=  28.3s\n",
      "[CV] END ......C=0.1, max_iter=500, penalty=l2, solver=lbfgs; total time=   4.3s\n",
      "[CV] END ..C=0.1, max_iter=500, penalty=l2, solver=newton-cg; total time=   5.4s\n",
      "[CV] END ..C=0.1, max_iter=500, penalty=l2, solver=newton-cg; total time=   4.4s\n",
      "[CV] END ..C=0.1, max_iter=500, penalty=l2, solver=liblinear; total time=   2.4s\n",
      "[CV] END ..C=0.1, max_iter=500, penalty=l2, solver=liblinear; total time=   2.7s\n",
      "[CV] END ........C=0.1, max_iter=500, penalty=l2, solver=sag; total time=  10.2s\n",
      "[CV] END .......C=0.1, max_iter=500, penalty=l2, solver=saga; total time=  36.9s\n",
      "[CV] END ..C=0.1, max_iter=500, penalty=l1, solver=liblinear; total time=  12.0s\n",
      "[CV] END ..C=0.1, max_iter=500, penalty=l1, solver=liblinear; total time=   6.0s\n",
      "[CV] END .......C=0.1, max_iter=500, penalty=l1, solver=saga; total time=  19.3s\n",
      "[CV] END .......C=0.1, max_iter=500, penalty=l1, solver=saga; total time=  27.0s\n",
      "[CV] END .......C=0.1, max_iter=1000, penalty=l2, solver=sag; total time=  10.6s\n",
      "[CV] END ......C=0.1, max_iter=1000, penalty=l2, solver=saga; total time=  35.0s\n",
      "[CV] END C=0.1, max_iter=1000, penalty=elasticnet, solver=lbfgs; total time=   0.0s\n",
      "[CV] END C=0.1, max_iter=1000, penalty=elasticnet, solver=lbfgs; total time=   0.0s\n",
      "[CV] END C=0.1, max_iter=1000, penalty=elasticnet, solver=lbfgs; total time=   0.0s\n",
      "[CV] END C=0.1, max_iter=1000, penalty=elasticnet, solver=lbfgs; total time=   0.0s\n",
      "[CV] END C=0.1, max_iter=1000, penalty=elasticnet, solver=lbfgs; total time=   0.0s\n",
      "[CV] END C=0.1, max_iter=1000, penalty=elasticnet, solver=newton-cg; total time=   0.0s\n",
      "[CV] END C=0.1, max_iter=1000, penalty=elasticnet, solver=newton-cg; total time=   0.0s\n",
      "[CV] END C=0.1, max_iter=1000, penalty=elasticnet, solver=newton-cg; total time=   0.0s\n",
      "[CV] END C=0.1, max_iter=1000, penalty=elasticnet, solver=newton-cg; total time=   0.0s\n",
      "[CV] END C=0.1, max_iter=1000, penalty=elasticnet, solver=newton-cg; total time=   0.0s\n",
      "[CV] END C=0.1, max_iter=1000, penalty=elasticnet, solver=liblinear; total time=   0.0s\n",
      "[CV] END C=0.1, max_iter=1000, penalty=elasticnet, solver=liblinear; total time=   0.0s\n",
      "[CV] END C=0.1, max_iter=1000, penalty=elasticnet, solver=liblinear; total time=   0.0s\n",
      "[CV] END C=0.1, max_iter=1000, penalty=elasticnet, solver=liblinear; total time=   0.0s\n",
      "[CV] END C=0.1, max_iter=1000, penalty=elasticnet, solver=liblinear; total time=   0.0s\n",
      "[CV] END C=0.1, max_iter=1000, penalty=elasticnet, solver=sag; total time=   0.0s\n",
      "[CV] END C=0.1, max_iter=1000, penalty=elasticnet, solver=sag; total time=   0.0s\n",
      "[CV] END C=0.1, max_iter=1000, penalty=elasticnet, solver=sag; total time=   0.0s\n",
      "[CV] END C=0.1, max_iter=1000, penalty=elasticnet, solver=sag; total time=   0.0s\n",
      "[CV] END C=0.1, max_iter=1000, penalty=elasticnet, solver=sag; total time=   0.0s\n",
      "[CV] END C=0.1, max_iter=1000, penalty=elasticnet, solver=saga; total time=   0.0s\n",
      "[CV] END C=0.1, max_iter=1000, penalty=elasticnet, solver=saga; total time=   0.0s\n",
      "[CV] END .....C=0.1, max_iter=1000, penalty=l1, solver=lbfgs; total time=   0.0s\n",
      "[CV] END .....C=0.1, max_iter=1000, penalty=l1, solver=lbfgs; total time=   0.0s\n",
      "[CV] END .....C=0.1, max_iter=1000, penalty=l1, solver=lbfgs; total time=   0.0s\n",
      "[CV] END .C=0.1, max_iter=1000, penalty=l1, solver=newton-cg; total time=   0.0s\n",
      "[CV] END .C=0.1, max_iter=1000, penalty=l1, solver=newton-cg; total time=   0.0s\n",
      "[CV] END .C=0.1, max_iter=1000, penalty=l1, solver=liblinear; total time=   6.2s\n",
      "[CV] END .C=0.1, max_iter=1000, penalty=l1, solver=liblinear; total time=   7.0s\n",
      "[CV] END ......C=0.1, max_iter=1000, penalty=l1, solver=saga; total time=  21.0s\n",
      "[CV] END .....C=0.1, max_iter=2000, penalty=l2, solver=lbfgs; total time=   4.3s\n",
      "[CV] END .....C=0.1, max_iter=2000, penalty=l2, solver=lbfgs; total time=   3.9s\n",
      "[CV] END .....C=0.1, max_iter=2000, penalty=l2, solver=lbfgs; total time=   3.8s\n",
      "[CV] END .....C=0.1, max_iter=2000, penalty=l2, solver=lbfgs; total time=   4.1s\n",
      "[CV] END .C=0.1, max_iter=2000, penalty=l2, solver=newton-cg; total time=   5.7s\n",
      "[CV] END .C=0.1, max_iter=2000, penalty=l2, solver=liblinear; total time=   2.6s\n",
      "[CV] END .C=0.1, max_iter=2000, penalty=l2, solver=liblinear; total time=   2.9s\n",
      "[CV] END .......C=0.1, max_iter=2000, penalty=l2, solver=sag; total time=  10.0s\n",
      "[CV] END .......C=0.1, max_iter=2000, penalty=l2, solver=sag; total time=   9.9s\n",
      "[CV] END ......C=0.1, max_iter=2000, penalty=l2, solver=saga; total time=  33.0s\n",
      "[CV] END .C=0.1, max_iter=2000, penalty=l1, solver=liblinear; total time=   7.0s\n",
      "[CV] END .......C=0.1, max_iter=2000, penalty=l1, solver=sag; total time=   0.0s\n",
      "[CV] END .......C=0.1, max_iter=2000, penalty=l1, solver=sag; total time=   0.0s\n",
      "[CV] END .......C=0.1, max_iter=2000, penalty=l1, solver=sag; total time=   0.0s\n",
      "[CV] END .......C=0.1, max_iter=2000, penalty=l1, solver=sag; total time=   0.0s\n",
      "[CV] END .......C=0.1, max_iter=2000, penalty=l1, solver=sag; total time=   0.0s\n",
      "[CV] END ......C=0.1, max_iter=2000, penalty=l1, solver=saga; total time=  19.9s\n",
      "[CV] END ......C=0.1, max_iter=2000, penalty=l1, solver=saga; total time=  23.7s\n",
      "[CV] END ......C=0.01, max_iter=200, penalty=l2, solver=saga; total time=  10.0s\n",
      "[CV] END .C=0.01, max_iter=200, penalty=l1, solver=liblinear; total time=   1.0s\n",
      "[CV] END .C=0.01, max_iter=200, penalty=l1, solver=liblinear; total time=   1.2s\n",
      "[CV] END ......C=0.01, max_iter=200, penalty=l1, solver=saga; total time=   3.0s\n",
      "[CV] END .....C=0.01, max_iter=500, penalty=l2, solver=lbfgs; total time=   1.7s\n",
      "[CV] END .....C=0.01, max_iter=500, penalty=l2, solver=lbfgs; total time=   1.8s\n",
      "[CV] END .....C=0.01, max_iter=500, penalty=l2, solver=lbfgs; total time=   1.6s\n",
      "[CV] END .C=0.01, max_iter=500, penalty=l2, solver=newton-cg; total time=   3.6s\n",
      "[CV] END .C=0.01, max_iter=500, penalty=l2, solver=liblinear; total time=   1.5s\n",
      "[CV] END .......C=0.01, max_iter=500, penalty=l2, solver=sag; total time=   2.1s\n",
      "[CV] END .......C=0.01, max_iter=500, penalty=l2, solver=sag; total time=   2.2s\n",
      "[CV] END ......C=0.01, max_iter=500, penalty=l2, solver=saga; total time=   9.0s\n",
      "[CV] END .C=0.01, max_iter=500, penalty=l1, solver=newton-cg; total time=   0.0s\n",
      "[CV] END .C=0.01, max_iter=500, penalty=l1, solver=newton-cg; total time=   0.0s\n",
      "[CV] END .C=0.01, max_iter=500, penalty=l1, solver=liblinear; total time=   0.9s\n",
      "[CV] END .C=0.01, max_iter=500, penalty=l1, solver=liblinear; total time=   1.0s\n",
      "[CV] END .......C=0.01, max_iter=500, penalty=l1, solver=sag; total time=   0.0s\n",
      "[CV] END .......C=0.01, max_iter=500, penalty=l1, solver=sag; total time=   0.0s\n",
      "[CV] END .......C=0.01, max_iter=500, penalty=l1, solver=sag; total time=   0.0s\n",
      "[CV] END .......C=0.01, max_iter=500, penalty=l1, solver=sag; total time=   0.0s\n",
      "[CV] END .......C=0.01, max_iter=500, penalty=l1, solver=sag; total time=   0.0s\n",
      "[CV] END ......C=0.01, max_iter=500, penalty=l1, solver=saga; total time=   2.8s\n",
      "[CV] END ....C=0.01, max_iter=1000, penalty=l2, solver=lbfgs; total time=   1.9s\n",
      "[CV] END ....C=0.01, max_iter=1000, penalty=l2, solver=lbfgs; total time=   2.1s\n",
      "[CV] END ....C=0.01, max_iter=1000, penalty=l2, solver=lbfgs; total time=   1.6s\n",
      "[CV] END C=0.01, max_iter=1000, penalty=l2, solver=newton-cg; total time=   3.4s\n",
      "[CV] END C=0.01, max_iter=1000, penalty=l2, solver=liblinear; total time=   1.5s\n",
      "[CV] END ......C=0.01, max_iter=1000, penalty=l2, solver=sag; total time=   2.4s\n",
      "[CV] END ......C=0.1, max_iter=200, penalty=l2, solver=lbfgs; total time=   4.1s\n",
      "[CV] END ......C=0.1, max_iter=200, penalty=l2, solver=lbfgs; total time=   4.1s\n",
      "[CV] END ..C=0.1, max_iter=200, penalty=l2, solver=newton-cg; total time=   5.6s\n",
      "[CV] END ..C=0.1, max_iter=200, penalty=l2, solver=liblinear; total time=   3.0s\n",
      "[CV] END ........C=0.1, max_iter=200, penalty=l2, solver=sag; total time=  10.1s\n",
      "[CV] END .......C=0.1, max_iter=200, penalty=l2, solver=saga; total time=  31.3s\n",
      "[CV] END ..C=0.1, max_iter=200, penalty=l1, solver=liblinear; total time=   7.7s\n",
      "[CV] END ..C=0.1, max_iter=200, penalty=l1, solver=liblinear; total time=   8.0s\n",
      "[CV] END .......C=0.1, max_iter=200, penalty=l1, solver=saga; total time=  26.9s\n",
      "[CV] END .......C=0.1, max_iter=200, penalty=l1, solver=saga; total time=  21.2s\n",
      "[CV] END ........C=0.1, max_iter=500, penalty=l2, solver=sag; total time=  10.1s\n",
      "[CV] END .......C=0.1, max_iter=500, penalty=l2, solver=saga; total time=  33.9s\n",
      "[CV] END C=0.1, max_iter=500, penalty=elasticnet, solver=lbfgs; total time=   0.0s\n",
      "[CV] END C=0.1, max_iter=500, penalty=elasticnet, solver=lbfgs; total time=   0.0s\n",
      "[CV] END C=0.1, max_iter=500, penalty=elasticnet, solver=lbfgs; total time=   0.0s\n",
      "[CV] END C=0.1, max_iter=500, penalty=elasticnet, solver=lbfgs; total time=   0.0s\n",
      "[CV] END C=0.1, max_iter=500, penalty=elasticnet, solver=lbfgs; total time=   0.0s\n",
      "[CV] END C=0.1, max_iter=500, penalty=elasticnet, solver=newton-cg; total time=   0.0s\n",
      "[CV] END C=0.1, max_iter=500, penalty=elasticnet, solver=newton-cg; total time=   0.0s\n",
      "[CV] END C=0.1, max_iter=500, penalty=elasticnet, solver=newton-cg; total time=   0.0s\n",
      "[CV] END C=0.1, max_iter=500, penalty=elasticnet, solver=newton-cg; total time=   0.0s\n",
      "[CV] END C=0.1, max_iter=500, penalty=elasticnet, solver=newton-cg; total time=   0.0s\n",
      "[CV] END C=0.1, max_iter=500, penalty=elasticnet, solver=liblinear; total time=   0.0s\n",
      "[CV] END C=0.1, max_iter=500, penalty=elasticnet, solver=liblinear; total time=   0.0s\n",
      "[CV] END C=0.1, max_iter=500, penalty=elasticnet, solver=liblinear; total time=   0.0s\n",
      "[CV] END C=0.1, max_iter=500, penalty=elasticnet, solver=liblinear; total time=   0.0s\n",
      "[CV] END C=0.1, max_iter=500, penalty=elasticnet, solver=liblinear; total time=   0.0s\n",
      "[CV] END C=0.1, max_iter=500, penalty=elasticnet, solver=sag; total time=   0.0s\n",
      "[CV] END C=0.1, max_iter=500, penalty=elasticnet, solver=sag; total time=   0.0s\n",
      "[CV] END C=0.1, max_iter=500, penalty=elasticnet, solver=sag; total time=   0.0s\n",
      "[CV] END C=0.1, max_iter=500, penalty=elasticnet, solver=sag; total time=   0.0s\n",
      "[CV] END C=0.1, max_iter=500, penalty=elasticnet, solver=sag; total time=   0.0s\n",
      "[CV] END C=0.1, max_iter=500, penalty=elasticnet, solver=saga; total time=   0.0s\n",
      "[CV] END C=0.1, max_iter=500, penalty=elasticnet, solver=saga; total time=   0.0s\n",
      "[CV] END C=0.1, max_iter=500, penalty=elasticnet, solver=saga; total time=   0.0s\n",
      "[CV] END C=0.1, max_iter=500, penalty=elasticnet, solver=saga; total time=   0.0s\n",
      "[CV] END C=0.1, max_iter=500, penalty=elasticnet, solver=saga; total time=   0.0s\n",
      "[CV] END ......C=0.1, max_iter=500, penalty=l1, solver=lbfgs; total time=   0.0s\n",
      "[CV] END ......C=0.1, max_iter=500, penalty=l1, solver=lbfgs; total time=   0.0s\n",
      "[CV] END ......C=0.1, max_iter=500, penalty=l1, solver=lbfgs; total time=   0.0s\n",
      "[CV] END ......C=0.1, max_iter=500, penalty=l1, solver=lbfgs; total time=   0.0s\n",
      "[CV] END ......C=0.1, max_iter=500, penalty=l1, solver=lbfgs; total time=   0.0s\n",
      "[CV] END ..C=0.1, max_iter=500, penalty=l1, solver=newton-cg; total time=   0.0s\n",
      "[CV] END ..C=0.1, max_iter=500, penalty=l1, solver=newton-cg; total time=   0.0s\n",
      "[CV] END ..C=0.1, max_iter=500, penalty=l1, solver=newton-cg; total time=   0.0s\n",
      "[CV] END ..C=0.1, max_iter=500, penalty=l1, solver=newton-cg; total time=   0.0s\n",
      "[CV] END ..C=0.1, max_iter=500, penalty=l1, solver=newton-cg; total time=   0.0s\n",
      "[CV] END ..C=0.1, max_iter=500, penalty=l1, solver=liblinear; total time=  13.7s\n",
      "[CV] END ..C=0.1, max_iter=500, penalty=l1, solver=liblinear; total time=   8.0s\n",
      "[CV] END .......C=0.1, max_iter=500, penalty=l1, solver=saga; total time=  17.8s\n",
      "[CV] END .......C=0.1, max_iter=500, penalty=l1, solver=saga; total time=  27.6s\n",
      "[CV] END .......C=0.1, max_iter=1000, penalty=l2, solver=sag; total time=  10.6s\n",
      "[CV] END ......C=0.1, max_iter=1000, penalty=l2, solver=saga; total time=  35.6s\n",
      "[CV] END C=0.1, max_iter=1000, penalty=elasticnet, solver=saga; total time=   0.0s\n",
      "[CV] END C=0.1, max_iter=1000, penalty=elasticnet, solver=saga; total time=   0.0s\n",
      "[CV] END C=0.1, max_iter=1000, penalty=elasticnet, solver=saga; total time=   0.0s\n",
      "[CV] END .....C=0.1, max_iter=1000, penalty=l1, solver=lbfgs; total time=   0.0s\n",
      "[CV] END .....C=0.1, max_iter=1000, penalty=l1, solver=lbfgs; total time=   0.0s\n",
      "[CV] END .C=0.1, max_iter=1000, penalty=l1, solver=newton-cg; total time=   0.0s\n",
      "[CV] END .C=0.1, max_iter=1000, penalty=l1, solver=newton-cg; total time=   0.0s\n",
      "[CV] END .C=0.1, max_iter=1000, penalty=l1, solver=newton-cg; total time=   0.0s\n",
      "[CV] END .C=0.1, max_iter=1000, penalty=l1, solver=liblinear; total time=   6.1s\n",
      "[CV] END .C=0.1, max_iter=1000, penalty=l1, solver=liblinear; total time=  14.4s\n",
      "[CV] END ......C=0.1, max_iter=1000, penalty=l1, solver=saga; total time=  26.0s\n",
      "[CV] END .....C=0.1, max_iter=2000, penalty=l2, solver=lbfgs; total time=   3.9s\n",
      "[CV] END .C=0.1, max_iter=2000, penalty=l2, solver=newton-cg; total time=   5.5s\n",
      "[CV] END .C=0.1, max_iter=2000, penalty=l2, solver=newton-cg; total time=   5.0s\n",
      "[CV] END .C=0.1, max_iter=2000, penalty=l2, solver=liblinear; total time=   2.8s\n",
      "[CV] END .......C=0.1, max_iter=2000, penalty=l2, solver=sag; total time=   9.9s\n",
      "[CV] END ......C=0.1, max_iter=2000, penalty=l2, solver=saga; total time=  33.4s\n",
      "[CV] END C=0.1, max_iter=2000, penalty=elasticnet, solver=sag; total time=   0.0s\n",
      "[CV] END C=0.1, max_iter=2000, penalty=elasticnet, solver=sag; total time=   0.0s\n",
      "[CV] END C=0.1, max_iter=2000, penalty=elasticnet, solver=saga; total time=   0.0s\n",
      "[CV] END C=0.1, max_iter=2000, penalty=elasticnet, solver=saga; total time=   0.0s\n",
      "[CV] END .....C=0.1, max_iter=2000, penalty=l1, solver=lbfgs; total time=   0.0s\n",
      "[CV] END .....C=0.1, max_iter=2000, penalty=l1, solver=lbfgs; total time=   0.0s\n",
      "[CV] END .....C=0.1, max_iter=2000, penalty=l1, solver=lbfgs; total time=   0.0s\n",
      "[CV] END .C=0.1, max_iter=2000, penalty=l1, solver=newton-cg; total time=   0.0s\n",
      "[CV] END .C=0.1, max_iter=2000, penalty=l1, solver=newton-cg; total time=   0.0s\n",
      "[CV] END .C=0.1, max_iter=2000, penalty=l1, solver=liblinear; total time=   6.8s\n",
      "[CV] END .C=0.1, max_iter=2000, penalty=l1, solver=liblinear; total time=   7.9s\n",
      "[CV] END ......C=0.1, max_iter=2000, penalty=l1, solver=saga; total time=  17.9s\n",
      "[CV] END ......C=0.1, max_iter=2000, penalty=l1, solver=saga; total time=  20.1s\n",
      "[CV] END .C=0.01, max_iter=200, penalty=l2, solver=liblinear; total time=   1.4s\n",
      "[CV] END .......C=0.01, max_iter=200, penalty=l2, solver=sag; total time=   2.6s\n",
      "[CV] END ......C=0.01, max_iter=200, penalty=l2, solver=saga; total time=   9.1s\n",
      "[CV] END ......C=0.01, max_iter=200, penalty=l2, solver=saga; total time=  12.2s\n",
      "[CV] END .C=0.01, max_iter=500, penalty=l2, solver=newton-cg; total time=   3.4s\n",
      "[CV] END .C=0.01, max_iter=500, penalty=l2, solver=liblinear; total time=   1.5s\n",
      "[CV] END .C=0.01, max_iter=500, penalty=l2, solver=liblinear; total time=   1.5s\n",
      "[CV] END .......C=0.01, max_iter=500, penalty=l2, solver=sag; total time=   2.6s\n",
      "[CV] END ......C=0.01, max_iter=500, penalty=l2, solver=saga; total time=  12.1s\n",
      "[CV] END ......C=0.01, max_iter=500, penalty=l1, solver=saga; total time=   3.1s\n",
      "[CV] END ......C=0.01, max_iter=500, penalty=l1, solver=saga; total time=   3.2s\n",
      "[CV] END C=0.01, max_iter=1000, penalty=l2, solver=newton-cg; total time=   3.4s\n",
      "[CV] END C=0.01, max_iter=1000, penalty=l2, solver=newton-cg; total time=   3.4s\n",
      "[CV] END ......C=0.01, max_iter=1000, penalty=l2, solver=sag; total time=   2.2s\n",
      "[CV] END .....C=0.01, max_iter=1000, penalty=l2, solver=saga; total time=  11.2s\n",
      "[CV] END C=0.01, max_iter=1000, penalty=elasticnet, solver=lbfgs; total time=   0.0s\n",
      "[CV] END C=0.01, max_iter=500, penalty=elasticnet, solver=lbfgs; total time=   0.0s\n",
      "[CV] END C=0.01, max_iter=500, penalty=elasticnet, solver=lbfgs; total time=   0.0s\n",
      "[CV] END C=0.01, max_iter=500, penalty=elasticnet, solver=lbfgs; total time=   0.0s\n",
      "[CV] END C=0.01, max_iter=500, penalty=elasticnet, solver=newton-cg; total time=   0.0s\n",
      "[CV] END C=0.01, max_iter=500, penalty=elasticnet, solver=newton-cg; total time=   0.0s\n",
      "[CV] END C=0.01, max_iter=500, penalty=elasticnet, solver=newton-cg; total time=   0.0s\n",
      "[CV] END C=0.01, max_iter=500, penalty=elasticnet, solver=newton-cg; total time=   0.0s\n",
      "[CV] END C=0.01, max_iter=500, penalty=elasticnet, solver=newton-cg; total time=   0.0s\n",
      "[CV] END C=0.01, max_iter=500, penalty=elasticnet, solver=liblinear; total time=   0.0s\n",
      "[CV] END C=0.01, max_iter=500, penalty=elasticnet, solver=liblinear; total time=   0.0s\n",
      "[CV] END C=0.01, max_iter=500, penalty=elasticnet, solver=liblinear; total time=   0.0s\n",
      "[CV] END C=0.01, max_iter=500, penalty=elasticnet, solver=liblinear; total time=   0.0s\n",
      "[CV] END C=0.01, max_iter=500, penalty=elasticnet, solver=liblinear; total time=   0.0s\n",
      "[CV] END C=0.01, max_iter=500, penalty=elasticnet, solver=sag; total time=   0.0s\n",
      "[CV] END C=0.01, max_iter=500, penalty=elasticnet, solver=sag; total time=   0.0s\n",
      "[CV] END C=0.01, max_iter=500, penalty=elasticnet, solver=sag; total time=   0.0s\n",
      "[CV] END C=0.01, max_iter=500, penalty=elasticnet, solver=sag; total time=   0.0s\n",
      "[CV] END C=0.01, max_iter=500, penalty=elasticnet, solver=sag; total time=   0.0s\n",
      "[CV] END C=0.01, max_iter=500, penalty=elasticnet, solver=saga; total time=   0.0s\n",
      "[CV] END C=0.01, max_iter=500, penalty=elasticnet, solver=saga; total time=   0.0s\n",
      "[CV] END C=0.01, max_iter=500, penalty=elasticnet, solver=saga; total time=   0.0s\n",
      "[CV] END C=0.01, max_iter=500, penalty=elasticnet, solver=saga; total time=   0.0s\n",
      "[CV] END C=0.01, max_iter=500, penalty=elasticnet, solver=saga; total time=   0.0s\n",
      "[CV] END .....C=0.01, max_iter=500, penalty=l1, solver=lbfgs; total time=   0.0s\n",
      "[CV] END .....C=0.01, max_iter=500, penalty=l1, solver=lbfgs; total time=   0.0s\n",
      "[CV] END .....C=0.01, max_iter=500, penalty=l1, solver=lbfgs; total time=   0.0s\n",
      "[CV] END .....C=0.01, max_iter=500, penalty=l1, solver=lbfgs; total time=   0.0s\n",
      "[CV] END .....C=0.01, max_iter=500, penalty=l1, solver=lbfgs; total time=   0.0s\n",
      "[CV] END .C=0.01, max_iter=500, penalty=l1, solver=newton-cg; total time=   0.0s\n",
      "[CV] END .C=0.01, max_iter=500, penalty=l1, solver=newton-cg; total time=   0.0s\n",
      "[CV] END .C=0.01, max_iter=500, penalty=l1, solver=newton-cg; total time=   0.0s\n",
      "[CV] END .C=0.01, max_iter=500, penalty=l1, solver=liblinear; total time=   1.0s\n",
      "[CV] END .C=0.01, max_iter=500, penalty=l1, solver=liblinear; total time=   1.0s\n",
      "[CV] END .C=0.01, max_iter=500, penalty=l1, solver=liblinear; total time=   0.9s\n",
      "[CV] END ......C=0.01, max_iter=500, penalty=l1, solver=saga; total time=   3.1s\n",
      "[CV] END ......C=0.01, max_iter=500, penalty=l1, solver=saga; total time=   3.6s\n",
      "[CV] END C=0.01, max_iter=1000, penalty=l2, solver=liblinear; total time=   1.5s\n",
      "[CV] END C=0.01, max_iter=1000, penalty=l2, solver=liblinear; total time=   1.5s\n",
      "[CV] END C=0.01, max_iter=1000, penalty=l2, solver=liblinear; total time=   1.6s\n",
      "[CV] END C=0.01, max_iter=1000, penalty=l2, solver=liblinear; total time=   1.5s\n",
      "[CV] END ......C=0.01, max_iter=1000, penalty=l2, solver=sag; total time=   2.3s\n",
      "[CV] END .....C=0.01, max_iter=1000, penalty=l2, solver=saga; total time=   7.1s\n",
      "[CV] END .....C=0.01, max_iter=1000, penalty=l2, solver=saga; total time=  11.7s\n",
      "[CV] END ....C=0.01, max_iter=2000, penalty=l2, solver=lbfgs; total time=   1.9s\n",
      "[CV] END ....C=0.01, max_iter=2000, penalty=l2, solver=lbfgs; total time=   1.9s\n",
      "[CV] END C=0.01, max_iter=2000, penalty=l2, solver=liblinear; total time=   1.5s\n",
      "[CV] END C=0.01, max_iter=2000, penalty=l2, solver=liblinear; total time=   1.5s\n",
      "[CV] END C=0.01, max_iter=2000, penalty=l2, solver=liblinear; total time=   1.5s\n",
      "[CV] END C=0.01, max_iter=2000, penalty=l2, solver=liblinear; total time=   1.5s\n",
      "[CV] END ......C=0.01, max_iter=2000, penalty=l2, solver=sag; total time=   2.4s\n",
      "[CV] END .....C=0.01, max_iter=2000, penalty=l2, solver=saga; total time=   9.1s\n",
      "[CV] END C=0.01, max_iter=2000, penalty=elasticnet, solver=lbfgs; total time=   0.0s\n",
      "[CV] END C=0.01, max_iter=2000, penalty=elasticnet, solver=lbfgs; total time=   0.0s\n",
      "[CV] END C=0.01, max_iter=2000, penalty=elasticnet, solver=lbfgs; total time=   0.0s\n",
      "[CV] END C=0.01, max_iter=2000, penalty=elasticnet, solver=lbfgs; total time=   0.0s\n",
      "[CV] END C=0.01, max_iter=2000, penalty=elasticnet, solver=lbfgs; total time=   0.0s\n",
      "[CV] END C=0.01, max_iter=2000, penalty=elasticnet, solver=newton-cg; total time=   0.0s\n",
      "[CV] END C=0.01, max_iter=2000, penalty=elasticnet, solver=newton-cg; total time=   0.0s\n",
      "[CV] END C=0.01, max_iter=2000, penalty=elasticnet, solver=newton-cg; total time=   0.0s\n",
      "[CV] END C=0.01, max_iter=2000, penalty=elasticnet, solver=newton-cg; total time=   0.0s\n",
      "[CV] END C=0.01, max_iter=2000, penalty=elasticnet, solver=newton-cg; total time=   0.0s\n",
      "[CV] END C=0.01, max_iter=2000, penalty=elasticnet, solver=liblinear; total time=   0.0s\n",
      "[CV] END C=0.01, max_iter=2000, penalty=elasticnet, solver=liblinear; total time=   0.0s\n",
      "[CV] END C=0.01, max_iter=2000, penalty=elasticnet, solver=liblinear; total time=   0.0s\n",
      "[CV] END C=0.01, max_iter=2000, penalty=elasticnet, solver=liblinear; total time=   0.0s\n",
      "[CV] END C=0.01, max_iter=2000, penalty=elasticnet, solver=liblinear; total time=   0.0s\n",
      "[CV] END C=0.01, max_iter=2000, penalty=elasticnet, solver=sag; total time=   0.0s\n",
      "[CV] END C=0.01, max_iter=2000, penalty=elasticnet, solver=sag; total time=   0.0s\n",
      "[CV] END C=0.01, max_iter=2000, penalty=elasticnet, solver=sag; total time=   0.0s\n",
      "[CV] END C=0.01, max_iter=2000, penalty=elasticnet, solver=sag; total time=   0.0s\n",
      "[CV] END C=0.01, max_iter=2000, penalty=elasticnet, solver=sag; total time=   0.0s\n",
      "[CV] END C=0.01, max_iter=2000, penalty=elasticnet, solver=saga; total time=   0.0s\n",
      "[CV] END C=0.01, max_iter=2000, penalty=elasticnet, solver=saga; total time=   0.0s\n",
      "[CV] END C=0.01, max_iter=2000, penalty=elasticnet, solver=saga; total time=   0.0s\n",
      "[CV] END C=0.01, max_iter=2000, penalty=elasticnet, solver=saga; total time=   0.0s\n",
      "[CV] END C=0.01, max_iter=2000, penalty=elasticnet, solver=saga; total time=   0.0s\n",
      "[CV] END ....C=0.01, max_iter=2000, penalty=l1, solver=lbfgs; total time=   0.0s\n",
      "[CV] END ....C=0.01, max_iter=2000, penalty=l1, solver=lbfgs; total time=   0.0s\n",
      "[CV] END ....C=0.01, max_iter=2000, penalty=l1, solver=lbfgs; total time=   0.0s\n",
      "[CV] END C=0.01, max_iter=2000, penalty=l1, solver=newton-cg; total time=   0.0s\n",
      "[CV] END C=0.01, max_iter=2000, penalty=l1, solver=newton-cg; total time=   0.0s\n",
      "[CV] END C=0.01, max_iter=2000, penalty=l1, solver=liblinear; total time=   0.8s\n",
      "[CV] END C=0.01, max_iter=2000, penalty=l1, solver=liblinear; total time=   1.3s\n",
      "[CV] END .....C=0.01, max_iter=2000, penalty=l1, solver=saga; total time=   3.0s\n",
      "[CV] END .....C=0.01, max_iter=2000, penalty=l1, solver=saga; total time=   3.1s\n",
      "[CV] END C=0.001, max_iter=200, penalty=l2, solver=newton-cg; total time=   2.4s\n",
      "[CV] END C=0.001, max_iter=200, penalty=l2, solver=liblinear; total time=   1.0s\n",
      "[CV] END ......C=0.001, max_iter=200, penalty=l2, solver=sag; total time=   2.6s\n",
      "[CV] END ......C=0.001, max_iter=200, penalty=l2, solver=sag; total time=   2.3s\n",
      "[CV] END .....C=0.001, max_iter=200, penalty=l2, solver=saga; total time=   4.0s\n",
      "[CV] END C=0.001, max_iter=200, penalty=l1, solver=liblinear; total time=   1.0s\n",
      "[CV] END C=0.001, max_iter=200, penalty=l1, solver=liblinear; total time=   0.9s\n",
      "[CV] END ....C=0.001, max_iter=500, penalty=l2, solver=lbfgs; total time=   0.8s\n",
      "[CV] END ....C=0.001, max_iter=500, penalty=l2, solver=lbfgs; total time=   0.8s\n",
      "[CV] END ....C=0.001, max_iter=500, penalty=l2, solver=lbfgs; total time=   0.8s\n",
      "[CV] END ....C=0.001, max_iter=500, penalty=l2, solver=lbfgs; total time=   0.8s\n",
      "[CV] END C=0.001, max_iter=500, penalty=l2, solver=newton-cg; total time=   2.7s\n",
      "[CV] END C=0.001, max_iter=500, penalty=l2, solver=newton-cg; total time=   2.7s\n",
      "[CV] END ......C=0.01, max_iter=1000, penalty=l2, solver=sag; total time=   2.2s\n",
      "[CV] END .....C=0.01, max_iter=1000, penalty=l2, solver=saga; total time=   9.6s\n",
      "[CV] END C=0.01, max_iter=1000, penalty=elasticnet, solver=saga; total time=   0.0s\n",
      "[CV] END C=0.01, max_iter=1000, penalty=elasticnet, solver=saga; total time=   0.0s\n",
      "[CV] END C=0.01, max_iter=1000, penalty=elasticnet, solver=saga; total time=   0.0s\n",
      "[CV] END ....C=0.01, max_iter=1000, penalty=l1, solver=lbfgs; total time=   0.0s\n",
      "[CV] END ....C=0.01, max_iter=1000, penalty=l1, solver=lbfgs; total time=   0.0s\n",
      "[CV] END C=0.01, max_iter=1000, penalty=l1, solver=newton-cg; total time=   0.0s\n",
      "[CV] END C=0.01, max_iter=1000, penalty=l1, solver=newton-cg; total time=   0.0s\n",
      "[CV] END C=0.01, max_iter=1000, penalty=l1, solver=liblinear; total time=   0.9s\n",
      "[CV] END C=0.01, max_iter=1000, penalty=l1, solver=liblinear; total time=   1.0s\n",
      "[CV] END ......C=0.01, max_iter=1000, penalty=l1, solver=sag; total time=   0.0s\n",
      "[CV] END ......C=0.01, max_iter=1000, penalty=l1, solver=sag; total time=   0.0s\n",
      "[CV] END .....C=0.01, max_iter=1000, penalty=l1, solver=saga; total time=   2.8s\n",
      "[CV] END .....C=0.01, max_iter=1000, penalty=l1, solver=saga; total time=   3.1s\n",
      "[CV] END C=0.01, max_iter=2000, penalty=l2, solver=newton-cg; total time=   3.6s\n",
      "[CV] END C=0.01, max_iter=2000, penalty=l2, solver=newton-cg; total time=   3.4s\n",
      "[CV] END ......C=0.01, max_iter=2000, penalty=l2, solver=sag; total time=   2.4s\n",
      "[CV] END ......C=0.01, max_iter=2000, penalty=l2, solver=sag; total time=   2.4s\n",
      "[CV] END .....C=0.01, max_iter=2000, penalty=l2, solver=saga; total time=  10.3s\n",
      "[CV] END C=0.01, max_iter=2000, penalty=l1, solver=liblinear; total time=   1.0s\n",
      "[CV] END ......C=0.01, max_iter=2000, penalty=l1, solver=sag; total time=   0.0s\n",
      "[CV] END ......C=0.01, max_iter=2000, penalty=l1, solver=sag; total time=   0.0s\n",
      "[CV] END ......C=0.01, max_iter=2000, penalty=l1, solver=sag; total time=   0.0s\n",
      "[CV] END ......C=0.01, max_iter=2000, penalty=l1, solver=sag; total time=   0.0s\n",
      "[CV] END ......C=0.01, max_iter=2000, penalty=l1, solver=sag; total time=   0.0s\n",
      "[CV] END .....C=0.01, max_iter=2000, penalty=l1, solver=saga; total time=   3.2s\n",
      "[CV] END .....C=0.01, max_iter=2000, penalty=l1, solver=saga; total time=   2.9s\n",
      "[CV] END C=0.001, max_iter=200, penalty=l2, solver=newton-cg; total time=   2.5s\n",
      "[CV] END C=0.001, max_iter=200, penalty=l2, solver=liblinear; total time=   1.0s\n",
      "[CV] END C=0.001, max_iter=200, penalty=l2, solver=liblinear; total time=   1.1s\n",
      "[CV] END ......C=0.001, max_iter=200, penalty=l2, solver=sag; total time=   2.1s\n",
      "[CV] END .....C=0.001, max_iter=200, penalty=l2, solver=saga; total time=   4.5s\n",
      "[CV] END C=0.001, max_iter=200, penalty=elasticnet, solver=lbfgs; total time=   0.0s\n",
      "[CV] END C=0.001, max_iter=200, penalty=elasticnet, solver=lbfgs; total time=   0.0s\n",
      "[CV] END C=0.001, max_iter=200, penalty=elasticnet, solver=lbfgs; total time=   0.0s\n",
      "[CV] END C=0.001, max_iter=200, penalty=elasticnet, solver=lbfgs; total time=   0.0s\n",
      "[CV] END C=0.001, max_iter=200, penalty=elasticnet, solver=lbfgs; total time=   0.0s\n",
      "[CV] END C=0.001, max_iter=200, penalty=elasticnet, solver=newton-cg; total time=   0.0s\n",
      "[CV] END C=0.001, max_iter=200, penalty=elasticnet, solver=newton-cg; total time=   0.0s\n",
      "[CV] END C=0.001, max_iter=200, penalty=elasticnet, solver=newton-cg; total time=   0.0s\n",
      "[CV] END C=0.001, max_iter=200, penalty=elasticnet, solver=newton-cg; total time=   0.0s\n",
      "[CV] END C=0.001, max_iter=200, penalty=elasticnet, solver=newton-cg; total time=   0.0s\n",
      "[CV] END C=0.001, max_iter=200, penalty=elasticnet, solver=liblinear; total time=   0.0s\n",
      "[CV] END C=0.001, max_iter=200, penalty=elasticnet, solver=liblinear; total time=   0.0s\n",
      "[CV] END C=0.001, max_iter=200, penalty=elasticnet, solver=liblinear; total time=   0.0s\n",
      "[CV] END C=0.001, max_iter=200, penalty=elasticnet, solver=liblinear; total time=   0.0s\n",
      "[CV] END C=0.001, max_iter=200, penalty=elasticnet, solver=liblinear; total time=   0.0s\n",
      "[CV] END C=0.001, max_iter=200, penalty=elasticnet, solver=sag; total time=   0.0s\n",
      "[CV] END C=0.001, max_iter=200, penalty=elasticnet, solver=sag; total time=   0.0s\n",
      "[CV] END C=0.001, max_iter=200, penalty=elasticnet, solver=sag; total time=   0.0s\n",
      "[CV] END C=0.001, max_iter=200, penalty=elasticnet, solver=sag; total time=   0.0s\n",
      "[CV] END C=0.001, max_iter=200, penalty=elasticnet, solver=sag; total time=   0.0s\n",
      "[CV] END C=0.001, max_iter=200, penalty=elasticnet, solver=saga; total time=   0.0s\n",
      "[CV] END C=0.001, max_iter=200, penalty=elasticnet, solver=saga; total time=   0.0s\n",
      "[CV] END C=0.001, max_iter=200, penalty=elasticnet, solver=saga; total time=   0.0s\n",
      "[CV] END C=0.001, max_iter=200, penalty=elasticnet, solver=saga; total time=   0.0s\n",
      "[CV] END C=0.001, max_iter=200, penalty=elasticnet, solver=saga; total time=   0.0s\n",
      "[CV] END ....C=0.001, max_iter=200, penalty=l1, solver=lbfgs; total time=   0.0s\n",
      "[CV] END ....C=0.001, max_iter=200, penalty=l1, solver=lbfgs; total time=   0.0s\n",
      "[CV] END ....C=0.001, max_iter=200, penalty=l1, solver=lbfgs; total time=   0.0s\n",
      "[CV] END ....C=0.001, max_iter=200, penalty=l1, solver=lbfgs; total time=   0.0s\n",
      "[CV] END ....C=0.001, max_iter=200, penalty=l1, solver=lbfgs; total time=   0.0s\n",
      "[CV] END C=0.001, max_iter=200, penalty=l1, solver=newton-cg; total time=   0.0s\n",
      "[CV] END C=0.001, max_iter=200, penalty=l1, solver=newton-cg; total time=   0.0s\n",
      "[CV] END C=0.001, max_iter=200, penalty=l1, solver=newton-cg; total time=   0.0s\n",
      "[CV] END C=0.001, max_iter=200, penalty=l1, solver=newton-cg; total time=   0.0s\n",
      "[CV] END C=0.001, max_iter=200, penalty=l1, solver=newton-cg; total time=   0.0s\n",
      "[CV] END C=0.001, max_iter=200, penalty=l1, solver=liblinear; total time=   0.8s\n",
      "[CV] END C=0.001, max_iter=200, penalty=l1, solver=liblinear; total time=   1.0s\n",
      "[CV] END .....C=0.001, max_iter=200, penalty=l1, solver=saga; total time=   3.9s\n",
      "[CV] END .....C=0.001, max_iter=200, penalty=l1, solver=saga; total time=   3.4s\n",
      "[CV] END C=0.001, max_iter=500, penalty=l2, solver=liblinear; total time=   0.9s\n",
      "[CV] END C=0.001, max_iter=500, penalty=l2, solver=liblinear; total time=   0.9s\n",
      "[CV] END C=0.001, max_iter=500, penalty=l2, solver=liblinear; total time=   0.9s\n",
      "[CV] END C=0.001, max_iter=500, penalty=l2, solver=liblinear; total time=   0.9s\n",
      "[CV] END ......C=0.001, max_iter=500, penalty=l2, solver=sag; total time=   2.2s\n",
      "[CV] END .....C=0.001, max_iter=500, penalty=l2, solver=saga; total time=   5.7s\n",
      "[CV] END C=0.001, max_iter=500, penalty=l1, solver=liblinear; total time=   1.0s\n",
      "[CV] END C=0.001, max_iter=500, penalty=l1, solver=liblinear; total time=   1.1s\n",
      "[CV] END .....C=0.001, max_iter=500, penalty=l1, solver=saga; total time=   3.4s\n",
      "[CV] END .....C=0.001, max_iter=500, penalty=l1, solver=saga; total time=   3.5s\n",
      "[CV] END C=0.001, max_iter=1000, penalty=l2, solver=newton-cg; total time=   2.4s\n",
      "[CV] END C=0.001, max_iter=1000, penalty=l2, solver=newton-cg; total time=   2.7s\n",
      "[CV] END .....C=0.001, max_iter=1000, penalty=l2, solver=sag; total time=   2.2s\n",
      "[CV] END ....C=0.001, max_iter=1000, penalty=l2, solver=saga; total time=   4.3s\n",
      "[CV] END C=0.001, max_iter=1000, penalty=elasticnet, solver=lbfgs; total time=   0.0s\n",
      "[CV] END C=0.001, max_iter=1000, penalty=elasticnet, solver=lbfgs; total time=   0.0s\n",
      "[CV] END C=0.001, max_iter=1000, penalty=elasticnet, solver=lbfgs; total time=   0.0s\n",
      "[CV] END C=0.001, max_iter=1000, penalty=elasticnet, solver=lbfgs; total time=   0.0s\n",
      "[CV] END C=0.001, max_iter=1000, penalty=elasticnet, solver=lbfgs; total time=   0.0s\n",
      "[CV] END C=0.001, max_iter=1000, penalty=elasticnet, solver=newton-cg; total time=   0.0s\n",
      "[CV] END C=0.001, max_iter=1000, penalty=elasticnet, solver=newton-cg; total time=   0.0s\n",
      "[CV] END C=0.001, max_iter=1000, penalty=elasticnet, solver=newton-cg; total time=   0.0s\n",
      "[CV] END C=0.001, max_iter=1000, penalty=elasticnet, solver=newton-cg; total time=   0.0s\n",
      "[CV] END C=0.001, max_iter=1000, penalty=elasticnet, solver=newton-cg; total time=   0.0s\n",
      "[CV] END C=0.001, max_iter=1000, penalty=elasticnet, solver=liblinear; total time=   0.0s\n",
      "[CV] END C=0.001, max_iter=1000, penalty=elasticnet, solver=liblinear; total time=   0.0s\n",
      "[CV] END C=0.01, max_iter=200, penalty=elasticnet, solver=saga; total time=   0.0s\n",
      "[CV] END C=0.01, max_iter=200, penalty=elasticnet, solver=saga; total time=   0.0s\n",
      "[CV] END C=0.01, max_iter=200, penalty=elasticnet, solver=saga; total time=   0.0s\n",
      "[CV] END C=0.01, max_iter=200, penalty=elasticnet, solver=saga; total time=   0.0s\n",
      "[CV] END C=0.01, max_iter=200, penalty=elasticnet, solver=saga; total time=   0.0s\n",
      "[CV] END .....C=0.01, max_iter=200, penalty=l1, solver=lbfgs; total time=   0.0s\n",
      "[CV] END .....C=0.01, max_iter=200, penalty=l1, solver=lbfgs; total time=   0.0s\n",
      "[CV] END .....C=0.01, max_iter=200, penalty=l1, solver=lbfgs; total time=   0.0s\n",
      "[CV] END .....C=0.01, max_iter=200, penalty=l1, solver=lbfgs; total time=   0.0s\n",
      "[CV] END .....C=0.01, max_iter=200, penalty=l1, solver=lbfgs; total time=   0.0s\n",
      "[CV] END .C=0.01, max_iter=200, penalty=l1, solver=newton-cg; total time=   0.0s\n",
      "[CV] END .C=0.01, max_iter=200, penalty=l1, solver=newton-cg; total time=   0.0s\n",
      "[CV] END .C=0.01, max_iter=200, penalty=l1, solver=newton-cg; total time=   0.0s\n",
      "[CV] END .C=0.01, max_iter=200, penalty=l1, solver=newton-cg; total time=   0.0s\n",
      "[CV] END .C=0.01, max_iter=200, penalty=l1, solver=newton-cg; total time=   0.0s\n",
      "[CV] END .C=0.01, max_iter=200, penalty=l1, solver=liblinear; total time=   1.0s\n",
      "[CV] END .C=0.01, max_iter=200, penalty=l1, solver=liblinear; total time=   1.0s\n",
      "[CV] END .......C=0.01, max_iter=200, penalty=l1, solver=sag; total time=   0.0s\n",
      "[CV] END .......C=0.01, max_iter=200, penalty=l1, solver=sag; total time=   0.0s\n",
      "[CV] END .......C=0.01, max_iter=200, penalty=l1, solver=sag; total time=   0.0s\n",
      "[CV] END .......C=0.01, max_iter=200, penalty=l1, solver=sag; total time=   0.0s\n",
      "[CV] END ......C=0.01, max_iter=200, penalty=l1, solver=saga; total time=   3.2s\n",
      "[CV] END ......C=0.01, max_iter=200, penalty=l1, solver=saga; total time=   2.8s\n",
      "[CV] END .....C=0.01, max_iter=500, penalty=l2, solver=lbfgs; total time=   1.8s\n",
      "[CV] END .C=0.01, max_iter=500, penalty=l2, solver=newton-cg; total time=   3.4s\n",
      "[CV] END .C=0.01, max_iter=500, penalty=l2, solver=newton-cg; total time=   3.6s\n",
      "[CV] END .......C=0.01, max_iter=500, penalty=l2, solver=sag; total time=   2.3s\n",
      "[CV] END ......C=0.01, max_iter=500, penalty=l2, solver=saga; total time=   6.1s\n",
      "[CV] END ......C=0.01, max_iter=500, penalty=l2, solver=saga; total time=   9.9s\n",
      "[CV] END ....C=0.01, max_iter=1000, penalty=l2, solver=lbfgs; total time=   2.2s\n",
      "[CV] END ....C=0.01, max_iter=1000, penalty=l2, solver=lbfgs; total time=   1.8s\n",
      "[CV] END C=0.01, max_iter=1000, penalty=l2, solver=newton-cg; total time=   3.6s\n",
      "[CV] END C=0.01, max_iter=1000, penalty=l2, solver=newton-cg; total time=   3.7s\n",
      "[CV] END ......C=0.01, max_iter=1000, penalty=l2, solver=sag; total time=   2.6s\n",
      "[CV] END .....C=0.01, max_iter=1000, penalty=l2, solver=saga; total time=  11.3s\n",
      "[CV] END C=0.01, max_iter=1000, penalty=l1, solver=liblinear; total time=   1.3s\n",
      "[CV] END .....C=0.01, max_iter=1000, penalty=l1, solver=saga; total time=   3.0s\n",
      "[CV] END ....C=0.01, max_iter=2000, penalty=l2, solver=lbfgs; total time=   1.7s\n",
      "[CV] END ....C=0.01, max_iter=2000, penalty=l2, solver=lbfgs; total time=   1.9s\n",
      "[CV] END ....C=0.01, max_iter=2000, penalty=l2, solver=lbfgs; total time=   1.7s\n",
      "[CV] END C=0.01, max_iter=2000, penalty=l2, solver=newton-cg; total time=   3.6s\n",
      "[CV] END C=0.01, max_iter=2000, penalty=l2, solver=liblinear; total time=   1.5s\n",
      "[CV] END ......C=0.01, max_iter=2000, penalty=l2, solver=sag; total time=   2.3s\n",
      "[CV] END .....C=0.01, max_iter=2000, penalty=l2, solver=saga; total time=  11.6s\n",
      "[CV] END ....C=0.01, max_iter=2000, penalty=l1, solver=lbfgs; total time=   0.0s\n",
      "[CV] END ....C=0.01, max_iter=2000, penalty=l1, solver=lbfgs; total time=   0.0s\n",
      "[CV] END C=0.01, max_iter=2000, penalty=l1, solver=newton-cg; total time=   0.0s\n",
      "[CV] END C=0.01, max_iter=2000, penalty=l1, solver=newton-cg; total time=   0.0s\n",
      "[CV] END C=0.01, max_iter=2000, penalty=l1, solver=newton-cg; total time=   0.0s\n",
      "[CV] END C=0.01, max_iter=2000, penalty=l1, solver=liblinear; total time=   1.1s\n",
      "[CV] END C=0.01, max_iter=2000, penalty=l1, solver=liblinear; total time=   1.2s\n",
      "[CV] END .....C=0.01, max_iter=2000, penalty=l1, solver=saga; total time=   2.9s\n",
      "[CV] END ....C=0.001, max_iter=200, penalty=l2, solver=lbfgs; total time=   0.9s\n",
      "[CV] END ....C=0.001, max_iter=200, penalty=l2, solver=lbfgs; total time=   0.8s\n",
      "[CV] END ....C=0.001, max_iter=200, penalty=l2, solver=lbfgs; total time=   0.8s\n",
      "[CV] END C=0.001, max_iter=200, penalty=l2, solver=newton-cg; total time=   2.4s\n",
      "[CV] END C=0.001, max_iter=200, penalty=l2, solver=liblinear; total time=   1.0s\n",
      "[CV] END C=0.001, max_iter=200, penalty=l2, solver=liblinear; total time=   1.3s\n",
      "[CV] END ......C=0.001, max_iter=200, penalty=l2, solver=sag; total time=   2.2s\n",
      "[CV] END .....C=0.001, max_iter=200, penalty=l2, solver=saga; total time=   3.1s\n",
      "[CV] END .....C=0.001, max_iter=200, penalty=l2, solver=saga; total time=   3.2s\n",
      "[CV] END C=0.001, max_iter=200, penalty=l1, solver=liblinear; total time=   0.8s\n",
      "[CV] END ......C=0.001, max_iter=200, penalty=l1, solver=sag; total time=   0.0s\n",
      "[CV] END .....C=0.001, max_iter=200, penalty=l1, solver=saga; total time=   3.4s\n",
      "[CV] END ....C=0.001, max_iter=500, penalty=l2, solver=lbfgs; total time=   0.9s\n",
      "[CV] END C=0.001, max_iter=500, penalty=l2, solver=newton-cg; total time=   2.5s\n",
      "[CV] END C=0.001, max_iter=500, penalty=l2, solver=newton-cg; total time=   2.3s\n",
      "[CV] END ......C=0.001, max_iter=500, penalty=l2, solver=sag; total time=   2.3s\n",
      "[CV] END ......C=0.001, max_iter=500, penalty=l2, solver=sag; total time=   2.3s\n",
      "[CV] END .....C=0.001, max_iter=500, penalty=l2, solver=saga; total time=   2.9s\n",
      "[CV] END .....C=0.001, max_iter=500, penalty=l2, solver=saga; total time=   6.2s\n",
      "[CV] END ...C=0.001, max_iter=1000, penalty=l2, solver=lbfgs; total time=   0.9s\n",
      "[CV] END ...C=0.001, max_iter=1000, penalty=l2, solver=lbfgs; total time=   0.8s\n",
      "[CV] END ...C=0.001, max_iter=1000, penalty=l2, solver=lbfgs; total time=   0.8s\n",
      "[CV] END ...C=0.001, max_iter=1000, penalty=l2, solver=lbfgs; total time=   0.8s\n",
      "[CV] END C=0.001, max_iter=1000, penalty=l2, solver=newton-cg; total time=   2.8s\n",
      "[CV] END C=0.001, max_iter=1000, penalty=l2, solver=newton-cg; total time=   2.6s\n",
      "[CV] END C=0.001, max_iter=1000, penalty=l2, solver=liblinear; total time=   1.0s\n",
      "[CV] END .....C=0.001, max_iter=1000, penalty=l2, solver=sag; total time=   2.0s\n",
      "[CV] END .....C=0.001, max_iter=1000, penalty=l2, solver=sag; total time=   2.3s\n",
      "[CV] END ....C=0.001, max_iter=1000, penalty=l2, solver=saga; total time=   5.0s\n",
      "[CV] END C=0.001, max_iter=1000, penalty=l1, solver=liblinear; total time=   0.8s\n",
      "[CV] END .....C=0.001, max_iter=1000, penalty=l1, solver=sag; total time=   0.0s\n",
      "[CV] END ....C=0.001, max_iter=1000, penalty=l1, solver=saga; total time=   4.0s\n",
      "[CV] END ...C=0.001, max_iter=2000, penalty=l2, solver=lbfgs; total time=   0.9s\n",
      "[CV] END ...C=0.001, max_iter=2000, penalty=l2, solver=lbfgs; total time=   0.8s\n",
      "[CV] END ...C=0.001, max_iter=2000, penalty=l2, solver=lbfgs; total time=   0.8s\n",
      "[CV] END C=0.001, max_iter=2000, penalty=l2, solver=newton-cg; total time=   2.4s\n",
      "[CV] END C=0.001, max_iter=2000, penalty=l2, solver=newton-cg; total time=   3.0s\n",
      "[CV] END C=0.001, max_iter=2000, penalty=l2, solver=newton-cg; total time=   2.7s\n",
      "[CV] END C=0.001, max_iter=2000, penalty=l2, solver=liblinear; total time=   0.8s\n",
      "[CV] END C=0.001, max_iter=2000, penalty=elasticnet, solver=lbfgs; total time=   0.0s\n",
      "[CV] END C=0.001, max_iter=2000, penalty=elasticnet, solver=lbfgs; total time=   0.0s\n",
      "[CV] END C=0.001, max_iter=2000, penalty=elasticnet, solver=lbfgs; total time=   0.0s\n",
      "[CV] END C=0.001, max_iter=2000, penalty=elasticnet, solver=newton-cg; total time=   0.0s\n",
      "[CV] END C=0.001, max_iter=2000, penalty=elasticnet, solver=newton-cg; total time=   0.0s\n",
      "[CV] END C=0.001, max_iter=2000, penalty=elasticnet, solver=newton-cg; total time=   0.0s\n",
      "[CV] END C=0.001, max_iter=2000, penalty=elasticnet, solver=newton-cg; total time=   0.0s\n",
      "[CV] END C=0.001, max_iter=2000, penalty=elasticnet, solver=newton-cg; total time=   0.0s\n",
      "[CV] END C=0.001, max_iter=2000, penalty=elasticnet, solver=liblinear; total time=   0.0s\n"
     ]
    },
    {
     "name": "stderr",
     "output_type": "stream",
     "text": [
      "/opt/conda/lib/python3.10/site-packages/sklearn/model_selection/_validation.py:378: FitFailedWarning: \n",
      "480 fits failed out of a total of 900.\n",
      "The score on these train-test partitions for these parameters will be set to nan.\n",
      "If these failures are not expected, you can try to debug them by setting error_score='raise'.\n",
      "\n",
      "Below are more details about the failures:\n",
      "--------------------------------------------------------------------------------\n",
      "60 fits failed with the following error:\n",
      "Traceback (most recent call last):\n",
      "  File \"/opt/conda/lib/python3.10/site-packages/sklearn/model_selection/_validation.py\", line 686, in _fit_and_score\n",
      "    estimator.fit(X_train, y_train, **fit_params)\n",
      "  File \"/opt/conda/lib/python3.10/site-packages/sklearn/linear_model/_logistic.py\", line 1162, in fit\n",
      "    solver = _check_solver(self.solver, self.penalty, self.dual)\n",
      "  File \"/opt/conda/lib/python3.10/site-packages/sklearn/linear_model/_logistic.py\", line 54, in _check_solver\n",
      "    raise ValueError(\n",
      "ValueError: Solver lbfgs supports only 'l2' or 'none' penalties, got elasticnet penalty.\n",
      "\n",
      "--------------------------------------------------------------------------------\n",
      "60 fits failed with the following error:\n",
      "Traceback (most recent call last):\n",
      "  File \"/opt/conda/lib/python3.10/site-packages/sklearn/model_selection/_validation.py\", line 686, in _fit_and_score\n",
      "    estimator.fit(X_train, y_train, **fit_params)\n",
      "  File \"/opt/conda/lib/python3.10/site-packages/sklearn/linear_model/_logistic.py\", line 1162, in fit\n",
      "    solver = _check_solver(self.solver, self.penalty, self.dual)\n",
      "  File \"/opt/conda/lib/python3.10/site-packages/sklearn/linear_model/_logistic.py\", line 54, in _check_solver\n",
      "    raise ValueError(\n",
      "ValueError: Solver newton-cg supports only 'l2' or 'none' penalties, got elasticnet penalty.\n",
      "\n",
      "--------------------------------------------------------------------------------\n",
      "60 fits failed with the following error:\n",
      "Traceback (most recent call last):\n",
      "  File \"/opt/conda/lib/python3.10/site-packages/sklearn/model_selection/_validation.py\", line 686, in _fit_and_score\n",
      "    estimator.fit(X_train, y_train, **fit_params)\n",
      "  File \"/opt/conda/lib/python3.10/site-packages/sklearn/linear_model/_logistic.py\", line 1162, in fit\n",
      "    solver = _check_solver(self.solver, self.penalty, self.dual)\n",
      "  File \"/opt/conda/lib/python3.10/site-packages/sklearn/linear_model/_logistic.py\", line 64, in _check_solver\n",
      "    raise ValueError(\n",
      "ValueError: Only 'saga' solver supports elasticnet penalty, got solver=liblinear.\n",
      "\n",
      "--------------------------------------------------------------------------------\n",
      "60 fits failed with the following error:\n",
      "Traceback (most recent call last):\n",
      "  File \"/opt/conda/lib/python3.10/site-packages/sklearn/model_selection/_validation.py\", line 686, in _fit_and_score\n",
      "    estimator.fit(X_train, y_train, **fit_params)\n",
      "  File \"/opt/conda/lib/python3.10/site-packages/sklearn/linear_model/_logistic.py\", line 1162, in fit\n",
      "    solver = _check_solver(self.solver, self.penalty, self.dual)\n",
      "  File \"/opt/conda/lib/python3.10/site-packages/sklearn/linear_model/_logistic.py\", line 54, in _check_solver\n",
      "    raise ValueError(\n",
      "ValueError: Solver sag supports only 'l2' or 'none' penalties, got elasticnet penalty.\n",
      "\n",
      "--------------------------------------------------------------------------------\n",
      "60 fits failed with the following error:\n",
      "Traceback (most recent call last):\n",
      "  File \"/opt/conda/lib/python3.10/site-packages/sklearn/model_selection/_validation.py\", line 686, in _fit_and_score\n",
      "    estimator.fit(X_train, y_train, **fit_params)\n",
      "  File \"/opt/conda/lib/python3.10/site-packages/sklearn/linear_model/_logistic.py\", line 1291, in fit\n",
      "    fold_coefs_ = Parallel(n_jobs=self.n_jobs, verbose=self.verbose, prefer=prefer)(\n",
      "  File \"/opt/conda/lib/python3.10/site-packages/sklearn/utils/parallel.py\", line 63, in __call__\n",
      "    return super().__call__(iterable_with_config)\n",
      "  File \"/opt/conda/lib/python3.10/site-packages/joblib/parallel.py\", line 1085, in __call__\n",
      "    if self.dispatch_one_batch(iterator):\n",
      "  File \"/opt/conda/lib/python3.10/site-packages/joblib/parallel.py\", line 901, in dispatch_one_batch\n",
      "    self._dispatch(tasks)\n",
      "  File \"/opt/conda/lib/python3.10/site-packages/joblib/parallel.py\", line 819, in _dispatch\n",
      "    job = self._backend.apply_async(batch, callback=cb)\n",
      "  File \"/opt/conda/lib/python3.10/site-packages/joblib/_parallel_backends.py\", line 208, in apply_async\n",
      "    result = ImmediateResult(func)\n",
      "  File \"/opt/conda/lib/python3.10/site-packages/joblib/_parallel_backends.py\", line 597, in __init__\n",
      "    self.results = batch()\n",
      "  File \"/opt/conda/lib/python3.10/site-packages/joblib/parallel.py\", line 288, in __call__\n",
      "    return [func(*args, **kwargs)\n",
      "  File \"/opt/conda/lib/python3.10/site-packages/joblib/parallel.py\", line 288, in <listcomp>\n",
      "    return [func(*args, **kwargs)\n",
      "  File \"/opt/conda/lib/python3.10/site-packages/sklearn/utils/parallel.py\", line 123, in __call__\n",
      "    return self.function(*args, **kwargs)\n",
      "  File \"/opt/conda/lib/python3.10/site-packages/sklearn/linear_model/_logistic.py\", line 521, in _logistic_regression_path\n",
      "    alpha = (1.0 / C) * (1 - l1_ratio)\n",
      "TypeError: unsupported operand type(s) for -: 'int' and 'NoneType'\n",
      "\n",
      "--------------------------------------------------------------------------------\n",
      "60 fits failed with the following error:\n",
      "Traceback (most recent call last):\n",
      "  File \"/opt/conda/lib/python3.10/site-packages/sklearn/model_selection/_validation.py\", line 686, in _fit_and_score\n",
      "    estimator.fit(X_train, y_train, **fit_params)\n",
      "  File \"/opt/conda/lib/python3.10/site-packages/sklearn/linear_model/_logistic.py\", line 1162, in fit\n",
      "    solver = _check_solver(self.solver, self.penalty, self.dual)\n",
      "  File \"/opt/conda/lib/python3.10/site-packages/sklearn/linear_model/_logistic.py\", line 54, in _check_solver\n",
      "    raise ValueError(\n",
      "ValueError: Solver lbfgs supports only 'l2' or 'none' penalties, got l1 penalty.\n",
      "\n",
      "--------------------------------------------------------------------------------\n",
      "60 fits failed with the following error:\n",
      "Traceback (most recent call last):\n",
      "  File \"/opt/conda/lib/python3.10/site-packages/sklearn/model_selection/_validation.py\", line 686, in _fit_and_score\n",
      "    estimator.fit(X_train, y_train, **fit_params)\n",
      "  File \"/opt/conda/lib/python3.10/site-packages/sklearn/linear_model/_logistic.py\", line 1162, in fit\n",
      "    solver = _check_solver(self.solver, self.penalty, self.dual)\n",
      "  File \"/opt/conda/lib/python3.10/site-packages/sklearn/linear_model/_logistic.py\", line 54, in _check_solver\n",
      "    raise ValueError(\n",
      "ValueError: Solver newton-cg supports only 'l2' or 'none' penalties, got l1 penalty.\n",
      "\n",
      "--------------------------------------------------------------------------------\n",
      "60 fits failed with the following error:\n",
      "Traceback (most recent call last):\n",
      "  File \"/opt/conda/lib/python3.10/site-packages/sklearn/model_selection/_validation.py\", line 686, in _fit_and_score\n",
      "    estimator.fit(X_train, y_train, **fit_params)\n",
      "  File \"/opt/conda/lib/python3.10/site-packages/sklearn/linear_model/_logistic.py\", line 1162, in fit\n",
      "    solver = _check_solver(self.solver, self.penalty, self.dual)\n",
      "  File \"/opt/conda/lib/python3.10/site-packages/sklearn/linear_model/_logistic.py\", line 54, in _check_solver\n",
      "    raise ValueError(\n",
      "ValueError: Solver sag supports only 'l2' or 'none' penalties, got l1 penalty.\n",
      "\n",
      "  warnings.warn(some_fits_failed_message, FitFailedWarning)\n",
      "/opt/conda/lib/python3.10/site-packages/sklearn/model_selection/_search.py:952: UserWarning: One or more of the test scores are non-finite: [0.78262905 0.78263673 0.78264441 0.78263673 0.78263673        nan\n",
      "        nan        nan        nan        nan        nan        nan\n",
      " 0.73904428        nan 0.73905196 0.78262905 0.78263673 0.78264441\n",
      " 0.78263673 0.78263673        nan        nan        nan        nan\n",
      "        nan        nan        nan 0.73905196        nan 0.73905964\n",
      " 0.78262905 0.78263673 0.78264441 0.78263673 0.78263673        nan\n",
      "        nan        nan        nan        nan        nan        nan\n",
      " 0.73904428        nan 0.73905196 0.78262905 0.78263673 0.78264441\n",
      " 0.78263673 0.78263673        nan        nan        nan        nan\n",
      "        nan        nan        nan 0.7390366         nan 0.73905196\n",
      " 0.67786431 0.67786431 0.67794111 0.67786431 0.67787199        nan\n",
      "        nan        nan        nan        nan        nan        nan\n",
      " 0.66828718        nan 0.66828718 0.67786431 0.67786431 0.67794111\n",
      " 0.67786431 0.67787199        nan        nan        nan        nan\n",
      "        nan        nan        nan 0.66828718        nan 0.66828718\n",
      " 0.67786431 0.67786431 0.67794111 0.67786431 0.67787199        nan\n",
      "        nan        nan        nan        nan        nan        nan\n",
      " 0.66828718        nan 0.66828718 0.67786431 0.67786431 0.67794111\n",
      " 0.67786431 0.67787199        nan        nan        nan        nan\n",
      "        nan        nan        nan 0.66828718        nan 0.66828718\n",
      " 0.66824109 0.66824109 0.66824109 0.66824109 0.66824109        nan\n",
      "        nan        nan        nan        nan        nan        nan\n",
      " 0.66824109        nan 0.66824109 0.66824109 0.66824109 0.66824109\n",
      " 0.66824109 0.66824109        nan        nan        nan        nan\n",
      "        nan        nan        nan 0.66824109        nan 0.66824109\n",
      " 0.66824109 0.66824109 0.66824109 0.66824109 0.66824109        nan\n",
      "        nan        nan        nan        nan        nan        nan\n",
      " 0.66824109        nan 0.66824109 0.66824109 0.66824109 0.66824109\n",
      " 0.66824109 0.66824109        nan        nan        nan        nan\n",
      "        nan        nan        nan 0.66824109        nan 0.66824109]\n",
      "  warnings.warn(\n"
     ]
    },
    {
     "data": {
      "text/html": [
       "<style>#sk-container-id-6 {color: black;background-color: white;}#sk-container-id-6 pre{padding: 0;}#sk-container-id-6 div.sk-toggleable {background-color: white;}#sk-container-id-6 label.sk-toggleable__label {cursor: pointer;display: block;width: 100%;margin-bottom: 0;padding: 0.3em;box-sizing: border-box;text-align: center;}#sk-container-id-6 label.sk-toggleable__label-arrow:before {content: \"▸\";float: left;margin-right: 0.25em;color: #696969;}#sk-container-id-6 label.sk-toggleable__label-arrow:hover:before {color: black;}#sk-container-id-6 div.sk-estimator:hover label.sk-toggleable__label-arrow:before {color: black;}#sk-container-id-6 div.sk-toggleable__content {max-height: 0;max-width: 0;overflow: hidden;text-align: left;background-color: #f0f8ff;}#sk-container-id-6 div.sk-toggleable__content pre {margin: 0.2em;color: black;border-radius: 0.25em;background-color: #f0f8ff;}#sk-container-id-6 input.sk-toggleable__control:checked~div.sk-toggleable__content {max-height: 200px;max-width: 100%;overflow: auto;}#sk-container-id-6 input.sk-toggleable__control:checked~label.sk-toggleable__label-arrow:before {content: \"▾\";}#sk-container-id-6 div.sk-estimator input.sk-toggleable__control:checked~label.sk-toggleable__label {background-color: #d4ebff;}#sk-container-id-6 div.sk-label input.sk-toggleable__control:checked~label.sk-toggleable__label {background-color: #d4ebff;}#sk-container-id-6 input.sk-hidden--visually {border: 0;clip: rect(1px 1px 1px 1px);clip: rect(1px, 1px, 1px, 1px);height: 1px;margin: -1px;overflow: hidden;padding: 0;position: absolute;width: 1px;}#sk-container-id-6 div.sk-estimator {font-family: monospace;background-color: #f0f8ff;border: 1px dotted black;border-radius: 0.25em;box-sizing: border-box;margin-bottom: 0.5em;}#sk-container-id-6 div.sk-estimator:hover {background-color: #d4ebff;}#sk-container-id-6 div.sk-parallel-item::after {content: \"\";width: 100%;border-bottom: 1px solid gray;flex-grow: 1;}#sk-container-id-6 div.sk-label:hover label.sk-toggleable__label {background-color: #d4ebff;}#sk-container-id-6 div.sk-serial::before {content: \"\";position: absolute;border-left: 1px solid gray;box-sizing: border-box;top: 0;bottom: 0;left: 50%;z-index: 0;}#sk-container-id-6 div.sk-serial {display: flex;flex-direction: column;align-items: center;background-color: white;padding-right: 0.2em;padding-left: 0.2em;position: relative;}#sk-container-id-6 div.sk-item {position: relative;z-index: 1;}#sk-container-id-6 div.sk-parallel {display: flex;align-items: stretch;justify-content: center;background-color: white;position: relative;}#sk-container-id-6 div.sk-item::before, #sk-container-id-6 div.sk-parallel-item::before {content: \"\";position: absolute;border-left: 1px solid gray;box-sizing: border-box;top: 0;bottom: 0;left: 50%;z-index: -1;}#sk-container-id-6 div.sk-parallel-item {display: flex;flex-direction: column;z-index: 1;position: relative;background-color: white;}#sk-container-id-6 div.sk-parallel-item:first-child::after {align-self: flex-end;width: 50%;}#sk-container-id-6 div.sk-parallel-item:last-child::after {align-self: flex-start;width: 50%;}#sk-container-id-6 div.sk-parallel-item:only-child::after {width: 0;}#sk-container-id-6 div.sk-dashed-wrapped {border: 1px dashed gray;margin: 0 0.4em 0.5em 0.4em;box-sizing: border-box;padding-bottom: 0.4em;background-color: white;}#sk-container-id-6 div.sk-label label {font-family: monospace;font-weight: bold;display: inline-block;line-height: 1.2em;}#sk-container-id-6 div.sk-label-container {text-align: center;}#sk-container-id-6 div.sk-container {/* jupyter's `normalize.less` sets `[hidden] { display: none; }` but bootstrap.min.css set `[hidden] { display: none !important; }` so we also need the `!important` here to be able to override the default hidden behavior on the sphinx rendered scikit-learn.org. See: https://github.com/scikit-learn/scikit-learn/issues/21755 */display: inline-block !important;position: relative;}#sk-container-id-6 div.sk-text-repr-fallback {display: none;}</style><div id=\"sk-container-id-6\" class=\"sk-top-container\"><div class=\"sk-text-repr-fallback\"><pre>GridSearchCV(cv=5, estimator=LogisticRegression(), n_jobs=-1,\n",
       "             param_grid=[{&#x27;C&#x27;: [0.1, 0.01, 0.001],\n",
       "                          &#x27;max_iter&#x27;: [200, 500, 1000, 2000],\n",
       "                          &#x27;penalty&#x27;: [&#x27;l2&#x27;, &#x27;elasticnet&#x27;, &#x27;l1&#x27;],\n",
       "                          &#x27;solver&#x27;: [&#x27;lbfgs&#x27;, &#x27;newton-cg&#x27;, &#x27;liblinear&#x27;, &#x27;sag&#x27;,\n",
       "                                     &#x27;saga&#x27;]}],\n",
       "             verbose=2)</pre><b>In a Jupyter environment, please rerun this cell to show the HTML representation or trust the notebook. <br />On GitHub, the HTML representation is unable to render, please try loading this page with nbviewer.org.</b></div><div class=\"sk-container\" hidden><div class=\"sk-item sk-dashed-wrapped\"><div class=\"sk-label-container\"><div class=\"sk-label sk-toggleable\"><input class=\"sk-toggleable__control sk-hidden--visually\" id=\"sk-estimator-id-10\" type=\"checkbox\" ><label for=\"sk-estimator-id-10\" class=\"sk-toggleable__label sk-toggleable__label-arrow\">GridSearchCV</label><div class=\"sk-toggleable__content\"><pre>GridSearchCV(cv=5, estimator=LogisticRegression(), n_jobs=-1,\n",
       "             param_grid=[{&#x27;C&#x27;: [0.1, 0.01, 0.001],\n",
       "                          &#x27;max_iter&#x27;: [200, 500, 1000, 2000],\n",
       "                          &#x27;penalty&#x27;: [&#x27;l2&#x27;, &#x27;elasticnet&#x27;, &#x27;l1&#x27;],\n",
       "                          &#x27;solver&#x27;: [&#x27;lbfgs&#x27;, &#x27;newton-cg&#x27;, &#x27;liblinear&#x27;, &#x27;sag&#x27;,\n",
       "                                     &#x27;saga&#x27;]}],\n",
       "             verbose=2)</pre></div></div></div><div class=\"sk-parallel\"><div class=\"sk-parallel-item\"><div class=\"sk-item\"><div class=\"sk-label-container\"><div class=\"sk-label sk-toggleable\"><input class=\"sk-toggleable__control sk-hidden--visually\" id=\"sk-estimator-id-11\" type=\"checkbox\" ><label for=\"sk-estimator-id-11\" class=\"sk-toggleable__label sk-toggleable__label-arrow\">estimator: LogisticRegression</label><div class=\"sk-toggleable__content\"><pre>LogisticRegression()</pre></div></div></div><div class=\"sk-serial\"><div class=\"sk-item\"><div class=\"sk-estimator sk-toggleable\"><input class=\"sk-toggleable__control sk-hidden--visually\" id=\"sk-estimator-id-12\" type=\"checkbox\" ><label for=\"sk-estimator-id-12\" class=\"sk-toggleable__label sk-toggleable__label-arrow\">LogisticRegression</label><div class=\"sk-toggleable__content\"><pre>LogisticRegression()</pre></div></div></div></div></div></div></div></div></div></div>"
      ],
      "text/plain": [
       "GridSearchCV(cv=5, estimator=LogisticRegression(), n_jobs=-1,\n",
       "             param_grid=[{'C': [0.1, 0.01, 0.001],\n",
       "                          'max_iter': [200, 500, 1000, 2000],\n",
       "                          'penalty': ['l2', 'elasticnet', 'l1'],\n",
       "                          'solver': ['lbfgs', 'newton-cg', 'liblinear', 'sag',\n",
       "                                     'saga']}],\n",
       "             verbose=2)"
      ]
     },
     "execution_count": 44,
     "metadata": {},
     "output_type": "execute_result"
    }
   ],
   "source": [
    "grid_search=GridSearchCV(estimator=trf3, param_grid=param_grid,cv=5,n_jobs=-1,verbose=2)\n",
    "grid_search.fit(X_tr,y_tr)"
   ]
  },
  {
   "cell_type": "markdown",
   "id": "0afdafc7",
   "metadata": {
    "papermill": {
     "duration": 0.031346,
     "end_time": "2023-08-08T03:27:06.363391",
     "exception": false,
     "start_time": "2023-08-08T03:27:06.332045",
     "status": "completed"
    },
    "tags": []
   },
   "source": [
    "# Printing best parameter obtained from GridsearchCv"
   ]
  },
  {
   "cell_type": "code",
   "execution_count": 45,
   "id": "91733809",
   "metadata": {
    "execution": {
     "iopub.execute_input": "2023-08-08T03:27:06.429936Z",
     "iopub.status.busy": "2023-08-08T03:27:06.429466Z",
     "iopub.status.idle": "2023-08-08T03:27:06.437501Z",
     "shell.execute_reply": "2023-08-08T03:27:06.436410Z"
    },
    "papermill": {
     "duration": 0.043858,
     "end_time": "2023-08-08T03:27:06.439723",
     "exception": false,
     "start_time": "2023-08-08T03:27:06.395865",
     "status": "completed"
    },
    "tags": []
   },
   "outputs": [
    {
     "data": {
      "text/plain": [
       "{'C': 0.1, 'max_iter': 200, 'penalty': 'l2', 'solver': 'liblinear'}"
      ]
     },
     "execution_count": 45,
     "metadata": {},
     "output_type": "execute_result"
    }
   ],
   "source": [
    "grid_search.best_params_"
   ]
  },
  {
   "cell_type": "markdown",
   "id": "b445d0ae",
   "metadata": {
    "papermill": {
     "duration": 0.031986,
     "end_time": "2023-08-08T03:27:06.504708",
     "exception": false,
     "start_time": "2023-08-08T03:27:06.472722",
     "status": "completed"
    },
    "tags": []
   },
   "source": [
    "# Predicting for sentiments of 20% of data obtained from train data after splitting and printing classification report."
   ]
  },
  {
   "cell_type": "code",
   "execution_count": 46,
   "id": "45609a20",
   "metadata": {
    "execution": {
     "iopub.execute_input": "2023-08-08T03:27:06.571069Z",
     "iopub.status.busy": "2023-08-08T03:27:06.570608Z",
     "iopub.status.idle": "2023-08-08T03:27:06.578686Z",
     "shell.execute_reply": "2023-08-08T03:27:06.577835Z"
    },
    "papermill": {
     "duration": 0.043808,
     "end_time": "2023-08-08T03:27:06.580864",
     "exception": false,
     "start_time": "2023-08-08T03:27:06.537056",
     "status": "completed"
    },
    "tags": []
   },
   "outputs": [],
   "source": [
    "y_test_pred=grid_search.predict(X_te)"
   ]
  },
  {
   "cell_type": "code",
   "execution_count": 47,
   "id": "8028c2f7",
   "metadata": {
    "execution": {
     "iopub.execute_input": "2023-08-08T03:27:06.651069Z",
     "iopub.status.busy": "2023-08-08T03:27:06.650617Z",
     "iopub.status.idle": "2023-08-08T03:27:06.717604Z",
     "shell.execute_reply": "2023-08-08T03:27:06.716059Z"
    },
    "papermill": {
     "duration": 0.104952,
     "end_time": "2023-08-08T03:27:06.720272",
     "exception": false,
     "start_time": "2023-08-08T03:27:06.615320",
     "status": "completed"
    },
    "tags": []
   },
   "outputs": [
    {
     "name": "stdout",
     "output_type": "stream",
     "text": [
      "              precision    recall  f1-score   support\n",
      "\n",
      "           0       0.81      0.47      0.60     10800\n",
      "           1       0.78      0.94      0.86     21752\n",
      "\n",
      "    accuracy                           0.79     32552\n",
      "   macro avg       0.80      0.71      0.73     32552\n",
      "weighted avg       0.79      0.79      0.77     32552\n",
      "\n"
     ]
    }
   ],
   "source": [
    "from sklearn.metrics import classification_report\n",
    "print(classification_report(y_te, y_test_pred))"
   ]
  },
  {
   "cell_type": "markdown",
   "id": "b4946c48",
   "metadata": {
    "papermill": {
     "duration": 0.031908,
     "end_time": "2023-08-08T03:27:06.785582",
     "exception": false,
     "start_time": "2023-08-08T03:27:06.753674",
     "status": "completed"
    },
    "tags": []
   },
   "source": [
    "# Printing f1 score for testing data from the model which is giving highest accuracy score ( model logistic regression without feature selection and hyperparameter tunning)."
   ]
  },
  {
   "cell_type": "code",
   "execution_count": 48,
   "id": "93fe704c",
   "metadata": {
    "execution": {
     "iopub.execute_input": "2023-08-08T03:27:06.853501Z",
     "iopub.status.busy": "2023-08-08T03:27:06.852404Z",
     "iopub.status.idle": "2023-08-08T03:27:06.875948Z",
     "shell.execute_reply": "2023-08-08T03:27:06.874752Z"
    },
    "papermill": {
     "duration": 0.060438,
     "end_time": "2023-08-08T03:27:06.878392",
     "exception": false,
     "start_time": "2023-08-08T03:27:06.817954",
     "status": "completed"
    },
    "tags": []
   },
   "outputs": [
    {
     "data": {
      "text/plain": [
       "0.8283976406979602"
      ]
     },
     "execution_count": 48,
     "metadata": {},
     "output_type": "execute_result"
    }
   ],
   "source": [
    "from sklearn.metrics import accuracy_score, precision_score, recall_score, f1_score\n",
    "f1 = f1_score(y_te, y_pr,average=\"micro\")\n",
    "f1"
   ]
  },
  {
   "cell_type": "markdown",
   "id": "1f713415",
   "metadata": {
    "papermill": {
     "duration": 0.032615,
     "end_time": "2023-08-08T03:27:06.943280",
     "exception": false,
     "start_time": "2023-08-08T03:27:06.910665",
     "status": "completed"
    },
    "tags": []
   },
   "source": [
    "# Predicting sentiment label for Test data from the model which is giving higest score (logistic regression without hyperparameter tunning) and converting numerical labels to Positive or negative."
   ]
  },
  {
   "cell_type": "code",
   "execution_count": 49,
   "id": "577e613e",
   "metadata": {
    "execution": {
     "iopub.execute_input": "2023-08-08T03:27:07.010201Z",
     "iopub.status.busy": "2023-08-08T03:27:07.009735Z",
     "iopub.status.idle": "2023-08-08T03:27:07.019804Z",
     "shell.execute_reply": "2023-08-08T03:27:07.018498Z"
    },
    "papermill": {
     "duration": 0.046741,
     "end_time": "2023-08-08T03:27:07.022536",
     "exception": false,
     "start_time": "2023-08-08T03:27:06.975795",
     "status": "completed"
    },
    "tags": []
   },
   "outputs": [],
   "source": [
    "y_predict = lr.predict(te)"
   ]
  },
  {
   "cell_type": "code",
   "execution_count": 50,
   "id": "5142cc09",
   "metadata": {
    "execution": {
     "iopub.execute_input": "2023-08-08T03:27:07.090418Z",
     "iopub.status.busy": "2023-08-08T03:27:07.090005Z",
     "iopub.status.idle": "2023-08-08T03:27:07.111433Z",
     "shell.execute_reply": "2023-08-08T03:27:07.110264Z"
    },
    "papermill": {
     "duration": 0.059168,
     "end_time": "2023-08-08T03:27:07.114261",
     "exception": false,
     "start_time": "2023-08-08T03:27:07.055093",
     "status": "completed"
    },
    "tags": []
   },
   "outputs": [],
   "source": [
    "y_predict=[\"POSITIVE\" if label==1 else \"NEGATIVE\"for label in y_predict]"
   ]
  },
  {
   "cell_type": "code",
   "execution_count": 51,
   "id": "b87a0977",
   "metadata": {
    "execution": {
     "iopub.execute_input": "2023-08-08T03:27:07.181058Z",
     "iopub.status.busy": "2023-08-08T03:27:07.180612Z",
     "iopub.status.idle": "2023-08-08T03:27:07.195606Z",
     "shell.execute_reply": "2023-08-08T03:27:07.194734Z"
    },
    "papermill": {
     "duration": 0.05129,
     "end_time": "2023-08-08T03:27:07.197883",
     "exception": false,
     "start_time": "2023-08-08T03:27:07.146593",
     "status": "completed"
    },
    "tags": []
   },
   "outputs": [],
   "source": [
    "prediction=y_predict\n",
    "id=[]\n",
    "for i in range (len(prediction)):\n",
    "    id.append(i)"
   ]
  },
  {
   "cell_type": "markdown",
   "id": "c6285917",
   "metadata": {
    "papermill": {
     "duration": 0.031804,
     "end_time": "2023-08-08T03:27:07.261989",
     "exception": false,
     "start_time": "2023-08-08T03:27:07.230185",
     "status": "completed"
    },
    "tags": []
   },
   "source": [
    "# Submission of Prediction."
   ]
  },
  {
   "cell_type": "code",
   "execution_count": 52,
   "id": "355778ae",
   "metadata": {
    "execution": {
     "iopub.execute_input": "2023-08-08T03:27:07.328787Z",
     "iopub.status.busy": "2023-08-08T03:27:07.328105Z",
     "iopub.status.idle": "2023-08-08T03:27:07.521040Z",
     "shell.execute_reply": "2023-08-08T03:27:07.520162Z"
    },
    "papermill": {
     "duration": 0.229503,
     "end_time": "2023-08-08T03:27:07.523655",
     "exception": false,
     "start_time": "2023-08-08T03:27:07.294152",
     "status": "completed"
    },
    "tags": []
   },
   "outputs": [],
   "source": [
    "final_prediction=pd.DataFrame({\"id\":id,\"sentiment\":prediction})\n",
    "final_prediction.to_csv(\"semifinal_submission.csv\",index=False)"
   ]
  }
 ],
 "metadata": {
  "kernelspec": {
   "display_name": "Python 3",
   "language": "python",
   "name": "python3"
  },
  "language_info": {
   "codemirror_mode": {
    "name": "ipython",
    "version": 3
   },
   "file_extension": ".py",
   "mimetype": "text/x-python",
   "name": "python",
   "nbconvert_exporter": "python",
   "pygments_lexer": "ipython3",
   "version": "3.10.10"
  },
  "papermill": {
   "default_parameters": {},
   "duration": 963.292629,
   "end_time": "2023-08-08T03:27:10.281339",
   "environment_variables": {},
   "exception": null,
   "input_path": "__notebook__.ipynb",
   "output_path": "__notebook__.ipynb",
   "parameters": {},
   "start_time": "2023-08-08T03:11:06.988710",
   "version": "2.4.0"
  }
 },
 "nbformat": 4,
 "nbformat_minor": 5
}
