{
 "cells": [
  {
   "cell_type": "code",
   "execution_count": 1,
   "id": "f8372c70",
   "metadata": {
    "_cell_guid": "b1076dfc-b9ad-4769-8c92-a6c4dae69d19",
    "_uuid": "8f2839f25d086af736a60e9eeb907d3b93b6e0e5",
    "execution": {
     "iopub.execute_input": "2024-01-18T09:26:38.013428Z",
     "iopub.status.busy": "2024-01-18T09:26:38.012238Z",
     "iopub.status.idle": "2024-01-18T09:26:38.984054Z",
     "shell.execute_reply": "2024-01-18T09:26:38.983186Z"
    },
    "papermill": {
     "duration": 0.997168,
     "end_time": "2024-01-18T09:26:38.986588",
     "exception": false,
     "start_time": "2024-01-18T09:26:37.989420",
     "status": "completed"
    },
    "tags": []
   },
   "outputs": [
    {
     "name": "stdout",
     "output_type": "stream",
     "text": [
      "/kaggle/input/recipe-for-rating-predict-food-ratings-using-ml/sample.csv\n",
      "/kaggle/input/recipe-for-rating-predict-food-ratings-using-ml/train.csv\n",
      "/kaggle/input/recipe-for-rating-predict-food-ratings-using-ml/test.csv\n"
     ]
    }
   ],
   "source": [
    "# This Python 3 environment comes with many helpful analytics libraries installed\n",
    "# It is defined by the kaggle/python Docker image: https://github.com/kaggle/docker-python\n",
    "# For example, here's several helpful packages to load\n",
    "\n",
    "import numpy as np # linear algebra\n",
    "import pandas as pd # data processing, CSV file I/O (e.g. pd.read_csv)\n",
    "\n",
    "# Input data files are available in the read-only \"../input/\" directory\n",
    "# For example, running this (by clicking run or pressing Shift+Enter) will list all files under the input directory\n",
    "\n",
    "import os\n",
    "for dirname, _, filenames in os.walk('/kaggle/input'):\n",
    "    for filename in filenames:\n",
    "        print(os.path.join(dirname, filename))\n",
    "\n",
    "# You can write up to 20GB to the current directory (/kaggle/working/) that gets preserved as output when you create a version using \"Save & Run All\" \n",
    "# You can also write temporary files to /kaggle/temp/, but they won't be saved outside of the current session"
   ]
  },
  {
   "cell_type": "code",
   "execution_count": 2,
   "id": "c0956f0e",
   "metadata": {
    "execution": {
     "iopub.execute_input": "2024-01-18T09:26:39.029816Z",
     "iopub.status.busy": "2024-01-18T09:26:39.029078Z",
     "iopub.status.idle": "2024-01-18T09:26:39.070087Z",
     "shell.execute_reply": "2024-01-18T09:26:39.069145Z"
    },
    "papermill": {
     "duration": 0.065072,
     "end_time": "2024-01-18T09:26:39.072278",
     "exception": false,
     "start_time": "2024-01-18T09:26:39.007206",
     "status": "completed"
    },
    "tags": []
   },
   "outputs": [
    {
     "data": {
      "text/html": [
       "<div>\n",
       "<style scoped>\n",
       "    .dataframe tbody tr th:only-of-type {\n",
       "        vertical-align: middle;\n",
       "    }\n",
       "\n",
       "    .dataframe tbody tr th {\n",
       "        vertical-align: top;\n",
       "    }\n",
       "\n",
       "    .dataframe thead th {\n",
       "        text-align: right;\n",
       "    }\n",
       "</style>\n",
       "<table border=\"1\" class=\"dataframe\">\n",
       "  <thead>\n",
       "    <tr style=\"text-align: right;\">\n",
       "      <th></th>\n",
       "      <th>ID</th>\n",
       "      <th>Rating</th>\n",
       "    </tr>\n",
       "  </thead>\n",
       "  <tbody>\n",
       "    <tr>\n",
       "      <th>0</th>\n",
       "      <td>1</td>\n",
       "      <td>5</td>\n",
       "    </tr>\n",
       "    <tr>\n",
       "      <th>1</th>\n",
       "      <td>2</td>\n",
       "      <td>2</td>\n",
       "    </tr>\n",
       "    <tr>\n",
       "      <th>2</th>\n",
       "      <td>3</td>\n",
       "      <td>4</td>\n",
       "    </tr>\n",
       "    <tr>\n",
       "      <th>3</th>\n",
       "      <td>4</td>\n",
       "      <td>2</td>\n",
       "    </tr>\n",
       "    <tr>\n",
       "      <th>4</th>\n",
       "      <td>5</td>\n",
       "      <td>4</td>\n",
       "    </tr>\n",
       "    <tr>\n",
       "      <th>...</th>\n",
       "      <td>...</td>\n",
       "      <td>...</td>\n",
       "    </tr>\n",
       "    <tr>\n",
       "      <th>995</th>\n",
       "      <td>996</td>\n",
       "      <td>3</td>\n",
       "    </tr>\n",
       "    <tr>\n",
       "      <th>996</th>\n",
       "      <td>997</td>\n",
       "      <td>0</td>\n",
       "    </tr>\n",
       "    <tr>\n",
       "      <th>997</th>\n",
       "      <td>998</td>\n",
       "      <td>1</td>\n",
       "    </tr>\n",
       "    <tr>\n",
       "      <th>998</th>\n",
       "      <td>999</td>\n",
       "      <td>0</td>\n",
       "    </tr>\n",
       "    <tr>\n",
       "      <th>999</th>\n",
       "      <td>1000</td>\n",
       "      <td>1</td>\n",
       "    </tr>\n",
       "  </tbody>\n",
       "</table>\n",
       "<p>1000 rows × 2 columns</p>\n",
       "</div>"
      ],
      "text/plain": [
       "       ID  Rating\n",
       "0       1       5\n",
       "1       2       2\n",
       "2       3       4\n",
       "3       4       2\n",
       "4       5       4\n",
       "..    ...     ...\n",
       "995   996       3\n",
       "996   997       0\n",
       "997   998       1\n",
       "998   999       0\n",
       "999  1000       1\n",
       "\n",
       "[1000 rows x 2 columns]"
      ]
     },
     "execution_count": 2,
     "metadata": {},
     "output_type": "execute_result"
    }
   ],
   "source": [
    "sample=pd.read_csv(\"/kaggle/input/recipe-for-rating-predict-food-ratings-using-ml/sample.csv\")\n",
    "sample"
   ]
  },
  {
   "cell_type": "code",
   "execution_count": 3,
   "id": "3ca39b13",
   "metadata": {
    "execution": {
     "iopub.execute_input": "2024-01-18T09:26:39.117064Z",
     "iopub.status.busy": "2024-01-18T09:26:39.116452Z",
     "iopub.status.idle": "2024-01-18T09:26:39.283406Z",
     "shell.execute_reply": "2024-01-18T09:26:39.282551Z"
    },
    "papermill": {
     "duration": 0.19258,
     "end_time": "2024-01-18T09:26:39.286033",
     "exception": false,
     "start_time": "2024-01-18T09:26:39.093453",
     "status": "completed"
    },
    "tags": []
   },
   "outputs": [],
   "source": [
    "train=pd.read_csv(\"/kaggle/input/recipe-for-rating-predict-food-ratings-using-ml/train.csv\")"
   ]
  },
  {
   "cell_type": "code",
   "execution_count": 4,
   "id": "a5bd9ce7",
   "metadata": {
    "execution": {
     "iopub.execute_input": "2024-01-18T09:26:39.331616Z",
     "iopub.status.busy": "2024-01-18T09:26:39.330983Z",
     "iopub.status.idle": "2024-01-18T09:26:39.393430Z",
     "shell.execute_reply": "2024-01-18T09:26:39.392297Z"
    },
    "papermill": {
     "duration": 0.089512,
     "end_time": "2024-01-18T09:26:39.396960",
     "exception": false,
     "start_time": "2024-01-18T09:26:39.307448",
     "status": "completed"
    },
    "tags": []
   },
   "outputs": [],
   "source": [
    "test=pd.read_csv(\"/kaggle/input/recipe-for-rating-predict-food-ratings-using-ml/test.csv\")"
   ]
  },
  {
   "cell_type": "code",
   "execution_count": 5,
   "id": "4bec027f",
   "metadata": {
    "execution": {
     "iopub.execute_input": "2024-01-18T09:26:39.441815Z",
     "iopub.status.busy": "2024-01-18T09:26:39.441408Z",
     "iopub.status.idle": "2024-01-18T09:26:39.481219Z",
     "shell.execute_reply": "2024-01-18T09:26:39.479757Z"
    },
    "papermill": {
     "duration": 0.066251,
     "end_time": "2024-01-18T09:26:39.485138",
     "exception": false,
     "start_time": "2024-01-18T09:26:39.418887",
     "status": "completed"
    },
    "tags": []
   },
   "outputs": [
    {
     "name": "stdout",
     "output_type": "stream",
     "text": [
      "<class 'pandas.core.frame.DataFrame'>\n",
      "RangeIndex: 13636 entries, 0 to 13635\n",
      "Data columns (total 15 columns):\n",
      " #   Column             Non-Null Count  Dtype \n",
      "---  ------             --------------  ----- \n",
      " 0   ID                 13636 non-null  int64 \n",
      " 1   RecipeNumber       13636 non-null  int64 \n",
      " 2   RecipeCode         13636 non-null  int64 \n",
      " 3   RecipeName         13636 non-null  object\n",
      " 4   CommentID          13636 non-null  object\n",
      " 5   UserID             13636 non-null  object\n",
      " 6   UserName           13636 non-null  object\n",
      " 7   UserReputation     13636 non-null  int64 \n",
      " 8   CreationTimestamp  13636 non-null  int64 \n",
      " 9   ReplyCount         13636 non-null  int64 \n",
      " 10  ThumbsUpCount      13636 non-null  int64 \n",
      " 11  ThumbsDownCount    13636 non-null  int64 \n",
      " 12  Rating             13636 non-null  int64 \n",
      " 13  BestScore          13636 non-null  int64 \n",
      " 14  Recipe_Review      13634 non-null  object\n",
      "dtypes: int64(10), object(5)\n",
      "memory usage: 1.6+ MB\n"
     ]
    }
   ],
   "source": [
    "train.info()"
   ]
  },
  {
   "cell_type": "code",
   "execution_count": 6,
   "id": "435aebf2",
   "metadata": {
    "execution": {
     "iopub.execute_input": "2024-01-18T09:26:39.530572Z",
     "iopub.status.busy": "2024-01-18T09:26:39.529378Z",
     "iopub.status.idle": "2024-01-18T09:26:39.547447Z",
     "shell.execute_reply": "2024-01-18T09:26:39.546283Z"
    },
    "papermill": {
     "duration": 0.043006,
     "end_time": "2024-01-18T09:26:39.549647",
     "exception": false,
     "start_time": "2024-01-18T09:26:39.506641",
     "status": "completed"
    },
    "tags": []
   },
   "outputs": [
    {
     "data": {
      "text/plain": [
       "ID                   0\n",
       "RecipeNumber         0\n",
       "RecipeCode           0\n",
       "RecipeName           0\n",
       "CommentID            0\n",
       "UserID               0\n",
       "UserName             0\n",
       "UserReputation       0\n",
       "CreationTimestamp    0\n",
       "ReplyCount           0\n",
       "ThumbsUpCount        0\n",
       "ThumbsDownCount      0\n",
       "Rating               0\n",
       "BestScore            0\n",
       "Recipe_Review        2\n",
       "dtype: int64"
      ]
     },
     "execution_count": 6,
     "metadata": {},
     "output_type": "execute_result"
    }
   ],
   "source": [
    "train.isnull().sum()"
   ]
  },
  {
   "cell_type": "code",
   "execution_count": 7,
   "id": "c1e2d47b",
   "metadata": {
    "execution": {
     "iopub.execute_input": "2024-01-18T09:26:39.595228Z",
     "iopub.status.busy": "2024-01-18T09:26:39.594243Z",
     "iopub.status.idle": "2024-01-18T09:26:39.606451Z",
     "shell.execute_reply": "2024-01-18T09:26:39.605326Z"
    },
    "papermill": {
     "duration": 0.037568,
     "end_time": "2024-01-18T09:26:39.608737",
     "exception": false,
     "start_time": "2024-01-18T09:26:39.571169",
     "status": "completed"
    },
    "tags": []
   },
   "outputs": [
    {
     "data": {
      "text/plain": [
       "ID                   0\n",
       "RecipeNumber         0\n",
       "RecipeCode           0\n",
       "RecipeName           0\n",
       "CommentID            0\n",
       "UserID               0\n",
       "UserName             0\n",
       "UserReputation       0\n",
       "CreationTimestamp    0\n",
       "ReplyCount           0\n",
       "ThumbsUpCount        0\n",
       "ThumbsDownCount      0\n",
       "BestScore            0\n",
       "Recipe_Review        0\n",
       "dtype: int64"
      ]
     },
     "execution_count": 7,
     "metadata": {},
     "output_type": "execute_result"
    }
   ],
   "source": [
    "test.isnull().sum()"
   ]
  },
  {
   "cell_type": "code",
   "execution_count": 8,
   "id": "9ddc9042",
   "metadata": {
    "execution": {
     "iopub.execute_input": "2024-01-18T09:26:39.654490Z",
     "iopub.status.busy": "2024-01-18T09:26:39.654112Z",
     "iopub.status.idle": "2024-01-18T09:26:41.720089Z",
     "shell.execute_reply": "2024-01-18T09:26:41.719018Z"
    },
    "papermill": {
     "duration": 2.09243,
     "end_time": "2024-01-18T09:26:41.723242",
     "exception": false,
     "start_time": "2024-01-18T09:26:39.630812",
     "status": "completed"
    },
    "tags": []
   },
   "outputs": [],
   "source": [
    "from sklearn.pipeline import Pipeline\n",
    "import matplotlib.pyplot as plt\n",
    "import seaborn as sns\n",
    "from sklearn.model_selection import train_test_split,GridSearchCV,ShuffleSplit, cross_validate\n",
    "from sklearn.preprocessing import MinMaxScaler,OneHotEncoder,OrdinalEncoder,MaxAbsScaler,PolynomialFeatures,StandardScaler,QuantileTransformer\n",
    "from sklearn.feature_selection import SelectKBest, VarianceThreshold, mutual_info_regression,f_regression, chi2\n",
    "from sklearn.impute import SimpleImputer\n",
    "from sklearn.preprocessing import StandardScaler\n",
    "from sklearn.compose import ColumnTransformer"
   ]
  },
  {
   "cell_type": "code",
   "execution_count": 9,
   "id": "dbe066d4",
   "metadata": {
    "execution": {
     "iopub.execute_input": "2024-01-18T09:26:41.769161Z",
     "iopub.status.busy": "2024-01-18T09:26:41.768709Z",
     "iopub.status.idle": "2024-01-18T09:26:41.778611Z",
     "shell.execute_reply": "2024-01-18T09:26:41.777310Z"
    },
    "papermill": {
     "duration": 0.035783,
     "end_time": "2024-01-18T09:26:41.781129",
     "exception": false,
     "start_time": "2024-01-18T09:26:41.745346",
     "status": "completed"
    },
    "tags": []
   },
   "outputs": [],
   "source": [
    "train['thumb']=train['ThumbsUpCount'] - train['ThumbsDownCount']\n",
    "test['thumb']=test['ThumbsUpCount'] - test['ThumbsDownCount']\n",
    "train['time']=train['CreationTimestamp']/10**9\n",
    "test['time']=test['CreationTimestamp']/10**9"
   ]
  },
  {
   "cell_type": "code",
   "execution_count": 10,
   "id": "9190939a",
   "metadata": {
    "execution": {
     "iopub.execute_input": "2024-01-18T09:26:41.826715Z",
     "iopub.status.busy": "2024-01-18T09:26:41.825518Z",
     "iopub.status.idle": "2024-01-18T09:26:42.882757Z",
     "shell.execute_reply": "2024-01-18T09:26:42.881565Z"
    },
    "papermill": {
     "duration": 1.084852,
     "end_time": "2024-01-18T09:26:42.887248",
     "exception": false,
     "start_time": "2024-01-18T09:26:41.802396",
     "status": "completed"
    },
    "tags": []
   },
   "outputs": [
    {
     "data": {
      "text/plain": [
       "<Axes: >"
      ]
     },
     "execution_count": 10,
     "metadata": {},
     "output_type": "execute_result"
    },
    {
     "data": {
      "image/png": "[encoded data removed]",
      "text/plain": [
       "<Figure size 1500x600 with 2 Axes>"
      ]
     },
     "metadata": {},
     "output_type": "display_data"
    }
   ],
   "source": [
    "corr = train[['ID', 'RecipeNumber','RecipeCode', 'UserReputation', 'CreationTimestamp', 'ReplyCount',\n",
    "       'ThumbsUpCount', 'ThumbsDownCount', 'Rating', 'BestScore', 'thumb','time']].corr()\n",
    "plt.figure(figsize=(15,6))\n",
    "sns.heatmap(corr,annot=True)"
   ]
  },
  {
   "cell_type": "code",
   "execution_count": 11,
   "id": "31a1c265",
   "metadata": {
    "execution": {
     "iopub.execute_input": "2024-01-18T09:26:42.997716Z",
     "iopub.status.busy": "2024-01-18T09:26:42.996466Z",
     "iopub.status.idle": "2024-01-18T09:26:43.016911Z",
     "shell.execute_reply": "2024-01-18T09:26:43.015833Z"
    },
    "papermill": {
     "duration": 0.047919,
     "end_time": "2024-01-18T09:26:43.019490",
     "exception": false,
     "start_time": "2024-01-18T09:26:42.971571",
     "status": "completed"
    },
    "tags": []
   },
   "outputs": [
    {
     "data": {
      "text/html": [
       "<div>\n",
       "<style scoped>\n",
       "    .dataframe tbody tr th:only-of-type {\n",
       "        vertical-align: middle;\n",
       "    }\n",
       "\n",
       "    .dataframe tbody tr th {\n",
       "        vertical-align: top;\n",
       "    }\n",
       "\n",
       "    .dataframe thead th {\n",
       "        text-align: right;\n",
       "    }\n",
       "</style>\n",
       "<table border=\"1\" class=\"dataframe\">\n",
       "  <thead>\n",
       "    <tr style=\"text-align: right;\">\n",
       "      <th></th>\n",
       "      <th>ID</th>\n",
       "      <th>RecipeNumber</th>\n",
       "      <th>RecipeCode</th>\n",
       "      <th>RecipeName</th>\n",
       "      <th>CommentID</th>\n",
       "      <th>UserID</th>\n",
       "      <th>UserName</th>\n",
       "      <th>UserReputation</th>\n",
       "      <th>CreationTimestamp</th>\n",
       "      <th>ReplyCount</th>\n",
       "      <th>ThumbsUpCount</th>\n",
       "      <th>ThumbsDownCount</th>\n",
       "      <th>Rating</th>\n",
       "      <th>BestScore</th>\n",
       "      <th>Recipe_Review</th>\n",
       "      <th>thumb</th>\n",
       "      <th>time</th>\n",
       "    </tr>\n",
       "  </thead>\n",
       "  <tbody>\n",
       "    <tr>\n",
       "      <th>0</th>\n",
       "      <td>70</td>\n",
       "      <td>71</td>\n",
       "      <td>12259</td>\n",
       "      <td>Banana Bars with Cream Cheese Frosting</td>\n",
       "      <td>sp_aUSaElGf_12259_c_149978</td>\n",
       "      <td>u_1oKVaBmiEKwAFyiHrDLoWpbel0J</td>\n",
       "      <td>misscoffeepot</td>\n",
       "      <td>20</td>\n",
       "      <td>1622717078</td>\n",
       "      <td>0</td>\n",
       "      <td>0</td>\n",
       "      <td>0</td>\n",
       "      <td>5</td>\n",
       "      <td>100</td>\n",
       "      <td>great recipe! I have made them just as written...</td>\n",
       "      <td>0</td>\n",
       "      <td>1.622717</td>\n",
       "    </tr>\n",
       "    <tr>\n",
       "      <th>1</th>\n",
       "      <td>72</td>\n",
       "      <td>88</td>\n",
       "      <td>8202</td>\n",
       "      <td>Simple Taco Soup</td>\n",
       "      <td>sp_aUSaElGf_8202_c_310332</td>\n",
       "      <td>u_1oKZeRIXYzGNhGW8OMR3O4lX1ih</td>\n",
       "      <td>MichelleMalone</td>\n",
       "      <td>1</td>\n",
       "      <td>1622717852</td>\n",
       "      <td>0</td>\n",
       "      <td>0</td>\n",
       "      <td>1</td>\n",
       "      <td>5</td>\n",
       "      <td>100</td>\n",
       "      <td>This is an easy and quick recipe that is great...</td>\n",
       "      <td>-1</td>\n",
       "      <td>1.622718</td>\n",
       "    </tr>\n",
       "    <tr>\n",
       "      <th>2</th>\n",
       "      <td>458</td>\n",
       "      <td>3</td>\n",
       "      <td>2832</td>\n",
       "      <td>Cheeseburger Soup</td>\n",
       "      <td>sp_aUSaElGf_2832_c_206522</td>\n",
       "      <td>u_1oKYHUtdaD48KJCDYq5wfpAUxWz</td>\n",
       "      <td>jeannem32</td>\n",
       "      <td>1</td>\n",
       "      <td>1622717357</td>\n",
       "      <td>0</td>\n",
       "      <td>0</td>\n",
       "      <td>0</td>\n",
       "      <td>3</td>\n",
       "      <td>100</td>\n",
       "      <td>I think I was looking for something extra spec...</td>\n",
       "      <td>0</td>\n",
       "      <td>1.622717</td>\n",
       "    </tr>\n",
       "    <tr>\n",
       "      <th>3</th>\n",
       "      <td>7</td>\n",
       "      <td>50</td>\n",
       "      <td>100276</td>\n",
       "      <td>Grilled Huli Huli Chicken</td>\n",
       "      <td>sp_aUSaElGf_100276_c_434088</td>\n",
       "      <td>u_1oKZCQcKQZdQhDVBS7oISc216VA</td>\n",
       "      <td>ds422</td>\n",
       "      <td>1</td>\n",
       "      <td>1622648899</td>\n",
       "      <td>0</td>\n",
       "      <td>0</td>\n",
       "      <td>0</td>\n",
       "      <td>5</td>\n",
       "      <td>100</td>\n",
       "      <td>This is our favorite grilled chicken recipe.  ...</td>\n",
       "      <td>0</td>\n",
       "      <td>1.622649</td>\n",
       "    </tr>\n",
       "    <tr>\n",
       "      <th>4</th>\n",
       "      <td>60</td>\n",
       "      <td>12</td>\n",
       "      <td>19731</td>\n",
       "      <td>Cauliflower Soup</td>\n",
       "      <td>sp_aUSaElGf_19731_c_387011</td>\n",
       "      <td>u_1oKd4sudZQPgu6YALiC7bW7mKMs</td>\n",
       "      <td>SusanHoward</td>\n",
       "      <td>1</td>\n",
       "      <td>1622718260</td>\n",
       "      <td>0</td>\n",
       "      <td>0</td>\n",
       "      <td>0</td>\n",
       "      <td>4</td>\n",
       "      <td>100</td>\n",
       "      <td>Great basic recipe. I added 2 teaspoons Tuscan...</td>\n",
       "      <td>0</td>\n",
       "      <td>1.622718</td>\n",
       "    </tr>\n",
       "  </tbody>\n",
       "</table>\n",
       "</div>"
      ],
      "text/plain": [
       "    ID  RecipeNumber  RecipeCode                              RecipeName  \\\n",
       "0   70            71       12259  Banana Bars with Cream Cheese Frosting   \n",
       "1   72            88        8202                        Simple Taco Soup   \n",
       "2  458             3        2832                       Cheeseburger Soup   \n",
       "3    7            50      100276               Grilled Huli Huli Chicken   \n",
       "4   60            12       19731                        Cauliflower Soup   \n",
       "\n",
       "                     CommentID                         UserID        UserName  \\\n",
       "0   sp_aUSaElGf_12259_c_149978  u_1oKVaBmiEKwAFyiHrDLoWpbel0J   misscoffeepot   \n",
       "1    sp_aUSaElGf_8202_c_310332  u_1oKZeRIXYzGNhGW8OMR3O4lX1ih  MichelleMalone   \n",
       "2    sp_aUSaElGf_2832_c_206522  u_1oKYHUtdaD48KJCDYq5wfpAUxWz       jeannem32   \n",
       "3  sp_aUSaElGf_100276_c_434088  u_1oKZCQcKQZdQhDVBS7oISc216VA           ds422   \n",
       "4   sp_aUSaElGf_19731_c_387011  u_1oKd4sudZQPgu6YALiC7bW7mKMs     SusanHoward   \n",
       "\n",
       "   UserReputation  CreationTimestamp  ReplyCount  ThumbsUpCount  \\\n",
       "0              20         1622717078           0              0   \n",
       "1               1         1622717852           0              0   \n",
       "2               1         1622717357           0              0   \n",
       "3               1         1622648899           0              0   \n",
       "4               1         1622718260           0              0   \n",
       "\n",
       "   ThumbsDownCount  Rating  BestScore  \\\n",
       "0                0       5        100   \n",
       "1                1       5        100   \n",
       "2                0       3        100   \n",
       "3                0       5        100   \n",
       "4                0       4        100   \n",
       "\n",
       "                                       Recipe_Review  thumb      time  \n",
       "0  great recipe! I have made them just as written...      0  1.622717  \n",
       "1  This is an easy and quick recipe that is great...     -1  1.622718  \n",
       "2  I think I was looking for something extra spec...      0  1.622717  \n",
       "3  This is our favorite grilled chicken recipe.  ...      0  1.622649  \n",
       "4  Great basic recipe. I added 2 teaspoons Tuscan...      0  1.622718  "
      ]
     },
     "execution_count": 11,
     "metadata": {},
     "output_type": "execute_result"
    }
   ],
   "source": [
    "train.head()"
   ]
  },
  {
   "cell_type": "code",
   "execution_count": 12,
   "id": "594920b5",
   "metadata": {
    "execution": {
     "iopub.execute_input": "2024-01-18T09:26:43.071145Z",
     "iopub.status.busy": "2024-01-18T09:26:43.070197Z",
     "iopub.status.idle": "2024-01-18T09:26:43.125141Z",
     "shell.execute_reply": "2024-01-18T09:26:43.123969Z"
    },
    "papermill": {
     "duration": 0.083251,
     "end_time": "2024-01-18T09:26:43.127733",
     "exception": false,
     "start_time": "2024-01-18T09:26:43.044482",
     "status": "completed"
    },
    "tags": []
   },
   "outputs": [
    {
     "data": {
      "text/html": [
       "<div>\n",
       "<style scoped>\n",
       "    .dataframe tbody tr th:only-of-type {\n",
       "        vertical-align: middle;\n",
       "    }\n",
       "\n",
       "    .dataframe tbody tr th {\n",
       "        vertical-align: top;\n",
       "    }\n",
       "\n",
       "    .dataframe thead th {\n",
       "        text-align: right;\n",
       "    }\n",
       "</style>\n",
       "<table border=\"1\" class=\"dataframe\">\n",
       "  <thead>\n",
       "    <tr style=\"text-align: right;\">\n",
       "      <th></th>\n",
       "      <th>ID</th>\n",
       "      <th>RecipeNumber</th>\n",
       "      <th>RecipeCode</th>\n",
       "      <th>UserReputation</th>\n",
       "      <th>CreationTimestamp</th>\n",
       "      <th>ReplyCount</th>\n",
       "      <th>ThumbsUpCount</th>\n",
       "      <th>ThumbsDownCount</th>\n",
       "      <th>Rating</th>\n",
       "      <th>BestScore</th>\n",
       "      <th>thumb</th>\n",
       "      <th>time</th>\n",
       "    </tr>\n",
       "  </thead>\n",
       "  <tbody>\n",
       "    <tr>\n",
       "      <th>count</th>\n",
       "      <td>13636.000000</td>\n",
       "      <td>13636.000000</td>\n",
       "      <td>13636.000000</td>\n",
       "      <td>13636.000000</td>\n",
       "      <td>1.363600e+04</td>\n",
       "      <td>13636.000000</td>\n",
       "      <td>13636.000000</td>\n",
       "      <td>13636.000000</td>\n",
       "      <td>13636.000000</td>\n",
       "      <td>13636.000000</td>\n",
       "      <td>13636.000000</td>\n",
       "      <td>13636.000000</td>\n",
       "    </tr>\n",
       "    <tr>\n",
       "      <th>mean</th>\n",
       "      <td>121.085289</td>\n",
       "      <td>38.624377</td>\n",
       "      <td>21785.990833</td>\n",
       "      <td>2.160311</td>\n",
       "      <td>1.623713e+09</td>\n",
       "      <td>0.014520</td>\n",
       "      <td>1.098269</td>\n",
       "      <td>0.543708</td>\n",
       "      <td>4.288721</td>\n",
       "      <td>153.127897</td>\n",
       "      <td>0.554561</td>\n",
       "      <td>1.623713</td>\n",
       "    </tr>\n",
       "    <tr>\n",
       "      <th>std</th>\n",
       "      <td>116.995633</td>\n",
       "      <td>29.672351</td>\n",
       "      <td>23883.189918</td>\n",
       "      <td>10.086424</td>\n",
       "      <td>5.444020e+06</td>\n",
       "      <td>0.137323</td>\n",
       "      <td>4.166487</td>\n",
       "      <td>3.265660</td>\n",
       "      <td>1.544839</td>\n",
       "      <td>140.986908</td>\n",
       "      <td>4.164304</td>\n",
       "      <td>0.005444</td>\n",
       "    </tr>\n",
       "    <tr>\n",
       "      <th>min</th>\n",
       "      <td>0.000000</td>\n",
       "      <td>1.000000</td>\n",
       "      <td>386.000000</td>\n",
       "      <td>0.000000</td>\n",
       "      <td>1.613035e+09</td>\n",
       "      <td>0.000000</td>\n",
       "      <td>0.000000</td>\n",
       "      <td>0.000000</td>\n",
       "      <td>0.000000</td>\n",
       "      <td>0.000000</td>\n",
       "      <td>-121.000000</td>\n",
       "      <td>1.613035</td>\n",
       "    </tr>\n",
       "    <tr>\n",
       "      <th>25%</th>\n",
       "      <td>45.000000</td>\n",
       "      <td>12.000000</td>\n",
       "      <td>6504.000000</td>\n",
       "      <td>1.000000</td>\n",
       "      <td>1.622717e+09</td>\n",
       "      <td>0.000000</td>\n",
       "      <td>0.000000</td>\n",
       "      <td>0.000000</td>\n",
       "      <td>5.000000</td>\n",
       "      <td>100.000000</td>\n",
       "      <td>0.000000</td>\n",
       "      <td>1.622717</td>\n",
       "    </tr>\n",
       "    <tr>\n",
       "      <th>50%</th>\n",
       "      <td>91.000000</td>\n",
       "      <td>33.000000</td>\n",
       "      <td>14600.000000</td>\n",
       "      <td>1.000000</td>\n",
       "      <td>1.622718e+09</td>\n",
       "      <td>0.000000</td>\n",
       "      <td>0.000000</td>\n",
       "      <td>0.000000</td>\n",
       "      <td>5.000000</td>\n",
       "      <td>100.000000</td>\n",
       "      <td>0.000000</td>\n",
       "      <td>1.622718</td>\n",
       "    </tr>\n",
       "    <tr>\n",
       "      <th>75%</th>\n",
       "      <td>148.000000</td>\n",
       "      <td>63.000000</td>\n",
       "      <td>33121.000000</td>\n",
       "      <td>1.000000</td>\n",
       "      <td>1.622718e+09</td>\n",
       "      <td>0.000000</td>\n",
       "      <td>0.000000</td>\n",
       "      <td>0.000000</td>\n",
       "      <td>5.000000</td>\n",
       "      <td>100.000000</td>\n",
       "      <td>0.000000</td>\n",
       "      <td>1.622718</td>\n",
       "    </tr>\n",
       "    <tr>\n",
       "      <th>max</th>\n",
       "      <td>724.000000</td>\n",
       "      <td>100.000000</td>\n",
       "      <td>191775.000000</td>\n",
       "      <td>510.000000</td>\n",
       "      <td>1.665756e+09</td>\n",
       "      <td>3.000000</td>\n",
       "      <td>80.000000</td>\n",
       "      <td>126.000000</td>\n",
       "      <td>5.000000</td>\n",
       "      <td>946.000000</td>\n",
       "      <td>74.000000</td>\n",
       "      <td>1.665756</td>\n",
       "    </tr>\n",
       "  </tbody>\n",
       "</table>\n",
       "</div>"
      ],
      "text/plain": [
       "                 ID  RecipeNumber     RecipeCode  UserReputation  \\\n",
       "count  13636.000000  13636.000000   13636.000000    13636.000000   \n",
       "mean     121.085289     38.624377   21785.990833        2.160311   \n",
       "std      116.995633     29.672351   23883.189918       10.086424   \n",
       "min        0.000000      1.000000     386.000000        0.000000   \n",
       "25%       45.000000     12.000000    6504.000000        1.000000   \n",
       "50%       91.000000     33.000000   14600.000000        1.000000   \n",
       "75%      148.000000     63.000000   33121.000000        1.000000   \n",
       "max      724.000000    100.000000  191775.000000      510.000000   \n",
       "\n",
       "       CreationTimestamp    ReplyCount  ThumbsUpCount  ThumbsDownCount  \\\n",
       "count       1.363600e+04  13636.000000   13636.000000     13636.000000   \n",
       "mean        1.623713e+09      0.014520       1.098269         0.543708   \n",
       "std         5.444020e+06      0.137323       4.166487         3.265660   \n",
       "min         1.613035e+09      0.000000       0.000000         0.000000   \n",
       "25%         1.622717e+09      0.000000       0.000000         0.000000   \n",
       "50%         1.622718e+09      0.000000       0.000000         0.000000   \n",
       "75%         1.622718e+09      0.000000       0.000000         0.000000   \n",
       "max         1.665756e+09      3.000000      80.000000       126.000000   \n",
       "\n",
       "             Rating     BestScore         thumb          time  \n",
       "count  13636.000000  13636.000000  13636.000000  13636.000000  \n",
       "mean       4.288721    153.127897      0.554561      1.623713  \n",
       "std        1.544839    140.986908      4.164304      0.005444  \n",
       "min        0.000000      0.000000   -121.000000      1.613035  \n",
       "25%        5.000000    100.000000      0.000000      1.622717  \n",
       "50%        5.000000    100.000000      0.000000      1.622718  \n",
       "75%        5.000000    100.000000      0.000000      1.622718  \n",
       "max        5.000000    946.000000     74.000000      1.665756  "
      ]
     },
     "execution_count": 12,
     "metadata": {},
     "output_type": "execute_result"
    }
   ],
   "source": [
    "train.describe()"
   ]
  },
  {
   "cell_type": "code",
   "execution_count": 13,
   "id": "6f56dc36",
   "metadata": {
    "execution": {
     "iopub.execute_input": "2024-01-18T09:26:43.178658Z",
     "iopub.status.busy": "2024-01-18T09:26:43.178213Z",
     "iopub.status.idle": "2024-01-18T09:26:43.185720Z",
     "shell.execute_reply": "2024-01-18T09:26:43.184509Z"
    },
    "papermill": {
     "duration": 0.035803,
     "end_time": "2024-01-18T09:26:43.188043",
     "exception": false,
     "start_time": "2024-01-18T09:26:43.152240",
     "status": "completed"
    },
    "tags": []
   },
   "outputs": [
    {
     "data": {
      "text/plain": [
       "(4546, 16)"
      ]
     },
     "execution_count": 13,
     "metadata": {},
     "output_type": "execute_result"
    }
   ],
   "source": [
    "test.shape"
   ]
  },
  {
   "cell_type": "code",
   "execution_count": 14,
   "id": "c235f27c",
   "metadata": {
    "execution": {
     "iopub.execute_input": "2024-01-18T09:26:43.239802Z",
     "iopub.status.busy": "2024-01-18T09:26:43.239130Z",
     "iopub.status.idle": "2024-01-18T09:26:43.245291Z",
     "shell.execute_reply": "2024-01-18T09:26:43.244520Z"
    },
    "papermill": {
     "duration": 0.03449,
     "end_time": "2024-01-18T09:26:43.247330",
     "exception": false,
     "start_time": "2024-01-18T09:26:43.212840",
     "status": "completed"
    },
    "tags": []
   },
   "outputs": [
    {
     "data": {
      "text/plain": [
       "(13636, 17)"
      ]
     },
     "execution_count": 14,
     "metadata": {},
     "output_type": "execute_result"
    }
   ],
   "source": [
    "train.shape"
   ]
  },
  {
   "cell_type": "code",
   "execution_count": 15,
   "id": "87939a16",
   "metadata": {
    "execution": {
     "iopub.execute_input": "2024-01-18T09:26:43.300876Z",
     "iopub.status.busy": "2024-01-18T09:26:43.300410Z",
     "iopub.status.idle": "2024-01-18T09:26:43.308159Z",
     "shell.execute_reply": "2024-01-18T09:26:43.306807Z"
    },
    "papermill": {
     "duration": 0.037525,
     "end_time": "2024-01-18T09:26:43.310594",
     "exception": false,
     "start_time": "2024-01-18T09:26:43.273069",
     "status": "completed"
    },
    "tags": []
   },
   "outputs": [
    {
     "data": {
      "text/plain": [
       "Index(['ID', 'RecipeNumber', 'RecipeCode', 'RecipeName', 'CommentID', 'UserID',\n",
       "       'UserName', 'UserReputation', 'CreationTimestamp', 'ReplyCount',\n",
       "       'ThumbsUpCount', 'ThumbsDownCount', 'Rating', 'BestScore',\n",
       "       'Recipe_Review', 'thumb', 'time'],\n",
       "      dtype='object')"
      ]
     },
     "execution_count": 15,
     "metadata": {},
     "output_type": "execute_result"
    }
   ],
   "source": [
    "train.columns"
   ]
  },
  {
   "cell_type": "code",
   "execution_count": 16,
   "id": "432c987d",
   "metadata": {
    "execution": {
     "iopub.execute_input": "2024-01-18T09:26:43.362892Z",
     "iopub.status.busy": "2024-01-18T09:26:43.362441Z",
     "iopub.status.idle": "2024-01-18T09:26:43.369973Z",
     "shell.execute_reply": "2024-01-18T09:26:43.368833Z"
    },
    "papermill": {
     "duration": 0.036579,
     "end_time": "2024-01-18T09:26:43.372432",
     "exception": false,
     "start_time": "2024-01-18T09:26:43.335853",
     "status": "completed"
    },
    "tags": []
   },
   "outputs": [
    {
     "data": {
      "text/plain": [
       "Index(['ID', 'RecipeNumber', 'RecipeCode', 'RecipeName', 'CommentID', 'UserID',\n",
       "       'UserName', 'UserReputation', 'CreationTimestamp', 'ReplyCount',\n",
       "       'ThumbsUpCount', 'ThumbsDownCount', 'BestScore', 'Recipe_Review',\n",
       "       'thumb', 'time'],\n",
       "      dtype='object')"
      ]
     },
     "execution_count": 16,
     "metadata": {},
     "output_type": "execute_result"
    }
   ],
   "source": [
    "test.columns"
   ]
  },
  {
   "cell_type": "code",
   "execution_count": 17,
   "id": "b640b60f",
   "metadata": {
    "execution": {
     "iopub.execute_input": "2024-01-18T09:26:43.424641Z",
     "iopub.status.busy": "2024-01-18T09:26:43.424198Z",
     "iopub.status.idle": "2024-01-18T09:26:43.445510Z",
     "shell.execute_reply": "2024-01-18T09:26:43.444411Z"
    },
    "papermill": {
     "duration": 0.050443,
     "end_time": "2024-01-18T09:26:43.448132",
     "exception": false,
     "start_time": "2024-01-18T09:26:43.397689",
     "status": "completed"
    },
    "tags": []
   },
   "outputs": [],
   "source": [
    "train=train.dropna()\n",
    "k=train[['ReplyCount','ThumbsUpCount','ThumbsDownCount', 'UserReputation', 'BestScore','thumb', 'time', 'ID', 'RecipeNumber', 'RecipeCode']]\n",
    "l=test[['ReplyCount','ThumbsUpCount', 'ThumbsDownCount', 'UserReputation', 'BestScore', 'thumb', 'time', 'ID', 'RecipeNumber', 'RecipeCode']]"
   ]
  },
  {
   "cell_type": "code",
   "execution_count": 18,
   "id": "97036887",
   "metadata": {
    "execution": {
     "iopub.execute_input": "2024-01-18T09:26:43.502595Z",
     "iopub.status.busy": "2024-01-18T09:26:43.501896Z",
     "iopub.status.idle": "2024-01-18T09:26:43.520795Z",
     "shell.execute_reply": "2024-01-18T09:26:43.519624Z"
    },
    "papermill": {
     "duration": 0.049315,
     "end_time": "2024-01-18T09:26:43.523482",
     "exception": false,
     "start_time": "2024-01-18T09:26:43.474167",
     "status": "completed"
    },
    "tags": []
   },
   "outputs": [],
   "source": [
    "from sklearn.preprocessing import StandardScaler\n",
    "\n",
    "scaler = StandardScaler()\n",
    "k=scaler.fit_transform(k)\n",
    "l=scaler.fit_transform(l)"
   ]
  },
  {
   "cell_type": "code",
   "execution_count": 19,
   "id": "64c444f4",
   "metadata": {
    "execution": {
     "iopub.execute_input": "2024-01-18T09:26:43.577902Z",
     "iopub.status.busy": "2024-01-18T09:26:43.577421Z",
     "iopub.status.idle": "2024-01-18T09:26:43.584688Z",
     "shell.execute_reply": "2024-01-18T09:26:43.583599Z"
    },
    "papermill": {
     "duration": 0.037358,
     "end_time": "2024-01-18T09:26:43.587075",
     "exception": false,
     "start_time": "2024-01-18T09:26:43.549717",
     "status": "completed"
    },
    "tags": []
   },
   "outputs": [
    {
     "data": {
      "text/plain": [
       "((13634, 10), (4546, 10))"
      ]
     },
     "execution_count": 19,
     "metadata": {},
     "output_type": "execute_result"
    }
   ],
   "source": [
    "k.shape, l.shape"
   ]
  },
  {
   "cell_type": "code",
   "execution_count": 20,
   "id": "4b01d29f",
   "metadata": {
    "execution": {
     "iopub.execute_input": "2024-01-18T09:26:43.641496Z",
     "iopub.status.busy": "2024-01-18T09:26:43.641094Z",
     "iopub.status.idle": "2024-01-18T09:26:43.651624Z",
     "shell.execute_reply": "2024-01-18T09:26:43.650348Z"
    },
    "papermill": {
     "duration": 0.041368,
     "end_time": "2024-01-18T09:26:43.654606",
     "exception": false,
     "start_time": "2024-01-18T09:26:43.613238",
     "status": "completed"
    },
    "tags": []
   },
   "outputs": [],
   "source": [
    "y=train['Rating']\n",
    "train = train.drop(columns=['ID', 'RecipeNumber','CommentID', 'UserID', 'RecipeCode', 'UserReputation', 'CreationTimestamp', 'ReplyCount','ThumbsUpCount', 'Rating', 'ThumbsDownCount', 'BestScore', 'time', 'thumb'], axis=1)\n",
    "test = test.drop(columns=['ID', 'RecipeNumber', 'CommentID', 'UserID', 'RecipeCode', 'UserReputation', 'CreationTimestamp', 'ReplyCount','ThumbsUpCount', 'ThumbsDownCount', 'BestScore', 'time', 'thumb'], axis=1)"
   ]
  },
  {
   "cell_type": "code",
   "execution_count": 21,
   "id": "0d07ab17",
   "metadata": {
    "execution": {
     "iopub.execute_input": "2024-01-18T09:26:43.708332Z",
     "iopub.status.busy": "2024-01-18T09:26:43.707899Z",
     "iopub.status.idle": "2024-01-18T09:26:43.714854Z",
     "shell.execute_reply": "2024-01-18T09:26:43.713718Z"
    },
    "papermill": {
     "duration": 0.036702,
     "end_time": "2024-01-18T09:26:43.717256",
     "exception": false,
     "start_time": "2024-01-18T09:26:43.680554",
     "status": "completed"
    },
    "tags": []
   },
   "outputs": [
    {
     "data": {
      "text/plain": [
       "((13634, 3), (4546, 3))"
      ]
     },
     "execution_count": 21,
     "metadata": {},
     "output_type": "execute_result"
    }
   ],
   "source": [
    "train.shape, test.shape"
   ]
  },
  {
   "cell_type": "code",
   "execution_count": 22,
   "id": "5460f2bf",
   "metadata": {
    "execution": {
     "iopub.execute_input": "2024-01-18T09:26:43.771096Z",
     "iopub.status.busy": "2024-01-18T09:26:43.770350Z",
     "iopub.status.idle": "2024-01-18T09:26:43.777607Z",
     "shell.execute_reply": "2024-01-18T09:26:43.776595Z"
    },
    "papermill": {
     "duration": 0.037387,
     "end_time": "2024-01-18T09:26:43.780130",
     "exception": false,
     "start_time": "2024-01-18T09:26:43.742743",
     "status": "completed"
    },
    "tags": []
   },
   "outputs": [
    {
     "data": {
      "text/plain": [
       "Index(['RecipeName', 'UserName', 'Recipe_Review'], dtype='object')"
      ]
     },
     "execution_count": 22,
     "metadata": {},
     "output_type": "execute_result"
    }
   ],
   "source": [
    "train.columns"
   ]
  },
  {
   "cell_type": "code",
   "execution_count": 23,
   "id": "3dd5457d",
   "metadata": {
    "execution": {
     "iopub.execute_input": "2024-01-18T09:26:43.835072Z",
     "iopub.status.busy": "2024-01-18T09:26:43.834663Z",
     "iopub.status.idle": "2024-01-18T09:26:43.841991Z",
     "shell.execute_reply": "2024-01-18T09:26:43.840943Z"
    },
    "papermill": {
     "duration": 0.037901,
     "end_time": "2024-01-18T09:26:43.844583",
     "exception": false,
     "start_time": "2024-01-18T09:26:43.806682",
     "status": "completed"
    },
    "tags": []
   },
   "outputs": [
    {
     "data": {
      "text/plain": [
       "Index(['RecipeName', 'UserName', 'Recipe_Review'], dtype='object')"
      ]
     },
     "execution_count": 23,
     "metadata": {},
     "output_type": "execute_result"
    }
   ],
   "source": [
    "test.columns"
   ]
  },
  {
   "cell_type": "code",
   "execution_count": 24,
   "id": "a5d2c8a4",
   "metadata": {
    "execution": {
     "iopub.execute_input": "2024-01-18T09:26:43.899085Z",
     "iopub.status.busy": "2024-01-18T09:26:43.898388Z",
     "iopub.status.idle": "2024-01-18T09:26:45.232809Z",
     "shell.execute_reply": "2024-01-18T09:26:45.231648Z"
    },
    "papermill": {
     "duration": 1.364825,
     "end_time": "2024-01-18T09:26:45.235777",
     "exception": false,
     "start_time": "2024-01-18T09:26:43.870952",
     "status": "completed"
    },
    "tags": []
   },
   "outputs": [
    {
     "data": {
      "text/plain": [
       "<Axes: xlabel='RecipeName', ylabel='Count'>"
      ]
     },
     "execution_count": 24,
     "metadata": {},
     "output_type": "execute_result"
    },
    {
     "data": {
      "image/png": "[encoded data removed]",
      "text/plain": [
       "<Figure size 640x480 with 1 Axes>"
      ]
     },
     "metadata": {},
     "output_type": "display_data"
    }
   ],
   "source": [
    "train['RecipeName'].value_counts().plot(kind='bar', ylabel='Count', rot=0)"
   ]
  },
  {
   "cell_type": "code",
   "execution_count": 25,
   "id": "8c18e806",
   "metadata": {
    "execution": {
     "iopub.execute_input": "2024-01-18T09:26:45.290856Z",
     "iopub.status.busy": "2024-01-18T09:26:45.290393Z",
     "iopub.status.idle": "2024-01-18T09:26:45.308413Z",
     "shell.execute_reply": "2024-01-18T09:26:45.306868Z"
    },
    "papermill": {
     "duration": 0.048407,
     "end_time": "2024-01-18T09:26:45.310878",
     "exception": false,
     "start_time": "2024-01-18T09:26:45.262471",
     "status": "completed"
    },
    "tags": []
   },
   "outputs": [
    {
     "data": {
      "text/plain": [
       "UserName\n",
       "mjlouk               21\n",
       "2124arizona          20\n",
       "No_Time_To_Cook      20\n",
       "grandmascooking22    19\n",
       "justmbeth            18\n",
       "                     ..\n",
       "Frances442            1\n",
       "Melinda174            1\n",
       "manncw408             1\n",
       "grandmaomaha          1\n",
       "morgantowndan         1\n",
       "Name: count, Length: 10619, dtype: int64"
      ]
     },
     "execution_count": 25,
     "metadata": {},
     "output_type": "execute_result"
    }
   ],
   "source": [
    "train['UserName'].value_counts()"
   ]
  },
  {
   "cell_type": "code",
   "execution_count": 26,
   "id": "b6bea5e3",
   "metadata": {
    "execution": {
     "iopub.execute_input": "2024-01-18T09:26:45.366097Z",
     "iopub.status.busy": "2024-01-18T09:26:45.365662Z",
     "iopub.status.idle": "2024-01-18T09:26:45.370774Z",
     "shell.execute_reply": "2024-01-18T09:26:45.369631Z"
    },
    "papermill": {
     "duration": 0.035623,
     "end_time": "2024-01-18T09:26:45.373214",
     "exception": false,
     "start_time": "2024-01-18T09:26:45.337591",
     "status": "completed"
    },
    "tags": []
   },
   "outputs": [],
   "source": [
    "#numtrans=Pipeline(steps=[\n",
    "     #('imputer',SimpleImputer(strategy='mean')),\n",
    "     #('scaler',StandardScaler())])\n",
    "\n",
    "#cattrans=Pipeline(steps=[\n",
    "     #('imputer',SimpleImputer(strategy='most_frequent')),\n",
    "     #('one',OneHotEncoder())])"
   ]
  },
  {
   "cell_type": "code",
   "execution_count": 27,
   "id": "0e4d794a",
   "metadata": {
    "execution": {
     "iopub.execute_input": "2024-01-18T09:26:45.429127Z",
     "iopub.status.busy": "2024-01-18T09:26:45.428696Z",
     "iopub.status.idle": "2024-01-18T09:26:45.433179Z",
     "shell.execute_reply": "2024-01-18T09:26:45.432245Z"
    },
    "papermill": {
     "duration": 0.034541,
     "end_time": "2024-01-18T09:26:45.435220",
     "exception": false,
     "start_time": "2024-01-18T09:26:45.400679",
     "status": "completed"
    },
    "tags": []
   },
   "outputs": [],
   "source": [
    "#preprocessor=ColumnTransformer(\n",
    "#transformers=[\n",
    "    #('num', numtrans,numerical_col),\n",
    "    #('cat', cattrans,categorical_col )\n",
    "#])"
   ]
  },
  {
   "cell_type": "code",
   "execution_count": 28,
   "id": "5d25b6ba",
   "metadata": {
    "execution": {
     "iopub.execute_input": "2024-01-18T09:26:45.490775Z",
     "iopub.status.busy": "2024-01-18T09:26:45.490357Z",
     "iopub.status.idle": "2024-01-18T09:26:45.496737Z",
     "shell.execute_reply": "2024-01-18T09:26:45.495615Z"
    },
    "papermill": {
     "duration": 0.036941,
     "end_time": "2024-01-18T09:26:45.499269",
     "exception": false,
     "start_time": "2024-01-18T09:26:45.462328",
     "status": "completed"
    },
    "tags": []
   },
   "outputs": [
    {
     "data": {
      "text/plain": [
       "(13634,)"
      ]
     },
     "execution_count": 28,
     "metadata": {},
     "output_type": "execute_result"
    }
   ],
   "source": [
    "y.shape"
   ]
  },
  {
   "cell_type": "code",
   "execution_count": 29,
   "id": "5490fbe9",
   "metadata": {
    "execution": {
     "iopub.execute_input": "2024-01-18T09:26:45.555423Z",
     "iopub.status.busy": "2024-01-18T09:26:45.555007Z",
     "iopub.status.idle": "2024-01-18T09:26:45.562999Z",
     "shell.execute_reply": "2024-01-18T09:26:45.561947Z"
    },
    "papermill": {
     "duration": 0.038966,
     "end_time": "2024-01-18T09:26:45.565344",
     "exception": false,
     "start_time": "2024-01-18T09:26:45.526378",
     "status": "completed"
    },
    "tags": []
   },
   "outputs": [
    {
     "data": {
      "text/plain": [
       "((13634, 3), (4546, 3))"
      ]
     },
     "execution_count": 29,
     "metadata": {},
     "output_type": "execute_result"
    }
   ],
   "source": [
    "train.shape, test.shape"
   ]
  },
  {
   "cell_type": "code",
   "execution_count": 30,
   "id": "4689b11f",
   "metadata": {
    "execution": {
     "iopub.execute_input": "2024-01-18T09:26:45.622367Z",
     "iopub.status.busy": "2024-01-18T09:26:45.621923Z",
     "iopub.status.idle": "2024-01-18T09:26:45.960821Z",
     "shell.execute_reply": "2024-01-18T09:26:45.959842Z"
    },
    "papermill": {
     "duration": 0.370487,
     "end_time": "2024-01-18T09:26:45.963352",
     "exception": false,
     "start_time": "2024-01-18T09:26:45.592865",
     "status": "completed"
    },
    "tags": []
   },
   "outputs": [
    {
     "name": "stdout",
     "output_type": "stream",
     "text": [
      "(13634, 10853) (13634,)\n",
      "(4546, 10853)\n"
     ]
    }
   ],
   "source": [
    "from sklearn.feature_extraction.text import TfidfVectorizer\n",
    "from sklearn.feature_extraction.text import CountVectorizer\n",
    "\n",
    "vec_user = CountVectorizer()\n",
    "vec_user.fit(train['UserName'].values)\n",
    "\n",
    "\n",
    "X_train_user = vec_user.transform(train['UserName'].values)\n",
    "X_test_user = vec_user.transform(test['UserName'].values)\n",
    "\n",
    "print(X_train_user.shape, y.shape)\n",
    "print(X_test_user.shape)"
   ]
  },
  {
   "cell_type": "code",
   "execution_count": 31,
   "id": "874c605d",
   "metadata": {
    "execution": {
     "iopub.execute_input": "2024-01-18T09:26:46.021023Z",
     "iopub.status.busy": "2024-01-18T09:26:46.020261Z",
     "iopub.status.idle": "2024-01-18T09:26:46.286364Z",
     "shell.execute_reply": "2024-01-18T09:26:46.284877Z"
    },
    "papermill": {
     "duration": 0.297307,
     "end_time": "2024-01-18T09:26:46.289377",
     "exception": false,
     "start_time": "2024-01-18T09:26:45.992070",
     "status": "completed"
    },
    "tags": []
   },
   "outputs": [
    {
     "name": "stdout",
     "output_type": "stream",
     "text": [
      "(13634, 185) (13634,)\n",
      "(4546, 185)\n"
     ]
    }
   ],
   "source": [
    "vec = CountVectorizer()\n",
    "vec.fit(train['RecipeName'].values)\n",
    "\n",
    "X_train_res = vec.transform(train['RecipeName'].values)\n",
    "X_test_res = vec.transform(test['RecipeName'].values)\n",
    "\n",
    "print(X_train_res.shape, y.shape)\n",
    "print(X_test_res.shape)"
   ]
  },
  {
   "cell_type": "code",
   "execution_count": 32,
   "id": "579b1c64",
   "metadata": {
    "execution": {
     "iopub.execute_input": "2024-01-18T09:26:46.346975Z",
     "iopub.status.busy": "2024-01-18T09:26:46.345800Z",
     "iopub.status.idle": "2024-01-18T09:26:55.910391Z",
     "shell.execute_reply": "2024-01-18T09:26:55.908853Z"
    },
    "papermill": {
     "duration": 9.595659,
     "end_time": "2024-01-18T09:26:55.913103",
     "exception": false,
     "start_time": "2024-01-18T09:26:46.317444",
     "status": "completed"
    },
    "tags": []
   },
   "outputs": [
    {
     "name": "stdout",
     "output_type": "stream",
     "text": [
      "(13634, 10000) (13634,)\n",
      "(4546, 10000)\n"
     ]
    }
   ],
   "source": [
    "vec_text = TfidfVectorizer(min_df=5,ngram_range=(1,4), max_features=10000)\n",
    "vec_text.fit(train['Recipe_Review'].values)\n",
    "\n",
    "X_train_text = vec_text.transform(train['Recipe_Review'].values)\n",
    "X_test_text = vec_text.transform(test['Recipe_Review'].values)\n",
    "\n",
    "print(X_train_text.shape, y.shape)\n",
    "print(X_test_text.shape)"
   ]
  },
  {
   "cell_type": "code",
   "execution_count": 33,
   "id": "3b2409ff",
   "metadata": {
    "execution": {
     "iopub.execute_input": "2024-01-18T09:26:55.971267Z",
     "iopub.status.busy": "2024-01-18T09:26:55.970853Z",
     "iopub.status.idle": "2024-01-18T09:26:55.996873Z",
     "shell.execute_reply": "2024-01-18T09:26:55.995627Z"
    },
    "papermill": {
     "duration": 0.058219,
     "end_time": "2024-01-18T09:26:55.999570",
     "exception": false,
     "start_time": "2024-01-18T09:26:55.941351",
     "status": "completed"
    },
    "tags": []
   },
   "outputs": [
    {
     "name": "stdout",
     "output_type": "stream",
     "text": [
      "(13634, 21038) (13634,)\n",
      "(4546, 21038)\n"
     ]
    }
   ],
   "source": [
    "from scipy.sparse import hstack\n",
    "\n",
    "X_tr = hstack((X_train_user, X_train_res, X_train_text))\n",
    "X_te = hstack((X_test_user, X_test_res, X_test_text))\n",
    "\n",
    "print(X_tr.shape, y.shape)\n",
    "print(X_te.shape)\n"
   ]
  },
  {
   "cell_type": "code",
   "execution_count": 34,
   "id": "76ec49a5",
   "metadata": {
    "execution": {
     "iopub.execute_input": "2024-01-18T09:26:56.057416Z",
     "iopub.status.busy": "2024-01-18T09:26:56.056935Z",
     "iopub.status.idle": "2024-01-18T09:26:56.063315Z",
     "shell.execute_reply": "2024-01-18T09:26:56.062569Z"
    },
    "papermill": {
     "duration": 0.037699,
     "end_time": "2024-01-18T09:26:56.065407",
     "exception": false,
     "start_time": "2024-01-18T09:26:56.027708",
     "status": "completed"
    },
    "tags": []
   },
   "outputs": [
    {
     "data": {
      "text/plain": [
       "(<13634x21038 sparse matrix of type '<class 'numpy.float64'>'\n",
       " \twith 766545 stored elements in Compressed Sparse Row format>,\n",
       " <4546x21038 sparse matrix of type '<class 'numpy.float64'>'\n",
       " \twith 247982 stored elements in Compressed Sparse Row format>)"
      ]
     },
     "execution_count": 34,
     "metadata": {},
     "output_type": "execute_result"
    }
   ],
   "source": [
    "X_tr, X_te"
   ]
  },
  {
   "cell_type": "code",
   "execution_count": 35,
   "id": "6bfb94ef",
   "metadata": {
    "execution": {
     "iopub.execute_input": "2024-01-18T09:26:56.124330Z",
     "iopub.status.busy": "2024-01-18T09:26:56.123297Z",
     "iopub.status.idle": "2024-01-18T09:26:56.129633Z",
     "shell.execute_reply": "2024-01-18T09:26:56.128516Z"
    },
    "papermill": {
     "duration": 0.038476,
     "end_time": "2024-01-18T09:26:56.132159",
     "exception": false,
     "start_time": "2024-01-18T09:26:56.093683",
     "status": "completed"
    },
    "tags": []
   },
   "outputs": [],
   "source": [
    "from scipy.sparse import csr_matrix\n",
    "sparse_matrix = csr_matrix((X_tr))\n",
    "sparse_matrix_test = csr_matrix((X_te))"
   ]
  },
  {
   "cell_type": "code",
   "execution_count": 36,
   "id": "01ad2187",
   "metadata": {
    "execution": {
     "iopub.execute_input": "2024-01-18T09:26:56.190970Z",
     "iopub.status.busy": "2024-01-18T09:26:56.190227Z",
     "iopub.status.idle": "2024-01-18T09:26:57.473472Z",
     "shell.execute_reply": "2024-01-18T09:26:57.472298Z"
    },
    "papermill": {
     "duration": 1.315286,
     "end_time": "2024-01-18T09:26:57.476075",
     "exception": false,
     "start_time": "2024-01-18T09:26:56.160789",
     "status": "completed"
    },
    "tags": []
   },
   "outputs": [
    {
     "data": {
      "text/plain": [
       "((13634, 21038), (4546, 21038))"
      ]
     },
     "execution_count": 36,
     "metadata": {},
     "output_type": "execute_result"
    }
   ],
   "source": [
    "df_sparse = pd.DataFrame.sparse.from_spmatrix(sparse_matrix)\n",
    "df_sparse_test = pd.DataFrame.sparse.from_spmatrix(sparse_matrix_test)\n",
    "df_sparse.shape,df_sparse_test.shape"
   ]
  },
  {
   "cell_type": "code",
   "execution_count": 37,
   "id": "ece5cdc5",
   "metadata": {
    "execution": {
     "iopub.execute_input": "2024-01-18T09:26:57.535365Z",
     "iopub.status.busy": "2024-01-18T09:26:57.534921Z",
     "iopub.status.idle": "2024-01-18T09:26:58.688178Z",
     "shell.execute_reply": "2024-01-18T09:26:58.686939Z"
    },
    "papermill": {
     "duration": 1.186684,
     "end_time": "2024-01-18T09:26:58.691263",
     "exception": false,
     "start_time": "2024-01-18T09:26:57.504579",
     "status": "completed"
    },
    "tags": []
   },
   "outputs": [],
   "source": [
    "df_sparse_reset = df_sparse.reset_index(drop=True).reset_index(drop=True)\n",
    "df_sparse_test_reset = df_sparse_test.reset_index(drop=True).reset_index(drop=True)"
   ]
  },
  {
   "cell_type": "code",
   "execution_count": 38,
   "id": "67a94181",
   "metadata": {
    "execution": {
     "iopub.execute_input": "2024-01-18T09:26:58.749929Z",
     "iopub.status.busy": "2024-01-18T09:26:58.749233Z",
     "iopub.status.idle": "2024-01-18T09:26:58.754851Z",
     "shell.execute_reply": "2024-01-18T09:26:58.753852Z"
    },
    "papermill": {
     "duration": 0.038365,
     "end_time": "2024-01-18T09:26:58.757187",
     "exception": false,
     "start_time": "2024-01-18T09:26:58.718822",
     "status": "completed"
    },
    "tags": []
   },
   "outputs": [],
   "source": [
    "k=pd.DataFrame(k)\n",
    "l=pd.DataFrame(l)"
   ]
  },
  {
   "cell_type": "code",
   "execution_count": 39,
   "id": "85d9682b",
   "metadata": {
    "execution": {
     "iopub.execute_input": "2024-01-18T09:26:58.815776Z",
     "iopub.status.busy": "2024-01-18T09:26:58.814856Z",
     "iopub.status.idle": "2024-01-18T09:26:58.821416Z",
     "shell.execute_reply": "2024-01-18T09:26:58.820408Z"
    },
    "papermill": {
     "duration": 0.038823,
     "end_time": "2024-01-18T09:26:58.823849",
     "exception": false,
     "start_time": "2024-01-18T09:26:58.785026",
     "status": "completed"
    },
    "tags": []
   },
   "outputs": [],
   "source": [
    "k = k.reset_index(drop=True)\n",
    "l=l.reset_index(drop=True)"
   ]
  },
  {
   "cell_type": "code",
   "execution_count": 40,
   "id": "a2c66fe5",
   "metadata": {
    "execution": {
     "iopub.execute_input": "2024-01-18T09:26:58.881492Z",
     "iopub.status.busy": "2024-01-18T09:26:58.880719Z",
     "iopub.status.idle": "2024-01-18T09:26:59.873106Z",
     "shell.execute_reply": "2024-01-18T09:26:59.872172Z"
    },
    "papermill": {
     "duration": 1.024311,
     "end_time": "2024-01-18T09:26:59.875811",
     "exception": false,
     "start_time": "2024-01-18T09:26:58.851500",
     "status": "completed"
    },
    "tags": []
   },
   "outputs": [],
   "source": [
    "df = pd.concat([df_sparse_reset, k], axis=1)\n",
    "df_test=pd.concat([df_sparse_test_reset, l], axis=1)"
   ]
  },
  {
   "cell_type": "code",
   "execution_count": 41,
   "id": "cfaaa2a4",
   "metadata": {
    "execution": {
     "iopub.execute_input": "2024-01-18T09:26:59.933376Z",
     "iopub.status.busy": "2024-01-18T09:26:59.932704Z",
     "iopub.status.idle": "2024-01-18T09:26:59.939992Z",
     "shell.execute_reply": "2024-01-18T09:26:59.938710Z"
    },
    "papermill": {
     "duration": 0.038687,
     "end_time": "2024-01-18T09:26:59.942288",
     "exception": false,
     "start_time": "2024-01-18T09:26:59.903601",
     "status": "completed"
    },
    "tags": []
   },
   "outputs": [
    {
     "data": {
      "text/plain": [
       "((13634, 21048), (4546, 21048))"
      ]
     },
     "execution_count": 41,
     "metadata": {},
     "output_type": "execute_result"
    }
   ],
   "source": [
    "df.shape, df_test.shape"
   ]
  },
  {
   "cell_type": "code",
   "execution_count": 42,
   "id": "8fc20335",
   "metadata": {
    "execution": {
     "iopub.execute_input": "2024-01-18T09:26:59.999622Z",
     "iopub.status.busy": "2024-01-18T09:26:59.998885Z",
     "iopub.status.idle": "2024-01-18T09:27:00.006189Z",
     "shell.execute_reply": "2024-01-18T09:27:00.005037Z"
    },
    "papermill": {
     "duration": 0.038646,
     "end_time": "2024-01-18T09:27:00.008662",
     "exception": false,
     "start_time": "2024-01-18T09:26:59.970016",
     "status": "completed"
    },
    "tags": []
   },
   "outputs": [
    {
     "data": {
      "text/plain": [
       "((13634, 21048), (13634,), (4546, 21048))"
      ]
     },
     "execution_count": 42,
     "metadata": {},
     "output_type": "execute_result"
    }
   ],
   "source": [
    "df.shape, y.shape, df_test.shape"
   ]
  },
  {
   "cell_type": "code",
   "execution_count": 43,
   "id": "4373ba41",
   "metadata": {
    "execution": {
     "iopub.execute_input": "2024-01-18T09:27:00.068171Z",
     "iopub.status.busy": "2024-01-18T09:27:00.067770Z",
     "iopub.status.idle": "2024-01-18T09:27:00.824997Z",
     "shell.execute_reply": "2024-01-18T09:27:00.823839Z"
    },
    "papermill": {
     "duration": 0.789299,
     "end_time": "2024-01-18T09:27:00.827484",
     "exception": false,
     "start_time": "2024-01-18T09:27:00.038185",
     "status": "completed"
    },
    "tags": []
   },
   "outputs": [
    {
     "data": {
      "text/html": [
       "<div>\n",
       "<style scoped>\n",
       "    .dataframe tbody tr th:only-of-type {\n",
       "        vertical-align: middle;\n",
       "    }\n",
       "\n",
       "    .dataframe tbody tr th {\n",
       "        vertical-align: top;\n",
       "    }\n",
       "\n",
       "    .dataframe thead th {\n",
       "        text-align: right;\n",
       "    }\n",
       "</style>\n",
       "<table border=\"1\" class=\"dataframe\">\n",
       "  <thead>\n",
       "    <tr style=\"text-align: right;\">\n",
       "      <th></th>\n",
       "      <th>0</th>\n",
       "      <th>1</th>\n",
       "      <th>2</th>\n",
       "      <th>3</th>\n",
       "      <th>4</th>\n",
       "      <th>5</th>\n",
       "      <th>6</th>\n",
       "      <th>7</th>\n",
       "      <th>8</th>\n",
       "      <th>9</th>\n",
       "      <th>...</th>\n",
       "      <th>0</th>\n",
       "      <th>1</th>\n",
       "      <th>2</th>\n",
       "      <th>3</th>\n",
       "      <th>4</th>\n",
       "      <th>5</th>\n",
       "      <th>6</th>\n",
       "      <th>7</th>\n",
       "      <th>8</th>\n",
       "      <th>9</th>\n",
       "    </tr>\n",
       "  </thead>\n",
       "  <tbody>\n",
       "    <tr>\n",
       "      <th>0</th>\n",
       "      <td>0.0</td>\n",
       "      <td>0.0</td>\n",
       "      <td>0.0</td>\n",
       "      <td>0.0</td>\n",
       "      <td>0.0</td>\n",
       "      <td>0.0</td>\n",
       "      <td>0.0</td>\n",
       "      <td>0.0</td>\n",
       "      <td>0.0</td>\n",
       "      <td>0.0</td>\n",
       "      <td>...</td>\n",
       "      <td>-0.10575</td>\n",
       "      <td>-0.263626</td>\n",
       "      <td>-0.166511</td>\n",
       "      <td>1.768603</td>\n",
       "      <td>-0.376874</td>\n",
       "      <td>-0.133185</td>\n",
       "      <td>-0.183034</td>\n",
       "      <td>-0.436471</td>\n",
       "      <td>1.091001</td>\n",
       "      <td>-0.398953</td>\n",
       "    </tr>\n",
       "    <tr>\n",
       "      <th>1</th>\n",
       "      <td>0.0</td>\n",
       "      <td>0.0</td>\n",
       "      <td>0.0</td>\n",
       "      <td>0.0</td>\n",
       "      <td>0.0</td>\n",
       "      <td>0.0</td>\n",
       "      <td>0.0</td>\n",
       "      <td>0.0</td>\n",
       "      <td>0.0</td>\n",
       "      <td>0.0</td>\n",
       "      <td>...</td>\n",
       "      <td>-0.10575</td>\n",
       "      <td>-0.263626</td>\n",
       "      <td>0.139695</td>\n",
       "      <td>-0.115050</td>\n",
       "      <td>-0.376874</td>\n",
       "      <td>-0.373313</td>\n",
       "      <td>-0.182892</td>\n",
       "      <td>-0.419373</td>\n",
       "      <td>1.663960</td>\n",
       "      <td>-0.568819</td>\n",
       "    </tr>\n",
       "    <tr>\n",
       "      <th>2</th>\n",
       "      <td>0.0</td>\n",
       "      <td>0.0</td>\n",
       "      <td>0.0</td>\n",
       "      <td>0.0</td>\n",
       "      <td>0.0</td>\n",
       "      <td>0.0</td>\n",
       "      <td>0.0</td>\n",
       "      <td>0.0</td>\n",
       "      <td>0.0</td>\n",
       "      <td>0.0</td>\n",
       "      <td>...</td>\n",
       "      <td>-0.10575</td>\n",
       "      <td>-0.263626</td>\n",
       "      <td>-0.166511</td>\n",
       "      <td>-0.115050</td>\n",
       "      <td>-0.376874</td>\n",
       "      <td>-0.133185</td>\n",
       "      <td>-0.182983</td>\n",
       "      <td>2.880494</td>\n",
       "      <td>-1.200833</td>\n",
       "      <td>-0.793661</td>\n",
       "    </tr>\n",
       "    <tr>\n",
       "      <th>3</th>\n",
       "      <td>0.0</td>\n",
       "      <td>0.0</td>\n",
       "      <td>0.0</td>\n",
       "      <td>0.0</td>\n",
       "      <td>0.0</td>\n",
       "      <td>0.0</td>\n",
       "      <td>0.0</td>\n",
       "      <td>0.0</td>\n",
       "      <td>0.0</td>\n",
       "      <td>0.0</td>\n",
       "      <td>...</td>\n",
       "      <td>-0.10575</td>\n",
       "      <td>-0.263626</td>\n",
       "      <td>-0.166511</td>\n",
       "      <td>-0.115050</td>\n",
       "      <td>-0.376874</td>\n",
       "      <td>-0.133185</td>\n",
       "      <td>-0.195558</td>\n",
       "      <td>-0.975050</td>\n",
       "      <td>0.383229</td>\n",
       "      <td>3.286308</td>\n",
       "    </tr>\n",
       "    <tr>\n",
       "      <th>4</th>\n",
       "      <td>0.0</td>\n",
       "      <td>0.0</td>\n",
       "      <td>0.0</td>\n",
       "      <td>0.0</td>\n",
       "      <td>0.0</td>\n",
       "      <td>0.0</td>\n",
       "      <td>0.0</td>\n",
       "      <td>0.0</td>\n",
       "      <td>0.0</td>\n",
       "      <td>0.0</td>\n",
       "      <td>...</td>\n",
       "      <td>-0.10575</td>\n",
       "      <td>-0.263626</td>\n",
       "      <td>-0.166511</td>\n",
       "      <td>-0.115050</td>\n",
       "      <td>-0.376874</td>\n",
       "      <td>-0.133185</td>\n",
       "      <td>-0.182817</td>\n",
       "      <td>-0.521959</td>\n",
       "      <td>-0.897502</td>\n",
       "      <td>-0.086101</td>\n",
       "    </tr>\n",
       "  </tbody>\n",
       "</table>\n",
       "<p>5 rows × 21048 columns</p>\n",
       "</div>"
      ],
      "text/plain": [
       "     0    1    2    3    4    5    6    7    8    9  ...        0         1  \\\n",
       "0  0.0  0.0  0.0  0.0  0.0  0.0  0.0  0.0  0.0  0.0  ... -0.10575 -0.263626   \n",
       "1  0.0  0.0  0.0  0.0  0.0  0.0  0.0  0.0  0.0  0.0  ... -0.10575 -0.263626   \n",
       "2  0.0  0.0  0.0  0.0  0.0  0.0  0.0  0.0  0.0  0.0  ... -0.10575 -0.263626   \n",
       "3  0.0  0.0  0.0  0.0  0.0  0.0  0.0  0.0  0.0  0.0  ... -0.10575 -0.263626   \n",
       "4  0.0  0.0  0.0  0.0  0.0  0.0  0.0  0.0  0.0  0.0  ... -0.10575 -0.263626   \n",
       "\n",
       "          2         3         4         5         6         7         8  \\\n",
       "0 -0.166511  1.768603 -0.376874 -0.133185 -0.183034 -0.436471  1.091001   \n",
       "1  0.139695 -0.115050 -0.376874 -0.373313 -0.182892 -0.419373  1.663960   \n",
       "2 -0.166511 -0.115050 -0.376874 -0.133185 -0.182983  2.880494 -1.200833   \n",
       "3 -0.166511 -0.115050 -0.376874 -0.133185 -0.195558 -0.975050  0.383229   \n",
       "4 -0.166511 -0.115050 -0.376874 -0.133185 -0.182817 -0.521959 -0.897502   \n",
       "\n",
       "          9  \n",
       "0 -0.398953  \n",
       "1 -0.568819  \n",
       "2 -0.793661  \n",
       "3  3.286308  \n",
       "4 -0.086101  \n",
       "\n",
       "[5 rows x 21048 columns]"
      ]
     },
     "execution_count": 43,
     "metadata": {},
     "output_type": "execute_result"
    }
   ],
   "source": [
    "df.head()"
   ]
  },
  {
   "cell_type": "code",
   "execution_count": 44,
   "id": "c7a337ce",
   "metadata": {
    "execution": {
     "iopub.execute_input": "2024-01-18T09:27:00.887055Z",
     "iopub.status.busy": "2024-01-18T09:27:00.886646Z",
     "iopub.status.idle": "2024-01-18T09:27:02.000416Z",
     "shell.execute_reply": "2024-01-18T09:27:01.998719Z"
    },
    "papermill": {
     "duration": 1.147968,
     "end_time": "2024-01-18T09:27:02.004394",
     "exception": false,
     "start_time": "2024-01-18T09:27:00.856426",
     "status": "completed"
    },
    "tags": []
   },
   "outputs": [
    {
     "data": {
      "text/html": [
       "<div>\n",
       "<style scoped>\n",
       "    .dataframe tbody tr th:only-of-type {\n",
       "        vertical-align: middle;\n",
       "    }\n",
       "\n",
       "    .dataframe tbody tr th {\n",
       "        vertical-align: top;\n",
       "    }\n",
       "\n",
       "    .dataframe thead th {\n",
       "        text-align: right;\n",
       "    }\n",
       "</style>\n",
       "<table border=\"1\" class=\"dataframe\">\n",
       "  <thead>\n",
       "    <tr style=\"text-align: right;\">\n",
       "      <th></th>\n",
       "      <th>0</th>\n",
       "      <th>1</th>\n",
       "      <th>2</th>\n",
       "      <th>3</th>\n",
       "      <th>4</th>\n",
       "      <th>5</th>\n",
       "      <th>6</th>\n",
       "      <th>7</th>\n",
       "      <th>8</th>\n",
       "      <th>9</th>\n",
       "      <th>...</th>\n",
       "      <th>0</th>\n",
       "      <th>1</th>\n",
       "      <th>2</th>\n",
       "      <th>3</th>\n",
       "      <th>4</th>\n",
       "      <th>5</th>\n",
       "      <th>6</th>\n",
       "      <th>7</th>\n",
       "      <th>8</th>\n",
       "      <th>9</th>\n",
       "    </tr>\n",
       "  </thead>\n",
       "  <tbody>\n",
       "    <tr>\n",
       "      <th>0</th>\n",
       "      <td>0.0</td>\n",
       "      <td>0.0</td>\n",
       "      <td>0.0</td>\n",
       "      <td>0.0</td>\n",
       "      <td>0.0</td>\n",
       "      <td>0.0</td>\n",
       "      <td>0.0</td>\n",
       "      <td>0.0</td>\n",
       "      <td>0.0</td>\n",
       "      <td>0.0</td>\n",
       "      <td>...</td>\n",
       "      <td>-0.106916</td>\n",
       "      <td>-0.246877</td>\n",
       "      <td>-0.140798</td>\n",
       "      <td>-0.118157</td>\n",
       "      <td>-0.376856</td>\n",
       "      <td>-0.102978</td>\n",
       "      <td>-0.177493</td>\n",
       "      <td>-0.315577</td>\n",
       "      <td>0.203004</td>\n",
       "      <td>0.811566</td>\n",
       "    </tr>\n",
       "    <tr>\n",
       "      <th>1</th>\n",
       "      <td>0.0</td>\n",
       "      <td>0.0</td>\n",
       "      <td>0.0</td>\n",
       "      <td>0.0</td>\n",
       "      <td>0.0</td>\n",
       "      <td>0.0</td>\n",
       "      <td>0.0</td>\n",
       "      <td>0.0</td>\n",
       "      <td>0.0</td>\n",
       "      <td>0.0</td>\n",
       "      <td>...</td>\n",
       "      <td>-0.106916</td>\n",
       "      <td>-0.246877</td>\n",
       "      <td>0.107868</td>\n",
       "      <td>-0.118157</td>\n",
       "      <td>-0.376856</td>\n",
       "      <td>-0.310579</td>\n",
       "      <td>-0.177558</td>\n",
       "      <td>-0.177639</td>\n",
       "      <td>0.468555</td>\n",
       "      <td>-0.768046</td>\n",
       "    </tr>\n",
       "    <tr>\n",
       "      <th>2</th>\n",
       "      <td>0.0</td>\n",
       "      <td>0.0</td>\n",
       "      <td>0.0</td>\n",
       "      <td>0.0</td>\n",
       "      <td>0.0</td>\n",
       "      <td>0.0</td>\n",
       "      <td>0.0</td>\n",
       "      <td>0.0</td>\n",
       "      <td>0.0</td>\n",
       "      <td>0.0</td>\n",
       "      <td>...</td>\n",
       "      <td>-0.106916</td>\n",
       "      <td>-0.246877</td>\n",
       "      <td>-0.140798</td>\n",
       "      <td>-0.118157</td>\n",
       "      <td>-0.376856</td>\n",
       "      <td>-0.102978</td>\n",
       "      <td>-0.177445</td>\n",
       "      <td>0.287901</td>\n",
       "      <td>0.468555</td>\n",
       "      <td>-0.768046</td>\n",
       "    </tr>\n",
       "    <tr>\n",
       "      <th>3</th>\n",
       "      <td>0.0</td>\n",
       "      <td>0.0</td>\n",
       "      <td>0.0</td>\n",
       "      <td>0.0</td>\n",
       "      <td>0.0</td>\n",
       "      <td>0.0</td>\n",
       "      <td>0.0</td>\n",
       "      <td>0.0</td>\n",
       "      <td>0.0</td>\n",
       "      <td>0.0</td>\n",
       "      <td>...</td>\n",
       "      <td>-0.106916</td>\n",
       "      <td>0.682759</td>\n",
       "      <td>0.605200</td>\n",
       "      <td>-0.118157</td>\n",
       "      <td>0.415559</td>\n",
       "      <td>0.104622</td>\n",
       "      <td>-0.189974</td>\n",
       "      <td>-0.901814</td>\n",
       "      <td>1.663536</td>\n",
       "      <td>-0.843183</td>\n",
       "    </tr>\n",
       "    <tr>\n",
       "      <th>4</th>\n",
       "      <td>0.0</td>\n",
       "      <td>0.0</td>\n",
       "      <td>0.0</td>\n",
       "      <td>0.0</td>\n",
       "      <td>0.0</td>\n",
       "      <td>0.0</td>\n",
       "      <td>0.0</td>\n",
       "      <td>0.0</td>\n",
       "      <td>0.0</td>\n",
       "      <td>0.0</td>\n",
       "      <td>...</td>\n",
       "      <td>-0.106916</td>\n",
       "      <td>-0.246877</td>\n",
       "      <td>0.107868</td>\n",
       "      <td>-0.118157</td>\n",
       "      <td>-0.376856</td>\n",
       "      <td>-0.310579</td>\n",
       "      <td>-0.177418</td>\n",
       "      <td>-0.824224</td>\n",
       "      <td>1.032852</td>\n",
       "      <td>0.434849</td>\n",
       "    </tr>\n",
       "  </tbody>\n",
       "</table>\n",
       "<p>5 rows × 21048 columns</p>\n",
       "</div>"
      ],
      "text/plain": [
       "     0    1    2    3    4    5    6    7    8    9  ...         0         1  \\\n",
       "0  0.0  0.0  0.0  0.0  0.0  0.0  0.0  0.0  0.0  0.0  ... -0.106916 -0.246877   \n",
       "1  0.0  0.0  0.0  0.0  0.0  0.0  0.0  0.0  0.0  0.0  ... -0.106916 -0.246877   \n",
       "2  0.0  0.0  0.0  0.0  0.0  0.0  0.0  0.0  0.0  0.0  ... -0.106916 -0.246877   \n",
       "3  0.0  0.0  0.0  0.0  0.0  0.0  0.0  0.0  0.0  0.0  ... -0.106916  0.682759   \n",
       "4  0.0  0.0  0.0  0.0  0.0  0.0  0.0  0.0  0.0  0.0  ... -0.106916 -0.246877   \n",
       "\n",
       "          2         3         4         5         6         7         8  \\\n",
       "0 -0.140798 -0.118157 -0.376856 -0.102978 -0.177493 -0.315577  0.203004   \n",
       "1  0.107868 -0.118157 -0.376856 -0.310579 -0.177558 -0.177639  0.468555   \n",
       "2 -0.140798 -0.118157 -0.376856 -0.102978 -0.177445  0.287901  0.468555   \n",
       "3  0.605200 -0.118157  0.415559  0.104622 -0.189974 -0.901814  1.663536   \n",
       "4  0.107868 -0.118157 -0.376856 -0.310579 -0.177418 -0.824224  1.032852   \n",
       "\n",
       "          9  \n",
       "0  0.811566  \n",
       "1 -0.768046  \n",
       "2 -0.768046  \n",
       "3 -0.843183  \n",
       "4  0.434849  \n",
       "\n",
       "[5 rows x 21048 columns]"
      ]
     },
     "execution_count": 44,
     "metadata": {},
     "output_type": "execute_result"
    }
   ],
   "source": [
    "df_test.head()"
   ]
  },
  {
   "cell_type": "code",
   "execution_count": 45,
   "id": "450dd870",
   "metadata": {
    "execution": {
     "iopub.execute_input": "2024-01-18T09:27:02.083620Z",
     "iopub.status.busy": "2024-01-18T09:27:02.083145Z",
     "iopub.status.idle": "2024-01-18T09:27:02.252818Z",
     "shell.execute_reply": "2024-01-18T09:27:02.251507Z"
    },
    "papermill": {
     "duration": 0.210773,
     "end_time": "2024-01-18T09:27:02.255558",
     "exception": false,
     "start_time": "2024-01-18T09:27:02.044785",
     "status": "completed"
    },
    "tags": []
   },
   "outputs": [],
   "source": [
    "df=pd.DataFrame(df)\n",
    "df_test=pd.DataFrame(df_test)"
   ]
  },
  {
   "cell_type": "code",
   "execution_count": 46,
   "id": "b33b19b8",
   "metadata": {
    "execution": {
     "iopub.execute_input": "2024-01-18T09:27:02.316844Z",
     "iopub.status.busy": "2024-01-18T09:27:02.316401Z",
     "iopub.status.idle": "2024-01-18T09:27:02.324517Z",
     "shell.execute_reply": "2024-01-18T09:27:02.323384Z"
    },
    "papermill": {
     "duration": 0.041738,
     "end_time": "2024-01-18T09:27:02.326943",
     "exception": false,
     "start_time": "2024-01-18T09:27:02.285205",
     "status": "completed"
    },
    "tags": []
   },
   "outputs": [
    {
     "data": {
      "text/plain": [
       "Index([0, 1, 2, 3, 4, 5, 6, 7, 8, 9,\n",
       "       ...\n",
       "       0, 1, 2, 3, 4, 5, 6, 7, 8, 9],\n",
       "      dtype='int64', length=21048)"
      ]
     },
     "execution_count": 46,
     "metadata": {},
     "output_type": "execute_result"
    }
   ],
   "source": [
    "df.columns"
   ]
  },
  {
   "cell_type": "code",
   "execution_count": 47,
   "id": "14fa5be1",
   "metadata": {
    "execution": {
     "iopub.execute_input": "2024-01-18T09:27:02.389279Z",
     "iopub.status.busy": "2024-01-18T09:27:02.388862Z",
     "iopub.status.idle": "2024-01-18T09:27:03.036582Z",
     "shell.execute_reply": "2024-01-18T09:27:03.035365Z"
    },
    "papermill": {
     "duration": 0.682023,
     "end_time": "2024-01-18T09:27:03.039480",
     "exception": false,
     "start_time": "2024-01-18T09:27:02.357457",
     "status": "completed"
    },
    "tags": []
   },
   "outputs": [
    {
     "data": {
      "text/plain": [
       "Index(['0', '1', '2', '3', '4', '5', '6', '7', '8', '9',\n",
       "       ...\n",
       "       '0', '1', '2', '3', '4', '5', '6', '7', '8', '9'],\n",
       "      dtype='object', length=21048)"
      ]
     },
     "execution_count": 47,
     "metadata": {},
     "output_type": "execute_result"
    }
   ],
   "source": [
    "df.columns=df.columns.astype(str)\n",
    "df_test.columns=df_test.columns.astype(str)\n",
    "df.head()\n",
    "df.columns"
   ]
  },
  {
   "cell_type": "code",
   "execution_count": 48,
   "id": "802ac0a1",
   "metadata": {
    "execution": {
     "iopub.execute_input": "2024-01-18T09:27:03.100698Z",
     "iopub.status.busy": "2024-01-18T09:27:03.100260Z",
     "iopub.status.idle": "2024-01-18T09:27:03.117257Z",
     "shell.execute_reply": "2024-01-18T09:27:03.115995Z"
    },
    "papermill": {
     "duration": 0.0508,
     "end_time": "2024-01-18T09:27:03.120189",
     "exception": false,
     "start_time": "2024-01-18T09:27:03.069389",
     "status": "completed"
    },
    "tags": []
   },
   "outputs": [
    {
     "data": {
      "text/html": [
       "<style>#sk-container-id-1 {color: black;background-color: white;}#sk-container-id-1 pre{padding: 0;}#sk-container-id-1 div.sk-toggleable {background-color: white;}#sk-container-id-1 label.sk-toggleable__label {cursor: pointer;display: block;width: 100%;margin-bottom: 0;padding: 0.3em;box-sizing: border-box;text-align: center;}#sk-container-id-1 label.sk-toggleable__label-arrow:before {content: \"▸\";float: left;margin-right: 0.25em;color: #696969;}#sk-container-id-1 label.sk-toggleable__label-arrow:hover:before {color: black;}#sk-container-id-1 div.sk-estimator:hover label.sk-toggleable__label-arrow:before {color: black;}#sk-container-id-1 div.sk-toggleable__content {max-height: 0;max-width: 0;overflow: hidden;text-align: left;background-color: #f0f8ff;}#sk-container-id-1 div.sk-toggleable__content pre {margin: 0.2em;color: black;border-radius: 0.25em;background-color: #f0f8ff;}#sk-container-id-1 input.sk-toggleable__control:checked~div.sk-toggleable__content {max-height: 200px;max-width: 100%;overflow: auto;}#sk-container-id-1 input.sk-toggleable__control:checked~label.sk-toggleable__label-arrow:before {content: \"▾\";}#sk-container-id-1 div.sk-estimator input.sk-toggleable__control:checked~label.sk-toggleable__label {background-color: #d4ebff;}#sk-container-id-1 div.sk-label input.sk-toggleable__control:checked~label.sk-toggleable__label {background-color: #d4ebff;}#sk-container-id-1 input.sk-hidden--visually {border: 0;clip: rect(1px 1px 1px 1px);clip: rect(1px, 1px, 1px, 1px);height: 1px;margin: -1px;overflow: hidden;padding: 0;position: absolute;width: 1px;}#sk-container-id-1 div.sk-estimator {font-family: monospace;background-color: #f0f8ff;border: 1px dotted black;border-radius: 0.25em;box-sizing: border-box;margin-bottom: 0.5em;}#sk-container-id-1 div.sk-estimator:hover {background-color: #d4ebff;}#sk-container-id-1 div.sk-parallel-item::after {content: \"\";width: 100%;border-bottom: 1px solid gray;flex-grow: 1;}#sk-container-id-1 div.sk-label:hover label.sk-toggleable__label {background-color: #d4ebff;}#sk-container-id-1 div.sk-serial::before {content: \"\";position: absolute;border-left: 1px solid gray;box-sizing: border-box;top: 0;bottom: 0;left: 50%;z-index: 0;}#sk-container-id-1 div.sk-serial {display: flex;flex-direction: column;align-items: center;background-color: white;padding-right: 0.2em;padding-left: 0.2em;position: relative;}#sk-container-id-1 div.sk-item {position: relative;z-index: 1;}#sk-container-id-1 div.sk-parallel {display: flex;align-items: stretch;justify-content: center;background-color: white;position: relative;}#sk-container-id-1 div.sk-item::before, #sk-container-id-1 div.sk-parallel-item::before {content: \"\";position: absolute;border-left: 1px solid gray;box-sizing: border-box;top: 0;bottom: 0;left: 50%;z-index: -1;}#sk-container-id-1 div.sk-parallel-item {display: flex;flex-direction: column;z-index: 1;position: relative;background-color: white;}#sk-container-id-1 div.sk-parallel-item:first-child::after {align-self: flex-end;width: 50%;}#sk-container-id-1 div.sk-parallel-item:last-child::after {align-self: flex-start;width: 50%;}#sk-container-id-1 div.sk-parallel-item:only-child::after {width: 0;}#sk-container-id-1 div.sk-dashed-wrapped {border: 1px dashed gray;margin: 0 0.4em 0.5em 0.4em;box-sizing: border-box;padding-bottom: 0.4em;background-color: white;}#sk-container-id-1 div.sk-label label {font-family: monospace;font-weight: bold;display: inline-block;line-height: 1.2em;}#sk-container-id-1 div.sk-label-container {text-align: center;}#sk-container-id-1 div.sk-container {/* jupyter's `normalize.less` sets `[hidden] { display: none; }` but bootstrap.min.css set `[hidden] { display: none !important; }` so we also need the `!important` here to be able to override the default hidden behavior on the sphinx rendered scikit-learn.org. See: https://github.com/scikit-learn/scikit-learn/issues/21755 */display: inline-block !important;position: relative;}#sk-container-id-1 div.sk-text-repr-fallback {display: none;}</style><div id=\"sk-container-id-1\" class=\"sk-top-container\"><div class=\"sk-text-repr-fallback\"><pre>DummyClassifier(strategy=&#x27;stratified&#x27;)</pre><b>In a Jupyter environment, please rerun this cell to show the HTML representation or trust the notebook. <br />On GitHub, the HTML representation is unable to render, please try loading this page with nbviewer.org.</b></div><div class=\"sk-container\" hidden><div class=\"sk-item\"><div class=\"sk-estimator sk-toggleable\"><input class=\"sk-toggleable__control sk-hidden--visually\" id=\"sk-estimator-id-1\" type=\"checkbox\" checked><label for=\"sk-estimator-id-1\" class=\"sk-toggleable__label sk-toggleable__label-arrow\">DummyClassifier</label><div class=\"sk-toggleable__content\"><pre>DummyClassifier(strategy=&#x27;stratified&#x27;)</pre></div></div></div></div></div>"
      ],
      "text/plain": [
       "DummyClassifier(strategy='stratified')"
      ]
     },
     "execution_count": 48,
     "metadata": {},
     "output_type": "execute_result"
    }
   ],
   "source": [
    "from sklearn.dummy import DummyClassifier\n",
    "from sklearn.metrics import accuracy_score, classification_report\n",
    "dummy_classifier = DummyClassifier(strategy='stratified')  # Other strategies: 'uniform', 'most_frequent', 'constant'\n",
    "dummy_classifier.fit(df, y)"
   ]
  },
  {
   "cell_type": "code",
   "execution_count": 49,
   "id": "c920afac",
   "metadata": {
    "execution": {
     "iopub.execute_input": "2024-01-18T09:27:03.183001Z",
     "iopub.status.busy": "2024-01-18T09:27:03.182595Z",
     "iopub.status.idle": "2024-01-18T09:27:03.193827Z",
     "shell.execute_reply": "2024-01-18T09:27:03.192796Z"
    },
    "papermill": {
     "duration": 0.045747,
     "end_time": "2024-01-18T09:27:03.196463",
     "exception": false,
     "start_time": "2024-01-18T09:27:03.150716",
     "status": "completed"
    },
    "tags": []
   },
   "outputs": [],
   "source": [
    "y_pred = dummy_classifier.predict(df)"
   ]
  },
  {
   "cell_type": "code",
   "execution_count": 50,
   "id": "85968a74",
   "metadata": {
    "execution": {
     "iopub.execute_input": "2024-01-18T09:27:03.258271Z",
     "iopub.status.busy": "2024-01-18T09:27:03.257659Z",
     "iopub.status.idle": "2024-01-18T09:27:03.292958Z",
     "shell.execute_reply": "2024-01-18T09:27:03.291503Z"
    },
    "papermill": {
     "duration": 0.069158,
     "end_time": "2024-01-18T09:27:03.295899",
     "exception": false,
     "start_time": "2024-01-18T09:27:03.226741",
     "status": "completed"
    },
    "tags": []
   },
   "outputs": [
    {
     "name": "stdout",
     "output_type": "stream",
     "text": [
      "              precision    recall  f1-score   support\n",
      "\n",
      "           0       0.09      0.09      0.09      1272\n",
      "           1       0.00      0.00      0.00       210\n",
      "           2       0.01      0.01      0.01       174\n",
      "           3       0.04      0.04      0.04       368\n",
      "           4       0.10      0.10      0.10      1241\n",
      "           5       0.76      0.75      0.76     10369\n",
      "\n",
      "    accuracy                           0.59     13634\n",
      "   macro avg       0.17      0.17      0.17     13634\n",
      "weighted avg       0.59      0.59      0.59     13634\n",
      "\n"
     ]
    }
   ],
   "source": [
    "accuracy = accuracy_score(y, y_pred)\n",
    "print(classification_report(y, y_pred))"
   ]
  },
  {
   "cell_type": "code",
   "execution_count": 51,
   "id": "d12a39a0",
   "metadata": {
    "execution": {
     "iopub.execute_input": "2024-01-18T09:27:03.357789Z",
     "iopub.status.busy": "2024-01-18T09:27:03.357313Z",
     "iopub.status.idle": "2024-01-18T09:27:03.365676Z",
     "shell.execute_reply": "2024-01-18T09:27:03.364432Z"
    },
    "papermill": {
     "duration": 0.042437,
     "end_time": "2024-01-18T09:27:03.368182",
     "exception": false,
     "start_time": "2024-01-18T09:27:03.325745",
     "status": "completed"
    },
    "tags": []
   },
   "outputs": [
    {
     "data": {
      "text/plain": [
       "0.5921959806366437"
      ]
     },
     "execution_count": 51,
     "metadata": {},
     "output_type": "execute_result"
    }
   ],
   "source": [
    "accuracy"
   ]
  },
  {
   "cell_type": "code",
   "execution_count": 52,
   "id": "4b3d8ff7",
   "metadata": {
    "execution": {
     "iopub.execute_input": "2024-01-18T09:27:03.430606Z",
     "iopub.status.busy": "2024-01-18T09:27:03.430151Z",
     "iopub.status.idle": "2024-01-18T09:27:03.435242Z",
     "shell.execute_reply": "2024-01-18T09:27:03.433979Z"
    },
    "papermill": {
     "duration": 0.039387,
     "end_time": "2024-01-18T09:27:03.437638",
     "exception": false,
     "start_time": "2024-01-18T09:27:03.398251",
     "status": "completed"
    },
    "tags": []
   },
   "outputs": [],
   "source": [
    "from sklearn.feature_selection import SelectPercentile, chi2"
   ]
  },
  {
   "cell_type": "code",
   "execution_count": 53,
   "id": "fd6bfc58",
   "metadata": {
    "execution": {
     "iopub.execute_input": "2024-01-18T09:27:03.501257Z",
     "iopub.status.busy": "2024-01-18T09:27:03.500839Z",
     "iopub.status.idle": "2024-01-18T09:27:03.505595Z",
     "shell.execute_reply": "2024-01-18T09:27:03.504578Z"
    },
    "papermill": {
     "duration": 0.039501,
     "end_time": "2024-01-18T09:27:03.508114",
     "exception": false,
     "start_time": "2024-01-18T09:27:03.468613",
     "status": "completed"
    },
    "tags": []
   },
   "outputs": [],
   "source": [
    "# Feature selection using SelectPercentile\n",
    "#percentile = 20  # Select top 20% of features\n",
    "#selector = SelectPercentile(chi2, percentile=percentile)\n",
    "#X_train_selected = selector.fit_transform(df, y)\n",
    "#df = selector.transform(df)\n",
    "#df_test = selector.transform(df_test)"
   ]
  },
  {
   "cell_type": "code",
   "execution_count": 54,
   "id": "4518e9a1",
   "metadata": {
    "execution": {
     "iopub.execute_input": "2024-01-18T09:27:03.570886Z",
     "iopub.status.busy": "2024-01-18T09:27:03.569560Z",
     "iopub.status.idle": "2024-01-18T09:27:03.577957Z",
     "shell.execute_reply": "2024-01-18T09:27:03.576686Z"
    },
    "papermill": {
     "duration": 0.042299,
     "end_time": "2024-01-18T09:27:03.580631",
     "exception": false,
     "start_time": "2024-01-18T09:27:03.538332",
     "status": "completed"
    },
    "tags": []
   },
   "outputs": [
    {
     "data": {
      "text/plain": [
       "((13634, 21048), (4546, 21048))"
      ]
     },
     "execution_count": 54,
     "metadata": {},
     "output_type": "execute_result"
    }
   ],
   "source": [
    "df.shape, df_test.shape"
   ]
  },
  {
   "cell_type": "code",
   "execution_count": 55,
   "id": "bb41fd75",
   "metadata": {
    "execution": {
     "iopub.execute_input": "2024-01-18T09:27:03.643481Z",
     "iopub.status.busy": "2024-01-18T09:27:03.643056Z",
     "iopub.status.idle": "2024-01-18T09:27:03.762365Z",
     "shell.execute_reply": "2024-01-18T09:27:03.760984Z"
    },
    "papermill": {
     "duration": 0.153742,
     "end_time": "2024-01-18T09:27:03.765355",
     "exception": false,
     "start_time": "2024-01-18T09:27:03.611613",
     "status": "completed"
    },
    "tags": []
   },
   "outputs": [],
   "source": [
    "from sklearn.ensemble import RandomForestClassifier\n",
    "from sklearn.model_selection import GridSearchCV\n",
    "\n",
    "# Assuming X_train and y_train are your feature and target matrices\n",
    "#param_grid_rn = {\n",
    "    #'n_estimators': [5,10,15, 20],\n",
    "    #'max_depth': [5,10,15, 20],\n",
    "    #'min_samples_split': [2, 3, 4, 5],\n",
    "    #'min_samples_leaf': [3, 4, 5],\n",
    "    #'max_features': ['sqrt', 'auto']\n",
    "#}\n",
    "\n",
    "#rf = RandomForestClassifier(random_state=42)\n",
    "\n",
    "#grid_search1 = GridSearchCV(estimator=rf, param_grid=param_grid_rn, cv=5, scoring='accuracy')\n",
    "#grid_search1.fit(df, y)\n",
    "\n",
    "#best_params1 = grid_search1.best_params_"
   ]
  },
  {
   "cell_type": "code",
   "execution_count": 56,
   "id": "c7ec02fb",
   "metadata": {
    "execution": {
     "iopub.execute_input": "2024-01-18T09:27:03.827808Z",
     "iopub.status.busy": "2024-01-18T09:27:03.827119Z",
     "iopub.status.idle": "2024-01-18T09:27:03.831508Z",
     "shell.execute_reply": "2024-01-18T09:27:03.830696Z"
    },
    "papermill": {
     "duration": 0.038193,
     "end_time": "2024-01-18T09:27:03.833885",
     "exception": false,
     "start_time": "2024-01-18T09:27:03.795692",
     "status": "completed"
    },
    "tags": []
   },
   "outputs": [],
   "source": [
    "#param_grid_logistic = [    \n",
    "    #{'penalty' : ['l2','l1'],\n",
    "    #'C' : [0.1,0.01,0.001],\n",
    "    #'solver' : ['lbfgs','newton-cg','liblinear','saga'],\n",
    "    #'max_iter' : [200,500,1000],\n",
    "   # }\n",
    "#]\n",
    "\n",
    "#log = LogisticRegression(random_state=42)\n",
    "\n",
    "#grid_search2 = GridSearchCV(estimator=log, param_grid=param_grid_logistic, cv=5, n_jobs=-1,verbose=2, scoring='accuracy')\n",
    "#grid_search2.fit(df, y)\n",
    "\n",
    "#best_params2 = grid_search2.best_params_"
   ]
  },
  {
   "cell_type": "code",
   "execution_count": 57,
   "id": "51275a27",
   "metadata": {
    "execution": {
     "iopub.execute_input": "2024-01-18T09:27:03.897431Z",
     "iopub.status.busy": "2024-01-18T09:27:03.896736Z",
     "iopub.status.idle": "2024-01-18T09:27:03.900852Z",
     "shell.execute_reply": "2024-01-18T09:27:03.900005Z"
    },
    "papermill": {
     "duration": 0.037931,
     "end_time": "2024-01-18T09:27:03.903031",
     "exception": false,
     "start_time": "2024-01-18T09:27:03.865100",
     "status": "completed"
    },
    "tags": []
   },
   "outputs": [],
   "source": [
    "#best_params1, best_params2\n",
    "#({'max_depth': 20,\n",
    " # 'max_features': 'sqrt',\n",
    " # 'min_samples_leaf': 5,\n",
    "  #'min_samples_split': 2,\n",
    "  #'n_estimators': 5},\n",
    " #{'C': 0.1, 'max_iter': 200, 'penalty': 'l2', 'solver': 'lbfgs'})"
   ]
  },
  {
   "cell_type": "code",
   "execution_count": 58,
   "id": "eaca22e3",
   "metadata": {
    "execution": {
     "iopub.execute_input": "2024-01-18T09:27:03.967182Z",
     "iopub.status.busy": "2024-01-18T09:27:03.966471Z",
     "iopub.status.idle": "2024-01-18T09:29:15.175347Z",
     "shell.execute_reply": "2024-01-18T09:29:15.173630Z"
    },
    "papermill": {
     "duration": 131.290471,
     "end_time": "2024-01-18T09:29:15.225034",
     "exception": false,
     "start_time": "2024-01-18T09:27:03.934563",
     "status": "completed"
    },
    "tags": []
   },
   "outputs": [
    {
     "name": "stderr",
     "output_type": "stream",
     "text": [
      "/opt/conda/lib/python3.10/site-packages/sklearn/utils/validation.py:768: UserWarning: pandas.DataFrame with sparse columns found.It will be converted to a dense numpy array.\n",
      "  warnings.warn(\n"
     ]
    },
    {
     "data": {
      "text/html": [
       "<style>#sk-container-id-2 {color: black;background-color: white;}#sk-container-id-2 pre{padding: 0;}#sk-container-id-2 div.sk-toggleable {background-color: white;}#sk-container-id-2 label.sk-toggleable__label {cursor: pointer;display: block;width: 100%;margin-bottom: 0;padding: 0.3em;box-sizing: border-box;text-align: center;}#sk-container-id-2 label.sk-toggleable__label-arrow:before {content: \"▸\";float: left;margin-right: 0.25em;color: #696969;}#sk-container-id-2 label.sk-toggleable__label-arrow:hover:before {color: black;}#sk-container-id-2 div.sk-estimator:hover label.sk-toggleable__label-arrow:before {color: black;}#sk-container-id-2 div.sk-toggleable__content {max-height: 0;max-width: 0;overflow: hidden;text-align: left;background-color: #f0f8ff;}#sk-container-id-2 div.sk-toggleable__content pre {margin: 0.2em;color: black;border-radius: 0.25em;background-color: #f0f8ff;}#sk-container-id-2 input.sk-toggleable__control:checked~div.sk-toggleable__content {max-height: 200px;max-width: 100%;overflow: auto;}#sk-container-id-2 input.sk-toggleable__control:checked~label.sk-toggleable__label-arrow:before {content: \"▾\";}#sk-container-id-2 div.sk-estimator input.sk-toggleable__control:checked~label.sk-toggleable__label {background-color: #d4ebff;}#sk-container-id-2 div.sk-label input.sk-toggleable__control:checked~label.sk-toggleable__label {background-color: #d4ebff;}#sk-container-id-2 input.sk-hidden--visually {border: 0;clip: rect(1px 1px 1px 1px);clip: rect(1px, 1px, 1px, 1px);height: 1px;margin: -1px;overflow: hidden;padding: 0;position: absolute;width: 1px;}#sk-container-id-2 div.sk-estimator {font-family: monospace;background-color: #f0f8ff;border: 1px dotted black;border-radius: 0.25em;box-sizing: border-box;margin-bottom: 0.5em;}#sk-container-id-2 div.sk-estimator:hover {background-color: #d4ebff;}#sk-container-id-2 div.sk-parallel-item::after {content: \"\";width: 100%;border-bottom: 1px solid gray;flex-grow: 1;}#sk-container-id-2 div.sk-label:hover label.sk-toggleable__label {background-color: #d4ebff;}#sk-container-id-2 div.sk-serial::before {content: \"\";position: absolute;border-left: 1px solid gray;box-sizing: border-box;top: 0;bottom: 0;left: 50%;z-index: 0;}#sk-container-id-2 div.sk-serial {display: flex;flex-direction: column;align-items: center;background-color: white;padding-right: 0.2em;padding-left: 0.2em;position: relative;}#sk-container-id-2 div.sk-item {position: relative;z-index: 1;}#sk-container-id-2 div.sk-parallel {display: flex;align-items: stretch;justify-content: center;background-color: white;position: relative;}#sk-container-id-2 div.sk-item::before, #sk-container-id-2 div.sk-parallel-item::before {content: \"\";position: absolute;border-left: 1px solid gray;box-sizing: border-box;top: 0;bottom: 0;left: 50%;z-index: -1;}#sk-container-id-2 div.sk-parallel-item {display: flex;flex-direction: column;z-index: 1;position: relative;background-color: white;}#sk-container-id-2 div.sk-parallel-item:first-child::after {align-self: flex-end;width: 50%;}#sk-container-id-2 div.sk-parallel-item:last-child::after {align-self: flex-start;width: 50%;}#sk-container-id-2 div.sk-parallel-item:only-child::after {width: 0;}#sk-container-id-2 div.sk-dashed-wrapped {border: 1px dashed gray;margin: 0 0.4em 0.5em 0.4em;box-sizing: border-box;padding-bottom: 0.4em;background-color: white;}#sk-container-id-2 div.sk-label label {font-family: monospace;font-weight: bold;display: inline-block;line-height: 1.2em;}#sk-container-id-2 div.sk-label-container {text-align: center;}#sk-container-id-2 div.sk-container {/* jupyter's `normalize.less` sets `[hidden] { display: none; }` but bootstrap.min.css set `[hidden] { display: none !important; }` so we also need the `!important` here to be able to override the default hidden behavior on the sphinx rendered scikit-learn.org. See: https://github.com/scikit-learn/scikit-learn/issues/21755 */display: inline-block !important;position: relative;}#sk-container-id-2 div.sk-text-repr-fallback {display: none;}</style><div id=\"sk-container-id-2\" class=\"sk-top-container\"><div class=\"sk-text-repr-fallback\"><pre>LogisticRegression(C=0.1, max_iter=200, random_state=42)</pre><b>In a Jupyter environment, please rerun this cell to show the HTML representation or trust the notebook. <br />On GitHub, the HTML representation is unable to render, please try loading this page with nbviewer.org.</b></div><div class=\"sk-container\" hidden><div class=\"sk-item\"><div class=\"sk-estimator sk-toggleable\"><input class=\"sk-toggleable__control sk-hidden--visually\" id=\"sk-estimator-id-2\" type=\"checkbox\" checked><label for=\"sk-estimator-id-2\" class=\"sk-toggleable__label sk-toggleable__label-arrow\">LogisticRegression</label><div class=\"sk-toggleable__content\"><pre>LogisticRegression(C=0.1, max_iter=200, random_state=42)</pre></div></div></div></div></div>"
      ],
      "text/plain": [
       "LogisticRegression(C=0.1, max_iter=200, random_state=42)"
      ]
     },
     "execution_count": 58,
     "metadata": {},
     "output_type": "execute_result"
    }
   ],
   "source": [
    "from sklearn.linear_model import LogisticRegression\n",
    "\n",
    "lr = LogisticRegression(C= 0.1, max_iter= 200, penalty='l2', solver= 'lbfgs', random_state=42)\n",
    "\n",
    "lr.fit(df, y)"
   ]
  },
  {
   "cell_type": "code",
   "execution_count": 59,
   "id": "2a665f34",
   "metadata": {
    "execution": {
     "iopub.execute_input": "2024-01-18T09:29:15.299916Z",
     "iopub.status.busy": "2024-01-18T09:29:15.299510Z",
     "iopub.status.idle": "2024-01-18T09:29:18.610389Z",
     "shell.execute_reply": "2024-01-18T09:29:18.609263Z"
    },
    "papermill": {
     "duration": 3.344902,
     "end_time": "2024-01-18T09:29:18.613111",
     "exception": false,
     "start_time": "2024-01-18T09:29:15.268209",
     "status": "completed"
    },
    "tags": []
   },
   "outputs": [
    {
     "name": "stderr",
     "output_type": "stream",
     "text": [
      "/opt/conda/lib/python3.10/site-packages/sklearn/utils/validation.py:768: UserWarning: pandas.DataFrame with sparse columns found.It will be converted to a dense numpy array.\n",
      "  warnings.warn(\n"
     ]
    },
    {
     "data": {
      "text/html": [
       "<style>#sk-container-id-3 {color: black;background-color: white;}#sk-container-id-3 pre{padding: 0;}#sk-container-id-3 div.sk-toggleable {background-color: white;}#sk-container-id-3 label.sk-toggleable__label {cursor: pointer;display: block;width: 100%;margin-bottom: 0;padding: 0.3em;box-sizing: border-box;text-align: center;}#sk-container-id-3 label.sk-toggleable__label-arrow:before {content: \"▸\";float: left;margin-right: 0.25em;color: #696969;}#sk-container-id-3 label.sk-toggleable__label-arrow:hover:before {color: black;}#sk-container-id-3 div.sk-estimator:hover label.sk-toggleable__label-arrow:before {color: black;}#sk-container-id-3 div.sk-toggleable__content {max-height: 0;max-width: 0;overflow: hidden;text-align: left;background-color: #f0f8ff;}#sk-container-id-3 div.sk-toggleable__content pre {margin: 0.2em;color: black;border-radius: 0.25em;background-color: #f0f8ff;}#sk-container-id-3 input.sk-toggleable__control:checked~div.sk-toggleable__content {max-height: 200px;max-width: 100%;overflow: auto;}#sk-container-id-3 input.sk-toggleable__control:checked~label.sk-toggleable__label-arrow:before {content: \"▾\";}#sk-container-id-3 div.sk-estimator input.sk-toggleable__control:checked~label.sk-toggleable__label {background-color: #d4ebff;}#sk-container-id-3 div.sk-label input.sk-toggleable__control:checked~label.sk-toggleable__label {background-color: #d4ebff;}#sk-container-id-3 input.sk-hidden--visually {border: 0;clip: rect(1px 1px 1px 1px);clip: rect(1px, 1px, 1px, 1px);height: 1px;margin: -1px;overflow: hidden;padding: 0;position: absolute;width: 1px;}#sk-container-id-3 div.sk-estimator {font-family: monospace;background-color: #f0f8ff;border: 1px dotted black;border-radius: 0.25em;box-sizing: border-box;margin-bottom: 0.5em;}#sk-container-id-3 div.sk-estimator:hover {background-color: #d4ebff;}#sk-container-id-3 div.sk-parallel-item::after {content: \"\";width: 100%;border-bottom: 1px solid gray;flex-grow: 1;}#sk-container-id-3 div.sk-label:hover label.sk-toggleable__label {background-color: #d4ebff;}#sk-container-id-3 div.sk-serial::before {content: \"\";position: absolute;border-left: 1px solid gray;box-sizing: border-box;top: 0;bottom: 0;left: 50%;z-index: 0;}#sk-container-id-3 div.sk-serial {display: flex;flex-direction: column;align-items: center;background-color: white;padding-right: 0.2em;padding-left: 0.2em;position: relative;}#sk-container-id-3 div.sk-item {position: relative;z-index: 1;}#sk-container-id-3 div.sk-parallel {display: flex;align-items: stretch;justify-content: center;background-color: white;position: relative;}#sk-container-id-3 div.sk-item::before, #sk-container-id-3 div.sk-parallel-item::before {content: \"\";position: absolute;border-left: 1px solid gray;box-sizing: border-box;top: 0;bottom: 0;left: 50%;z-index: -1;}#sk-container-id-3 div.sk-parallel-item {display: flex;flex-direction: column;z-index: 1;position: relative;background-color: white;}#sk-container-id-3 div.sk-parallel-item:first-child::after {align-self: flex-end;width: 50%;}#sk-container-id-3 div.sk-parallel-item:last-child::after {align-self: flex-start;width: 50%;}#sk-container-id-3 div.sk-parallel-item:only-child::after {width: 0;}#sk-container-id-3 div.sk-dashed-wrapped {border: 1px dashed gray;margin: 0 0.4em 0.5em 0.4em;box-sizing: border-box;padding-bottom: 0.4em;background-color: white;}#sk-container-id-3 div.sk-label label {font-family: monospace;font-weight: bold;display: inline-block;line-height: 1.2em;}#sk-container-id-3 div.sk-label-container {text-align: center;}#sk-container-id-3 div.sk-container {/* jupyter's `normalize.less` sets `[hidden] { display: none; }` but bootstrap.min.css set `[hidden] { display: none !important; }` so we also need the `!important` here to be able to override the default hidden behavior on the sphinx rendered scikit-learn.org. See: https://github.com/scikit-learn/scikit-learn/issues/21755 */display: inline-block !important;position: relative;}#sk-container-id-3 div.sk-text-repr-fallback {display: none;}</style><div id=\"sk-container-id-3\" class=\"sk-top-container\"><div class=\"sk-text-repr-fallback\"><pre>RandomForestClassifier(max_depth=20, min_samples_leaf=5, n_estimators=5,\n",
       "                       random_state=42)</pre><b>In a Jupyter environment, please rerun this cell to show the HTML representation or trust the notebook. <br />On GitHub, the HTML representation is unable to render, please try loading this page with nbviewer.org.</b></div><div class=\"sk-container\" hidden><div class=\"sk-item\"><div class=\"sk-estimator sk-toggleable\"><input class=\"sk-toggleable__control sk-hidden--visually\" id=\"sk-estimator-id-3\" type=\"checkbox\" checked><label for=\"sk-estimator-id-3\" class=\"sk-toggleable__label sk-toggleable__label-arrow\">RandomForestClassifier</label><div class=\"sk-toggleable__content\"><pre>RandomForestClassifier(max_depth=20, min_samples_leaf=5, n_estimators=5,\n",
       "                       random_state=42)</pre></div></div></div></div></div>"
      ],
      "text/plain": [
       "RandomForestClassifier(max_depth=20, min_samples_leaf=5, n_estimators=5,\n",
       "                       random_state=42)"
      ]
     },
     "execution_count": 59,
     "metadata": {},
     "output_type": "execute_result"
    }
   ],
   "source": [
    "from sklearn.ensemble import RandomForestClassifier\n",
    "r=RandomForestClassifier(max_depth=20, n_estimators=5, min_samples_split=2, min_samples_leaf=5, max_features=\"sqrt\", random_state=42)\n",
    "r.fit(df, y)"
   ]
  },
  {
   "cell_type": "code",
   "execution_count": 60,
   "id": "546af45a",
   "metadata": {
    "execution": {
     "iopub.execute_input": "2024-01-18T09:29:18.679261Z",
     "iopub.status.busy": "2024-01-18T09:29:18.678176Z",
     "iopub.status.idle": "2024-01-18T09:29:18.683179Z",
     "shell.execute_reply": "2024-01-18T09:29:18.682398Z"
    },
    "papermill": {
     "duration": 0.040423,
     "end_time": "2024-01-18T09:29:18.685470",
     "exception": false,
     "start_time": "2024-01-18T09:29:18.645047",
     "status": "completed"
    },
    "tags": []
   },
   "outputs": [],
   "source": [
    "#from xgboost import XGBClassifier\n",
    "\n",
    "#xgb = XGBClassifier(learning_rate=0.1,n_estimators=10,max_depth=20)\n",
    "\n",
    "#xgb.fit(df, y)"
   ]
  },
  {
   "cell_type": "code",
   "execution_count": 61,
   "id": "2b45ca55",
   "metadata": {
    "execution": {
     "iopub.execute_input": "2024-01-18T09:29:18.753099Z",
     "iopub.status.busy": "2024-01-18T09:29:18.752681Z",
     "iopub.status.idle": "2024-01-18T09:29:21.646344Z",
     "shell.execute_reply": "2024-01-18T09:29:21.644739Z"
    },
    "papermill": {
     "duration": 2.930954,
     "end_time": "2024-01-18T09:29:21.650762",
     "exception": false,
     "start_time": "2024-01-18T09:29:18.719808",
     "status": "completed"
    },
    "tags": []
   },
   "outputs": [
    {
     "name": "stderr",
     "output_type": "stream",
     "text": [
      "/opt/conda/lib/python3.10/site-packages/sklearn/utils/validation.py:768: UserWarning: pandas.DataFrame with sparse columns found.It will be converted to a dense numpy array.\n",
      "  warnings.warn(\n"
     ]
    }
   ],
   "source": [
    "y_plr=lr.predict(df)\n",
    "accuracy_log = accuracy_score(y, y_plr)"
   ]
  },
  {
   "cell_type": "code",
   "execution_count": 62,
   "id": "494e4af3",
   "metadata": {
    "execution": {
     "iopub.execute_input": "2024-01-18T09:29:21.767696Z",
     "iopub.status.busy": "2024-01-18T09:29:21.767216Z",
     "iopub.status.idle": "2024-01-18T09:29:24.413928Z",
     "shell.execute_reply": "2024-01-18T09:29:24.412747Z"
    },
    "papermill": {
     "duration": 2.701147,
     "end_time": "2024-01-18T09:29:24.416888",
     "exception": false,
     "start_time": "2024-01-18T09:29:21.715741",
     "status": "completed"
    },
    "tags": []
   },
   "outputs": [
    {
     "name": "stderr",
     "output_type": "stream",
     "text": [
      "/opt/conda/lib/python3.10/site-packages/sklearn/utils/validation.py:768: UserWarning: pandas.DataFrame with sparse columns found.It will be converted to a dense numpy array.\n",
      "  warnings.warn(\n"
     ]
    }
   ],
   "source": [
    "y_pr=r.predict(df)\n",
    "accuracy_randomforest = accuracy_score(y, y_pr)"
   ]
  },
  {
   "cell_type": "code",
   "execution_count": 63,
   "id": "c8b4c819",
   "metadata": {
    "execution": {
     "iopub.execute_input": "2024-01-18T09:29:24.482120Z",
     "iopub.status.busy": "2024-01-18T09:29:24.481709Z",
     "iopub.status.idle": "2024-01-18T09:29:24.485986Z",
     "shell.execute_reply": "2024-01-18T09:29:24.484949Z"
    },
    "papermill": {
     "duration": 0.039856,
     "end_time": "2024-01-18T09:29:24.488157",
     "exception": false,
     "start_time": "2024-01-18T09:29:24.448301",
     "status": "completed"
    },
    "tags": []
   },
   "outputs": [],
   "source": [
    "#y_pxgb=xgb.predict(df)\n",
    "#accuracy_xgb = accuracy_score(y, y_pxgb)"
   ]
  },
  {
   "cell_type": "code",
   "execution_count": 64,
   "id": "1d79cb4c",
   "metadata": {
    "execution": {
     "iopub.execute_input": "2024-01-18T09:29:24.555087Z",
     "iopub.status.busy": "2024-01-18T09:29:24.553881Z",
     "iopub.status.idle": "2024-01-18T09:29:24.561187Z",
     "shell.execute_reply": "2024-01-18T09:29:24.559870Z"
    },
    "papermill": {
     "duration": 0.044008,
     "end_time": "2024-01-18T09:29:24.563953",
     "exception": false,
     "start_time": "2024-01-18T09:29:24.519945",
     "status": "completed"
    },
    "tags": []
   },
   "outputs": [
    {
     "data": {
      "text/plain": [
       "(0.7707202581780842, 0.7614053102537773)"
      ]
     },
     "execution_count": 64,
     "metadata": {},
     "output_type": "execute_result"
    }
   ],
   "source": [
    "accuracy_log,accuracy_randomforest,#accuracy_xgb"
   ]
  },
  {
   "cell_type": "code",
   "execution_count": 65,
   "id": "8ae030fc",
   "metadata": {
    "execution": {
     "iopub.execute_input": "2024-01-18T09:29:24.628851Z",
     "iopub.status.busy": "2024-01-18T09:29:24.628130Z",
     "iopub.status.idle": "2024-01-18T09:29:24.633286Z",
     "shell.execute_reply": "2024-01-18T09:29:24.632266Z"
    },
    "papermill": {
     "duration": 0.039136,
     "end_time": "2024-01-18T09:29:24.635383",
     "exception": false,
     "start_time": "2024-01-18T09:29:24.596247",
     "status": "completed"
    },
    "tags": []
   },
   "outputs": [],
   "source": [
    "#param_grid_xgb = {\n",
    "    #'learning_rate': [0.01, 0.1, 0.2],\n",
    "    #'n_estimators': [50, 100, 200],\n",
    "    #'max_depth': [3, 5, 7],\n",
    "    #'gamma': [0, 0.1, 0.2],\n",
    "#}\n",
    "\n",
    "#xgboost = XGBClassifier(random_state=42)\n",
    "\n",
    "#grid_search3 = GridSearchCV(estimator=xgboost, param_grid=param_grid_xgb, cv=5, scoring='accuracy')\n",
    "#grid_search3.fit(df, y)\n",
    "\n",
    "#best_params3 = grid_search3.best_params_"
   ]
  },
  {
   "cell_type": "code",
   "execution_count": 66,
   "id": "1bfac4d3",
   "metadata": {
    "execution": {
     "iopub.execute_input": "2024-01-18T09:29:24.700656Z",
     "iopub.status.busy": "2024-01-18T09:29:24.700182Z",
     "iopub.status.idle": "2024-01-18T09:29:26.595432Z",
     "shell.execute_reply": "2024-01-18T09:29:26.593830Z"
    },
    "papermill": {
     "duration": 1.933522,
     "end_time": "2024-01-18T09:29:26.600589",
     "exception": false,
     "start_time": "2024-01-18T09:29:24.667067",
     "status": "completed"
    },
    "tags": []
   },
   "outputs": [
    {
     "name": "stderr",
     "output_type": "stream",
     "text": [
      "/opt/conda/lib/python3.10/site-packages/sklearn/utils/validation.py:768: UserWarning: pandas.DataFrame with sparse columns found.It will be converted to a dense numpy array.\n",
      "  warnings.warn(\n"
     ]
    }
   ],
   "source": [
    "y_pxgbtest=lr.predict(df_test)"
   ]
  },
  {
   "cell_type": "code",
   "execution_count": 67,
   "id": "1d602e1f",
   "metadata": {
    "execution": {
     "iopub.execute_input": "2024-01-18T09:29:26.723182Z",
     "iopub.status.busy": "2024-01-18T09:29:26.722460Z",
     "iopub.status.idle": "2024-01-18T09:29:26.746800Z",
     "shell.execute_reply": "2024-01-18T09:29:26.745590Z"
    },
    "papermill": {
     "duration": 0.083085,
     "end_time": "2024-01-18T09:29:26.749792",
     "exception": false,
     "start_time": "2024-01-18T09:29:26.666707",
     "status": "completed"
    },
    "tags": []
   },
   "outputs": [],
   "source": [
    "ID=[]\n",
    "for i in range (1,len(y_pxgbtest)+1):\n",
    "    ID.append(i)\n",
    "final_prediction=pd.DataFrame({\"ID\":ID,\"total_amount\":y_pxgbtest})\n",
    "final_prediction.to_csv(\"last_submission.csv\",index=False)"
   ]
  },
  {
   "cell_type": "code",
   "execution_count": null,
   "id": "a19b21ee",
   "metadata": {
    "papermill": {
     "duration": 0.032149,
     "end_time": "2024-01-18T09:29:26.816082",
     "exception": false,
     "start_time": "2024-01-18T09:29:26.783933",
     "status": "completed"
    },
    "tags": []
   },
   "outputs": [],
   "source": []
  }
 ],
 "metadata": {
  "kaggle": {
   "accelerator": "none",
   "dataSources": [
    {
     "databundleVersionId": 7452256,
     "sourceId": 67079,
     "sourceType": "competition"
    }
   ],
   "dockerImageVersionId": 30626,
   "isGpuEnabled": false,
   "isInternetEnabled": true,
   "language": "python",
   "sourceType": "notebook"
  },
  "kernelspec": {
   "display_name": "Python 3",
   "language": "python",
   "name": "python3"
  },
  "language_info": {
   "codemirror_mode": {
    "name": "ipython",
    "version": 3
   },
   "file_extension": ".py",
   "mimetype": "text/x-python",
   "name": "python",
   "nbconvert_exporter": "python",
   "pygments_lexer": "ipython3",
   "version": "3.10.12"
  },
  "papermill": {
   "default_parameters": {},
   "duration": 174.005999,
   "end_time": "2024-01-18T09:29:28.073295",
   "environment_variables": {},
   "exception": null,
   "input_path": "__notebook__.ipynb",
   "output_path": "__notebook__.ipynb",
   "parameters": {},
   "start_time": "2024-01-18T09:26:34.067296",
   "version": "2.4.0"
  }
 },
 "nbformat": 4,
 "nbformat_minor": 5
}
